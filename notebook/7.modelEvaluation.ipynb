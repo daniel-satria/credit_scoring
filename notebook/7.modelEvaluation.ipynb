{
 "cells": [
  {
   "cell_type": "markdown",
   "metadata": {},
   "source": [
    "# Model Evaluation"
   ]
  },
  {
   "cell_type": "code",
   "execution_count": 1,
   "metadata": {},
   "outputs": [],
   "source": [
    "# Load data manipulation package\n",
    "import numpy as np\n",
    "import pandas as pd\n",
    "\n",
    "# Load data visualization package\n",
    "import matplotlib.pyplot as plt\n",
    "import seaborn as sns"
   ]
  },
  {
   "cell_type": "markdown",
   "metadata": {},
   "source": [
    "## **Model Evaluation**\n",
    "---"
   ]
  },
  {
   "cell_type": "markdown",
   "metadata": {},
   "source": [
    "## **1. Model Estimation Fit**\n",
    "---"
   ]
  },
  {
   "cell_type": "markdown",
   "metadata": {},
   "source": [
    "#### **1.1 Likelihood Ratio Test**"
   ]
  },
  {
   "cell_type": "markdown",
   "metadata": {},
   "source": [
    "Uses the likelihood function through the ratio of two maximizations of it :\n",
    "1. The maximum over the possible parameter values that **assume the null hypothesis**,\n",
    "2. The maximum over the larger set of possible parameter values, **assume the alternative hypothesis is true**.\n",
    "\n",
    "**The hypotheses**:\n",
    "  - Null Hypothesis: the logit model only contains intercept $\\beta_{0}$.\n",
    "  - Alternative Hypothesis: the logit model contains $\\beta_{0}, \\beta_{1}, \\dots, \\beta_{p}$.\n",
    "    - $\\text H_{0} : \\beta = \\beta_{0}$\n",
    "    - $\\text H_{1} : \\beta = \\beta_{0}, \\beta_{1}, \\dots, \\beta_{p}$\n",
    "\n",
    "**Test statistic**:\n",
    "- The likelihood ratio (LLR):\n",
    "\n",
    "$$\n",
    "\\begin{align*}\n",
    "\\text{LLR} &= -2 \\log \\left (\\frac{\\ell_{0}}{\\ell_{1}}\\right) \\\\\n",
    "\\text{LLR} &= -2 (L_{0}-L_{1})\n",
    "\\end{align*}\n",
    "$$\n",
    "\n",
    "<br>\n",
    "\n",
    "- $L_{0}$ is the log likelihood function calculated at $\\beta_{0}$.\n",
    "- $L_{1}$ is the log likelihood function calculated at ML estimate $\\beta_{0}, \\beta_{1}, \\dots, \\beta_{p}$.\n",
    "\n",
    "**Rejection region**:\n",
    "- Reject null hypothesis ($\\text H_{0}$) if $\\text{LLR}>\\chi^{2}_\\alpha, _{\\; \\text{df}=1}$ or\n",
    "- Reject null hypothesis ($\\text H_{0}$) if $\\text{P-value}<\\alpha$."
   ]
  },
  {
   "cell_type": "markdown",
   "metadata": {},
   "source": [
    "#### **1.2 Deviance**"
   ]
  },
  {
   "cell_type": "markdown",
   "metadata": {},
   "source": [
    "The deviance is the likelihood-ratio statistic for comparing model M to the saturated model.\n",
    "\n",
    "  - Deviance:\n",
    "$$\n",
    "\\text{Deviance} = -2(L_{M}-L_{S})\n",
    "$$\n",
    "\n",
    "<br>\n",
    "\n",
    "- $L_{M}$ is the maximized log-likelihood value for a model $M$ of interest.\n",
    "- $L_{S}$ is the maximized log-likelihood value for the most complex model possible or saturated model.\n",
    "\n",
    "We can compare the models by comparing their deviances.\n",
    "- $M_{0}$ with maximized log-likelihood $L_{0}$.\n",
    "- $M_{1}$ with maximized log-likelihood $L_{1}$.\n",
    "$$\n",
    "\\text{Deviance difference} = -2(L_{0}-L_{1})\n",
    "$$\n",
    "\n",
    "<br>\n",
    "\n",
    "The difference is large when $M_{0}$ fits poorly compared with $M_{1}$.\n"
   ]
  },
  {
   "cell_type": "markdown",
   "metadata": {},
   "source": [
    "#### **1.3 AIC (Akaike Information Criterion)**"
   ]
  },
  {
   "cell_type": "markdown",
   "metadata": {},
   "source": [
    "- AIC penalizes a model for having many parameters.\n",
    "- The optimal model is the one that tends to have the maximum log likelihood.\n",
    "- That is the model that minimizes:\n",
    "\n",
    "$$\n",
    "\\text{AIC} = -2(\\text{log likelihood - number of parameters in model})\n",
    "$$\n",
    "- When comparing two models, the smaller value of AIC indicates the better model.\n"
   ]
  },
  {
   "cell_type": "markdown",
   "metadata": {},
   "source": [
    "## **2. Predictive Performance**\n",
    "---"
   ]
  },
  {
   "cell_type": "markdown",
   "metadata": {},
   "source": [
    "- A cross-tabulation of the actual outcome with the predicted outcome.\n",
    "- Remember the decision boundary $\\hat{y}=1$ if $\\pi(x) > 0.5$, otherwise $\\hat{y}=0$.\n",
    "\n",
    "<img src=\"../assets/classification_matrix.jpg\" width=400>\n",
    "\n",
    "- Correctly predicted outcomes :\n",
    " - True Positive (TP)\n",
    " - True Negative (TN)\n",
    "\n",
    "- Incorrectly predicted outcomes :\n",
    " - False Positive (FP)\n",
    " - False Negative (FN)"
   ]
  },
  {
   "cell_type": "markdown",
   "metadata": {},
   "source": [
    "**Accuracy**\n",
    "- Measure of overall classification accuracy for both true positive and true negative.\n",
    "$$\n",
    "\\text{Accuracy} = \\frac{\\text{TP+TN}}{\\text{TP+FP+TN+FN}}\n",
    "$$\n",
    "\n",
    "**Sensitivity (True Positive Rate)**\n",
    "- The percentage of actual positive outcomes that were correctly predicted.\n",
    "$$\n",
    "\\text{Sensitivity} = \\frac{\\text{TP}}{\\text{TP+FN}}\n",
    "$$\n",
    "\n",
    "**Spesificity (True Negative Rate)**\n",
    "- The percentage of actual negative outcomes that were correctly predicted.\n",
    "$$\n",
    "\\text{Specificity} = \\frac{\\text{TN}}{\\text{TN+FP}}\n",
    "$$"
   ]
  },
  {
   "cell_type": "markdown",
   "metadata": {},
   "source": [
    "#### **2.2 ROC and AUC**\n",
    "\n",
    "- In logistic regression, we use cut-off probability $\\pi_{0}=0.5$ to classify the predicted probabilities.\n",
    "- The prediction is $\\hat{y}=1$ if $\\pi(x) > \\pi_{0}$, otherwise $\\hat{y}=0$.\n",
    "- However, if :\n",
    "  - A **low proportion of observations have $y=1$**, the model fit may never have $\\pi_{i}>0.5$, in which case one **never predicts $\\hat{y}=1$**.\n",
    "  - A **high proportion of observations have $y=1$**, the model fit may always have $\\pi_{i}>0.5$, in which case one **always predicts $\\hat{y}=1$**.\n",
    "- Another possibility takes $\\pi_{0}$ as the sample proportion of 1 outcomes.\n",
    "- How do we know the chosen $\\pi_{0}$ is the optimum cut-off probability?\n",
    "---"
   ]
  },
  {
   "cell_type": "markdown",
   "metadata": {},
   "source": [
    "- If we choose other values for cut-off probability, we will have different classification matrix and its measures.\n",
    "- Receiver Operating Characteristic (ROC) is the plot of $\\text{sensitivity}$ as a function of $(1 – \\text{specificity})$ for the possible cut-off probabilities.\n",
    "  - The $y$-axis : \t$\\text{Sensitivity (True Positive Rate)}$\n",
    "  - The $x$-axis : \t$1- \\text{Specificity (False Positive Rate)}$\n",
    "  \n",
    "  $$\n",
    "  \\text{FPR} = \\frac{\\text{FP}}{\\text{FP+TN}}\n",
    "  $$\n",
    "\n",
    "<img src=\"../assets/ROC.jpg\" width = 500>\n",
    "\n",
    "- The most preferable cut-off values are ones that move into the upper left of the chart, where the **$\\text{sensitivity}$ is high** and the **$1 – \\text{specificity}$ is low**.\n",
    "\n",
    "- The AUC (area under the curve) is particularly useful in comparing between different models.\n",
    "\n",
    "<img src=\"../assets/AUC.jpg\" width = 500>\n",
    "\n",
    "- Models with the higher AUC values are those extending towards the upper left portion of the graph and the desirable combinations of sensitivity and specificity."
   ]
  },
  {
   "cell_type": "markdown",
   "metadata": {},
   "source": [
    "# **Model Evaluation**\n",
    "---"
   ]
  },
  {
   "cell_type": "code",
   "execution_count": 2,
   "metadata": {},
   "outputs": [
    {
     "data": {
      "text/html": [
       "<div>\n",
       "<style scoped>\n",
       "    .dataframe tbody tr th:only-of-type {\n",
       "        vertical-align: middle;\n",
       "    }\n",
       "\n",
       "    .dataframe tbody tr th {\n",
       "        vertical-align: top;\n",
       "    }\n",
       "\n",
       "    .dataframe thead th {\n",
       "        text-align: right;\n",
       "    }\n",
       "</style>\n",
       "<table border=\"1\" class=\"dataframe\">\n",
       "  <thead>\n",
       "    <tr style=\"text-align: right;\">\n",
       "      <th></th>\n",
       "      <th>Color</th>\n",
       "      <th>Spine</th>\n",
       "      <th>Width</th>\n",
       "      <th>Weight</th>\n",
       "      <th>Satellite</th>\n",
       "    </tr>\n",
       "  </thead>\n",
       "  <tbody>\n",
       "    <tr>\n",
       "      <th>0</th>\n",
       "      <td>2</td>\n",
       "      <td>3</td>\n",
       "      <td>28.3</td>\n",
       "      <td>3.05</td>\n",
       "      <td>8</td>\n",
       "    </tr>\n",
       "    <tr>\n",
       "      <th>1</th>\n",
       "      <td>3</td>\n",
       "      <td>3</td>\n",
       "      <td>26.0</td>\n",
       "      <td>2.60</td>\n",
       "      <td>4</td>\n",
       "    </tr>\n",
       "    <tr>\n",
       "      <th>2</th>\n",
       "      <td>3</td>\n",
       "      <td>3</td>\n",
       "      <td>25.6</td>\n",
       "      <td>2.15</td>\n",
       "      <td>0</td>\n",
       "    </tr>\n",
       "    <tr>\n",
       "      <th>3</th>\n",
       "      <td>4</td>\n",
       "      <td>2</td>\n",
       "      <td>21.0</td>\n",
       "      <td>1.85</td>\n",
       "      <td>0</td>\n",
       "    </tr>\n",
       "    <tr>\n",
       "      <th>4</th>\n",
       "      <td>2</td>\n",
       "      <td>3</td>\n",
       "      <td>29.0</td>\n",
       "      <td>3.00</td>\n",
       "      <td>1</td>\n",
       "    </tr>\n",
       "  </tbody>\n",
       "</table>\n",
       "</div>"
      ],
      "text/plain": [
       "   Color  Spine  Width  Weight  Satellite\n",
       "0      2      3   28.3    3.05          8\n",
       "1      3      3   26.0    2.60          4\n",
       "2      3      3   25.6    2.15          0\n",
       "3      4      2   21.0    1.85          0\n",
       "4      2      3   29.0    3.00          1"
      ]
     },
     "execution_count": 2,
     "metadata": {},
     "output_type": "execute_result"
    }
   ],
   "source": [
    "# Import dataset from csv file\n",
    "data = pd.read_csv('../data/horseshoe_crab.csv')\n",
    "data.drop(columns=['index'], inplace=True)\n",
    "\n",
    "# Table check\n",
    "data.head()"
   ]
  },
  {
   "cell_type": "code",
   "execution_count": 3,
   "metadata": {},
   "outputs": [
    {
     "name": "stdout",
     "output_type": "stream",
     "text": [
      "<class 'pandas.core.frame.DataFrame'>\n",
      "RangeIndex: 173 entries, 0 to 172\n",
      "Data columns (total 5 columns):\n",
      " #   Column     Non-Null Count  Dtype  \n",
      "---  ------     --------------  -----  \n",
      " 0   Color      173 non-null    int64  \n",
      " 1   Spine      173 non-null    int64  \n",
      " 2   Width      173 non-null    float64\n",
      " 3   Weight     173 non-null    float64\n",
      " 4   Satellite  173 non-null    int64  \n",
      "dtypes: float64(2), int64(3)\n",
      "memory usage: 6.9 KB\n"
     ]
    }
   ],
   "source": [
    "# Information check\n",
    "data.info()"
   ]
  },
  {
   "cell_type": "markdown",
   "metadata": {},
   "source": [
    "- The dataset has **173 observations** from **5 variables**:\n",
    "  - Color : multicategory (ordinal)\n",
    "  - Spine : multicategory (nominal)\n",
    "  - Width : continuous\n",
    "  - Weight : continuous\n",
    "  - Satellite : discrete (**response variable**)\n",
    "- We gonna treat response variable Satellite as binary response (0 or 1).\n",
    "- We need to code number of satellites into 1 for having satellites > 0, and 0 for having satellites = 0."
   ]
  },
  {
   "cell_type": "code",
   "execution_count": 4,
   "metadata": {},
   "outputs": [
    {
     "data": {
      "text/html": [
       "<div>\n",
       "<style scoped>\n",
       "    .dataframe tbody tr th:only-of-type {\n",
       "        vertical-align: middle;\n",
       "    }\n",
       "\n",
       "    .dataframe tbody tr th {\n",
       "        vertical-align: top;\n",
       "    }\n",
       "\n",
       "    .dataframe thead th {\n",
       "        text-align: right;\n",
       "    }\n",
       "</style>\n",
       "<table border=\"1\" class=\"dataframe\">\n",
       "  <thead>\n",
       "    <tr style=\"text-align: right;\">\n",
       "      <th></th>\n",
       "      <th>Color</th>\n",
       "      <th>Spine</th>\n",
       "      <th>Width</th>\n",
       "      <th>Weight</th>\n",
       "      <th>Satellite</th>\n",
       "    </tr>\n",
       "  </thead>\n",
       "  <tbody>\n",
       "    <tr>\n",
       "      <th>0</th>\n",
       "      <td>2</td>\n",
       "      <td>3</td>\n",
       "      <td>28.3</td>\n",
       "      <td>3.05</td>\n",
       "      <td>1</td>\n",
       "    </tr>\n",
       "    <tr>\n",
       "      <th>1</th>\n",
       "      <td>3</td>\n",
       "      <td>3</td>\n",
       "      <td>26.0</td>\n",
       "      <td>2.60</td>\n",
       "      <td>1</td>\n",
       "    </tr>\n",
       "    <tr>\n",
       "      <th>2</th>\n",
       "      <td>3</td>\n",
       "      <td>3</td>\n",
       "      <td>25.6</td>\n",
       "      <td>2.15</td>\n",
       "      <td>0</td>\n",
       "    </tr>\n",
       "    <tr>\n",
       "      <th>3</th>\n",
       "      <td>4</td>\n",
       "      <td>2</td>\n",
       "      <td>21.0</td>\n",
       "      <td>1.85</td>\n",
       "      <td>0</td>\n",
       "    </tr>\n",
       "    <tr>\n",
       "      <th>4</th>\n",
       "      <td>2</td>\n",
       "      <td>3</td>\n",
       "      <td>29.0</td>\n",
       "      <td>3.00</td>\n",
       "      <td>1</td>\n",
       "    </tr>\n",
       "  </tbody>\n",
       "</table>\n",
       "</div>"
      ],
      "text/plain": [
       "   Color  Spine  Width  Weight  Satellite\n",
       "0      2      3   28.3    3.05          1\n",
       "1      3      3   26.0    2.60          1\n",
       "2      3      3   25.6    2.15          0\n",
       "3      4      2   21.0    1.85          0\n",
       "4      2      3   29.0    3.00          1"
      ]
     },
     "execution_count": 4,
     "metadata": {},
     "output_type": "execute_result"
    }
   ],
   "source": [
    "# Code the response variable Satellite\n",
    "# Satellite=0 --> Satellite=0, otherwise Satellite=1\n",
    "data['Satellite'] = data['Satellite'].apply(lambda x: 0 if x==0 else 1)\n",
    "\n",
    "# Data check\n",
    "data.head()"
   ]
  },
  {
   "cell_type": "markdown",
   "metadata": {},
   "source": [
    "## **1. Model Estimation Fit**\n",
    "---"
   ]
  },
  {
   "cell_type": "markdown",
   "metadata": {},
   "source": [
    "### **1.1 Likelihood Ratio Test**\n",
    "---"
   ]
  },
  {
   "cell_type": "markdown",
   "metadata": {},
   "source": [
    "We want to assess the logit model $M_{1}$ :\n",
    "$$\n",
    "\\text{logit(satellite)} = \\beta_{0} + \\beta_{1}(\\text{width})\n",
    "$$\n",
    "compared to null model $M_{0}$ :\n",
    "$$\n",
    "\\text{logit(satellite)} = \\beta_{0}\n",
    "$$\n",
    "<br>\n",
    "**Hypotheses** :\n",
    "- Null Hypothesis: the logit model only contains intercept $\\beta_{0}$.\n",
    "- Alternative Hypothesis: the logit model contains $\\beta_{0}$ and $\\beta_{1}$.\n",
    "    - $\\text H_{0} : \\beta = \\beta_{0}$\n",
    "    - $\\text H_{1} : \\beta = \\beta_{0}, \\beta_{1}$\n",
    "\n",
    "**Test statistic**:\n",
    "- The likelihood ratio (LLR):\n",
    "\n",
    " $$\n",
    "\\text{LLR} = -2 (L_{0}-L_{1})\n",
    "$$\n",
    "\n",
    "<br>\n",
    "\n",
    "- $L_{0}$ is the maximum log likelihood of $M_{0}$.\n",
    "- $L_{1}$ is the maximum log likelihood of $M_{1}$.\n"
   ]
  },
  {
   "cell_type": "code",
   "execution_count": 5,
   "metadata": {},
   "outputs": [],
   "source": [
    "# Define the response satellite and predictor width\n",
    "satellite = data['Satellite']\n",
    "width = data[['Width']]"
   ]
  },
  {
   "cell_type": "code",
   "execution_count": 6,
   "metadata": {},
   "outputs": [
    {
     "name": "stdout",
     "output_type": "stream",
     "text": [
      "Optimization terminated successfully.\n",
      "         Current function value: 0.562002\n",
      "         Iterations 6\n",
      "                           Logit Regression Results                           \n",
      "==============================================================================\n",
      "Dep. Variable:              satellite   No. Observations:                  173\n",
      "Model:                          Logit   Df Residuals:                      171\n",
      "Method:                           MLE   Df Model:                            1\n",
      "Date:                Tue, 29 Oct 2024   Pseudo R-squ.:                  0.1387\n",
      "Time:                        03:30:23   Log-Likelihood:                -97.226\n",
      "converged:                       True   LL-Null:                       -112.88\n",
      "Covariance Type:            nonrobust   LLR p-value:                 2.204e-08\n",
      "==============================================================================\n",
      "                 coef    std err          z      P>|z|      [0.025      0.975]\n",
      "------------------------------------------------------------------------------\n",
      "Intercept    -12.3508      2.629     -4.698      0.000     -17.503      -7.199\n",
      "width          0.4972      0.102      4.887      0.000       0.298       0.697\n",
      "==============================================================================\n"
     ]
    }
   ],
   "source": [
    "# Modeling with statsmodels.formula\n",
    "import statsmodels.formula.api as smf\n",
    "\n",
    "# Model fitting\n",
    "formula = 'satellite ~ width'\n",
    "model_width = smf.logit(formula = formula,\n",
    "                        data = data)\n",
    "result_width = model_width.fit()\n",
    "\n",
    "# Print the result\n",
    "print(result_width.summary())"
   ]
  },
  {
   "cell_type": "markdown",
   "metadata": {},
   "source": [
    "- Statsmodels package yields output for LLR Test.\n",
    "- You can see the details [here](https://www.statsmodels.org/devel/generated/statsmodels.discrete.discrete_model.LogitResults.html)\n",
    "- Some attributes of model result:\n",
    "  - `llr` : the likelihood ratio statistic\n",
    "  - `llr_pvalue` : the chi-squared probability (p-value)\n",
    "  - `llnull` : log-likelihood of null model (intercept only)\n",
    "  - `llf` : maximum log-likelihood of model of interest\n",
    "- Example:\n",
    "  - Run `result_model.llr` to get the LLR value of the model.\n"
   ]
  },
  {
   "cell_type": "code",
   "execution_count": 7,
   "metadata": {},
   "outputs": [
    {
     "name": "stdout",
     "output_type": "stream",
     "text": [
      "L0 = -112.88\n"
     ]
    }
   ],
   "source": [
    "# Extract L0 as ll_null\n",
    "ll_null = result_width.llnull\n",
    "\n",
    "print(f\"L0 = {ll_null:.2f}\")"
   ]
  },
  {
   "cell_type": "code",
   "execution_count": 8,
   "metadata": {},
   "outputs": [
    {
     "name": "stdout",
     "output_type": "stream",
     "text": [
      "L1 = -97.226\n"
     ]
    }
   ],
   "source": [
    "# Extract L1 as ll_width\n",
    "ll_width = result_width.llf\n",
    "\n",
    "print(f\"L1 = {ll_width:.3f}\")"
   ]
  },
  {
   "cell_type": "markdown",
   "metadata": {},
   "source": [
    "Then, calculate $\\text{LLR} = -2 (L_{0}-L_{1})$."
   ]
  },
  {
   "cell_type": "code",
   "execution_count": 9,
   "metadata": {},
   "outputs": [
    {
     "name": "stdout",
     "output_type": "stream",
     "text": [
      "LLR from scratch = 31.306\n",
      "LLR from summary = 31.306\n"
     ]
    }
   ],
   "source": [
    "# Calculate LLR\n",
    "llr_width_scratch = -2*(ll_null - ll_width)\n",
    "\n",
    "# Print LLR from the summary output to cross check the scratch\n",
    "llr_width_summary = result_width.llr\n",
    "\n",
    "print(f\"LLR from scratch = {llr_width_scratch:.3f}\")\n",
    "print(f\"LLR from summary = {llr_width_summary:.3f}\")"
   ]
  },
  {
   "cell_type": "code",
   "execution_count": 10,
   "metadata": {},
   "outputs": [
    {
     "name": "stdout",
     "output_type": "stream",
     "text": [
      "P-value of LLR = 0.0000\n"
     ]
    }
   ],
   "source": [
    "# Extract P-value of LLR\n",
    "p_val_llr = result_width.llr_pvalue\n",
    "\n",
    "print(f\"P-value of LLR = {p_val_llr:.4f}\")"
   ]
  },
  {
   "cell_type": "markdown",
   "metadata": {},
   "source": [
    "**Rejection decision** :\n",
    "- Since $\\text{P-value of LLR} < \\alpha=0.5$, the null hypothesis $\\beta=\\beta_{0}$ **is rejected** at $\\alpha=0.5$.\n",
    "\n",
    "**Conclusion** :\n",
    "> The predictor width has an effect on logit model."
   ]
  },
  {
   "cell_type": "markdown",
   "metadata": {},
   "source": [
    "Next, we want to assess another logit model $M_{2}$ :\n",
    "$$\n",
    "\\text{logit(satellite)} = \\beta_{0} + \\beta_{1}(\\text{width}) + \\beta_{2}(\\text{weight})\n",
    "$$\n",
    "compared to null model $M_{0}$ :\n",
    "$$\n",
    "\\text{logit(satellite)} = \\beta_{0}\n",
    "$$\n",
    "\n",
    "<br>\n",
    "\n",
    "**Hypotheses** :\n",
    "- Null Hypothesis: the logit model only contains intercept $\\beta_{0}$.\n",
    "- Alternative Hypothesis: the logit model contains $\\beta_{0}$, $\\beta_{1}$, and $\\beta_{2}$.\n",
    "  - $\\text H_{0} : \\beta = \\beta_{0}$\n",
    "  - $\\text H_{1} : \\beta = \\beta_{0}, \\beta_{1}, \\beta_{2}$\n",
    "\n",
    "**Test statistic**:\n",
    "  - The likelihood ratio (LLR):\n",
    "\n",
    "$$\n",
    "\\text{LLR} = -2 (L_{0}-L_{2})\n",
    "$$\n",
    "\n",
    "<br>\n",
    "\n",
    "- $L_{0}$ is the maximum log likelihood of $M_{0}$.\n",
    "- $L_{2}$ is the maximum log likelihood of $M_{2}$.\n"
   ]
  },
  {
   "cell_type": "code",
   "execution_count": 11,
   "metadata": {},
   "outputs": [],
   "source": [
    "# Define the response variable\n",
    "satellite = data['Satellite']\n",
    "\n",
    "# Define the predictors\n",
    "width = data[['Width']]\n",
    "weight = data[['Weight']]"
   ]
  },
  {
   "cell_type": "code",
   "execution_count": 12,
   "metadata": {},
   "outputs": [
    {
     "name": "stdout",
     "output_type": "stream",
     "text": [
      "Optimization terminated successfully.\n",
      "         Current function value: 0.557489\n",
      "         Iterations 6\n",
      "                           Logit Regression Results                           \n",
      "==============================================================================\n",
      "Dep. Variable:              satellite   No. Observations:                  173\n",
      "Model:                          Logit   Df Residuals:                      170\n",
      "Method:                           MLE   Df Model:                            2\n",
      "Date:                Tue, 29 Oct 2024   Pseudo R-squ.:                  0.1456\n",
      "Time:                        03:30:23   Log-Likelihood:                -96.446\n",
      "converged:                       True   LL-Null:                       -112.88\n",
      "Covariance Type:            nonrobust   LLR p-value:                 7.294e-08\n",
      "==============================================================================\n",
      "                 coef    std err          z      P>|z|      [0.025      0.975]\n",
      "------------------------------------------------------------------------------\n",
      "Intercept     -9.3540      3.528     -2.651      0.008     -16.269      -2.439\n",
      "width          0.3068      0.182      1.686      0.092      -0.050       0.663\n",
      "weight         0.8336      0.671      1.242      0.214      -0.482       2.149\n",
      "==============================================================================\n"
     ]
    }
   ],
   "source": [
    "# Modeling with statsmodels.formula\n",
    "\n",
    "# Model fitting\n",
    "formula = 'satellite ~ width + weight'\n",
    "model_width_weight = smf.logit(formula = formula,\n",
    "                               data = data)\n",
    "result_width_weight = model_width_weight.fit()\n",
    "\n",
    "# Print the result\n",
    "print(result_width_weight.summary())"
   ]
  },
  {
   "cell_type": "markdown",
   "metadata": {},
   "source": [
    "Then, calculate $\\text{LLR} = -2 (L_{0}-L_{2})$.\n",
    "Or you can extract the LLR and its P-value from statsmodels result."
   ]
  },
  {
   "cell_type": "code",
   "execution_count": 13,
   "metadata": {},
   "outputs": [
    {
     "name": "stdout",
     "output_type": "stream",
     "text": [
      "LLR M2 = 32.867\n"
     ]
    }
   ],
   "source": [
    "# Extract the LLR\n",
    "llr_width_weight = result_width_weight.llr\n",
    "\n",
    "print(f\"LLR M2 = {llr_width_weight:.3f}\")"
   ]
  },
  {
   "cell_type": "code",
   "execution_count": 14,
   "metadata": {},
   "outputs": [
    {
     "name": "stdout",
     "output_type": "stream",
     "text": [
      "P-value of LLR M2 = 0.0000\n"
     ]
    }
   ],
   "source": [
    "# Extract P-value of LLR\n",
    "p_val_M2 = result_width_weight.llr_pvalue\n",
    "\n",
    "print(f\"P-value of LLR M2 = {p_val_M2:.4f}\")"
   ]
  },
  {
   "cell_type": "markdown",
   "metadata": {},
   "source": [
    "**Rejection decision** :\n",
    "- Since $\\text{P-value of LLR} < \\alpha=0.5$, the null hypothesis $\\beta=\\beta_{0}$ **is rejected** at $\\alpha=0.5$.\n",
    "\n",
    "**Conclusion** :\n",
    "> Model 2 fits better than null model, at least one of predictors width and weight has an effect on logit model."
   ]
  },
  {
   "cell_type": "markdown",
   "metadata": {},
   "source": [
    "### **1.2 Deviance**\n",
    "---"
   ]
  },
  {
   "cell_type": "markdown",
   "metadata": {},
   "source": [
    "We want to compare the two models by comparing their deviances.\n",
    "  - $M_{1}$ with maximized log-likelihood $L_{1}$ and logit model:\n",
    "  $$\n",
    "  \\text{logit(satellite)} = \\beta_{0} + \\beta_{1}(\\text{width})\n",
    "  $$\n",
    "  - $M_{2}$ with maximized log-likelihood $L_{2}$ and logit model:\n",
    "  $$\n",
    "  \\text{logit(satellite)} = \\beta_{0} + \\beta_{1}(\\text{width}) + \\beta_{2}(\\text{weight})\n",
    "  $$\n",
    "\n",
    "<br>\n",
    "\n",
    "The deviance difference:\n",
    "$$\n",
    "\\text{Deviance difference} = -2(L_{1}-L_{2})\n",
    "$$\n",
    "<br>\n",
    "\n",
    "The difference is large when $M_{1}$ fits poorly compared with $M_{2}$."
   ]
  },
  {
   "cell_type": "code",
   "execution_count": 15,
   "metadata": {},
   "outputs": [
    {
     "name": "stdout",
     "output_type": "stream",
     "text": [
      "L1 = -97.226\n"
     ]
    }
   ],
   "source": [
    "# Extract L1 as ll_width\n",
    "ll_width = result_width.llf\n",
    "\n",
    "print(f\"L1 = {ll_width:.3f}\")"
   ]
  },
  {
   "cell_type": "code",
   "execution_count": 16,
   "metadata": {},
   "outputs": [
    {
     "name": "stdout",
     "output_type": "stream",
     "text": [
      "L2 = -96.446\n"
     ]
    }
   ],
   "source": [
    "# Extract L2 as ll_width_weight\n",
    "ll_width_weight = result_width_weight.llf\n",
    "\n",
    "print(f\"L2 = {ll_width_weight:.3f}\")"
   ]
  },
  {
   "cell_type": "markdown",
   "metadata": {},
   "source": [
    "Then, calculate $\\text{Deviance difference} = -2(L_{1}-L_{2})$."
   ]
  },
  {
   "cell_type": "code",
   "execution_count": 17,
   "metadata": {},
   "outputs": [
    {
     "name": "stdout",
     "output_type": "stream",
     "text": [
      "Deviance difference = 1.561\n"
     ]
    }
   ],
   "source": [
    "# Calculate deviance difference\n",
    "deviance_diff = -2*(ll_width - ll_width_weight)\n",
    "\n",
    "print(f\"Deviance difference = {deviance_diff:.3f}\")"
   ]
  },
  {
   "cell_type": "code",
   "execution_count": 18,
   "metadata": {},
   "outputs": [
    {
     "name": "stdout",
     "output_type": "stream",
     "text": [
      "Tabulated chi-sq = 3.8415\n"
     ]
    }
   ],
   "source": [
    "# Extract tabulated chi-squared of deviance difference\n",
    "import scipy.stats as stats\n",
    "\n",
    "chi_sq = stats.chi2.ppf(q = 1-0.05,\n",
    "                        df = 1)\n",
    "\n",
    "print(f\"Tabulated chi-sq = {chi_sq:.4f}\")"
   ]
  },
  {
   "cell_type": "markdown",
   "metadata": {},
   "source": [
    "**Rejection decision** :\n",
    "- Since $\\text{deviance difference}<\\chi^{2}_{\\alpha=0.05}, _{\\; \\text{df}=1}$, we **fail to reject** the null hypothesis that the model only contains $\\beta_{0}$ and $\\beta_{1}$.\n",
    "\n",
    "**Conclusion** :\n",
    "> Adding predictor weight has no effect on logit model. This suggests that we don't need predictor weight in the logit model."
   ]
  },
  {
   "cell_type": "markdown",
   "metadata": {},
   "source": [
    "### **1.3 AIC**\n",
    "---"
   ]
  },
  {
   "cell_type": "markdown",
   "metadata": {},
   "source": [
    "- When comparing two models, the smaller value of AIC indicates the better model.\n",
    "$$\n",
    "\\text{AIC} = -2(\\text{log likelihood - number of parameters in model})\n",
    "$$\n",
    "- We want to compare two models before by comparing their AIC values.\n",
    "  - $M_{1}$ with maximized log-likelihood $L_{1}$ and logit model:\n",
    "  $$\n",
    "  \\text{logit(satellite)} = \\beta_{0} + \\beta_{1}(\\text{width})\n",
    "  $$\n",
    "  - $M_{2}$ with maximized log-likelihood $L_{2}$ and logit model:\n",
    "  $$\n",
    "  \\text{logit(satellite)} = \\beta_{0} + \\beta_{1}(\\text{width}) + \\beta_{2}(\\text{weight})\n",
    "  $$"
   ]
  },
  {
   "cell_type": "markdown",
   "metadata": {},
   "source": [
    "---\n",
    "Model 1 (Width only)"
   ]
  },
  {
   "cell_type": "code",
   "execution_count": 19,
   "metadata": {},
   "outputs": [
    {
     "name": "stdout",
     "output_type": "stream",
     "text": [
      "                           Logit Regression Results                           \n",
      "==============================================================================\n",
      "Dep. Variable:              satellite   No. Observations:                  173\n",
      "Model:                          Logit   Df Residuals:                      171\n",
      "Method:                           MLE   Df Model:                            1\n",
      "Date:                Tue, 29 Oct 2024   Pseudo R-squ.:                  0.1387\n",
      "Time:                        03:30:23   Log-Likelihood:                -97.226\n",
      "converged:                       True   LL-Null:                       -112.88\n",
      "Covariance Type:            nonrobust   LLR p-value:                 2.204e-08\n",
      "==============================================================================\n",
      "                 coef    std err          z      P>|z|      [0.025      0.975]\n",
      "------------------------------------------------------------------------------\n",
      "Intercept    -12.3508      2.629     -4.698      0.000     -17.503      -7.199\n",
      "width          0.4972      0.102      4.887      0.000       0.298       0.697\n",
      "==============================================================================\n"
     ]
    }
   ],
   "source": [
    "# Print the result\n",
    "print(result_width.summary())"
   ]
  },
  {
   "cell_type": "markdown",
   "metadata": {},
   "source": [
    "- Statsmodels package yields output for AIC.\n",
    "- You can see the details [here](https://www.statsmodels.org/devel/generated/statsmodels.discrete.discrete_model.LogitResults.html)\n",
    "- Example:\n",
    "  - Run `result_model.aic` to get the AIC value of the model."
   ]
  },
  {
   "cell_type": "code",
   "execution_count": 20,
   "metadata": {},
   "outputs": [
    {
     "name": "stdout",
     "output_type": "stream",
     "text": [
      "AIC model 1 = 198.45\n"
     ]
    }
   ],
   "source": [
    "# Extract AIC of model 1\n",
    "aic_width = result_width.aic\n",
    "\n",
    "print(f\"AIC model 1 = {aic_width:.2f}\")"
   ]
  },
  {
   "cell_type": "markdown",
   "metadata": {},
   "source": [
    "Or calculate with the formula $\\text{AIC} = -2(\\text{log likelihood - number of parameters in model})$, where number of parameters in model 1 is 2 (parameter $\\beta_{0}$ and $\\beta_{1}$)"
   ]
  },
  {
   "cell_type": "code",
   "execution_count": 21,
   "metadata": {},
   "outputs": [
    {
     "data": {
      "text/plain": [
       "198.45266392876505"
      ]
     },
     "execution_count": 21,
     "metadata": {},
     "output_type": "execute_result"
    }
   ],
   "source": [
    "# Calculate with the formula\n",
    "aic_width_scratch = -2*(ll_width - 2)\n",
    "aic_width_scratch"
   ]
  },
  {
   "cell_type": "markdown",
   "metadata": {},
   "source": [
    "---\n",
    "Model 2 (adding Weight)"
   ]
  },
  {
   "cell_type": "code",
   "execution_count": 22,
   "metadata": {},
   "outputs": [
    {
     "name": "stdout",
     "output_type": "stream",
     "text": [
      "                           Logit Regression Results                           \n",
      "==============================================================================\n",
      "Dep. Variable:              satellite   No. Observations:                  173\n",
      "Model:                          Logit   Df Residuals:                      170\n",
      "Method:                           MLE   Df Model:                            2\n",
      "Date:                Tue, 29 Oct 2024   Pseudo R-squ.:                  0.1456\n",
      "Time:                        03:30:23   Log-Likelihood:                -96.446\n",
      "converged:                       True   LL-Null:                       -112.88\n",
      "Covariance Type:            nonrobust   LLR p-value:                 7.294e-08\n",
      "==============================================================================\n",
      "                 coef    std err          z      P>|z|      [0.025      0.975]\n",
      "------------------------------------------------------------------------------\n",
      "Intercept     -9.3540      3.528     -2.651      0.008     -16.269      -2.439\n",
      "width          0.3068      0.182      1.686      0.092      -0.050       0.663\n",
      "weight         0.8336      0.671      1.242      0.214      -0.482       2.149\n",
      "==============================================================================\n"
     ]
    }
   ],
   "source": [
    "# Print the result\n",
    "print(result_width_weight.summary())"
   ]
  },
  {
   "cell_type": "code",
   "execution_count": 23,
   "metadata": {},
   "outputs": [
    {
     "name": "stdout",
     "output_type": "stream",
     "text": [
      "AIC model 1 = 198.45\n",
      "AIC model 2 = 198.89\n"
     ]
    }
   ],
   "source": [
    "# Extract AIC of model 2\n",
    "aic_width_weight = result_width_weight.aic\n",
    "\n",
    "# Print and compare AIC model 1 & 2\n",
    "print(f\"AIC model 1 = {aic_width:.2f}\")\n",
    "print(f\"AIC model 2 = {aic_width_weight:.2f}\")"
   ]
  },
  {
   "cell_type": "markdown",
   "metadata": {},
   "source": [
    "**Conclusion**\n",
    "> Model 1 with single predictor width yields the smaller AIC, thus adding predictor weight has no effect on logit model.\n",
    "\n",
    "This interpretation is consistent with the interpretation of comparing the two models by their deviance difference."
   ]
  },
  {
   "cell_type": "markdown",
   "metadata": {},
   "source": [
    "## **2. Predictive Performance**\n",
    "---"
   ]
  },
  {
   "cell_type": "markdown",
   "metadata": {},
   "source": [
    "### **2.1 Classification Matrix**\n",
    "---"
   ]
  },
  {
   "cell_type": "markdown",
   "metadata": {},
   "source": [
    "- In logistic regression, we use cut-off probability $\\pi_{0}=0.5$ to classify the predicted probabilities.\n",
    "- The prediction is $\\hat{y}=1$ if $\\pi(x) > \\pi_{0}$, otherwise $\\hat{y}=0$.\n",
    "- Remember the predicted (success) probabilities from logistic/sigmoid function $\\pi(x)$ :\n",
    "$$\n",
    "\\pi(x) = \\frac{e^{(\\beta_{0}+\\beta_{1}x)}}{1+e^{(\\beta_{0}+\\beta_{1}x)}}\n",
    "$$"
   ]
  },
  {
   "cell_type": "markdown",
   "metadata": {},
   "source": [
    "- From sklearn, you can use method `predict_proba(X)` to predict predicted probability $1-\\pi(x)$ and $\\pi(x)$.\n",
    "- You can see the details [here](https://scikit-learn.org/stable/modules/generated/sklearn.linear_model.LogisticRegression.html#sklearn.linear_model.LogisticRegression.predict_proba)\n",
    "- Some methods:\n",
    "  - `fit(X, y[, sample_weight])` : fit the model according to the given training data.\n",
    "  - `predict_proba(X)` : returns the probability of the sample for each class in the model.\n",
    "  - `predict(X)` : predict class labels for samples in X.\n"
   ]
  },
  {
   "cell_type": "markdown",
   "metadata": {},
   "source": [
    "- With Statsmodels, you can use `predict([exog, transform])` to predict success probability $\\pi(x)$.\n",
    "- You can see the details [here](https://www.statsmodels.org/devel/generated/statsmodels.discrete.discrete_model.LogitResults.html)\n",
    "- Some methods:\n",
    "  - `predict([exog, transform])` : returns the probability of the sample for each class in the model.\n",
    "  - `pred_table([threshold])` : returns the classification matrix of the predicted outcome given threshold parameter."
   ]
  },
  {
   "cell_type": "markdown",
   "metadata": {},
   "source": [
    "In this section, we use predict method from Statsmodels.\n",
    " - We already fit Model 1 in `result_width` with Statsmodels."
   ]
  },
  {
   "cell_type": "code",
   "execution_count": 24,
   "metadata": {},
   "outputs": [
    {
     "data": {
      "text/plain": [
       "0    0.848233\n",
       "1    0.640418\n",
       "2    0.593459\n",
       "3    0.129096\n",
       "4    0.887840\n",
       "dtype: float64"
      ]
     },
     "execution_count": 24,
     "metadata": {},
     "output_type": "execute_result"
    }
   ],
   "source": [
    "# Calculate success probability of X\n",
    "pi_success_width = result_width.predict(exog = width)\n",
    "pi_success_width[0:5]"
   ]
  },
  {
   "cell_type": "markdown",
   "metadata": {},
   "source": [
    "Next, we build the classification matrix.\n",
    "- The prediction is $\\hat{y}=1$ if $\\pi(x) > \\pi_{0}$, otherwise $\\hat{y}=0$.\n",
    "<img src=\"../assets/classification_matrix.jpg\" width=400>\n",
    "\n",
    "- Correctly predicted outcomes :\n",
    " - True Positive (TP)\n",
    " - True Negative (TN)\n",
    "\n",
    "- Incorrectly predicted outcomes :\n",
    " - False Positive (FP)\n",
    " - False Negative (FN)"
   ]
  },
  {
   "cell_type": "code",
   "execution_count": 25,
   "metadata": {},
   "outputs": [],
   "source": [
    "# Build classification matrix from success probabilites\n",
    "def classify(pi, y_actual, threshold=0.5):\n",
    "    \"\"\"\n",
    "    Function to build the classification matrix.\n",
    "\n",
    "    Parameters\n",
    "    ----------\n",
    "    pi : {array-like} of shape (n_sample, 1)\n",
    "      The success probability of X\n",
    "    y_actual : {array-like} of shape (n_sample, )\n",
    "      The actual outcome or response variable\n",
    "    threshold : float in range [0,1], default=0.5\n",
    "      The cut-off probability\n",
    "\n",
    "    Returns\n",
    "    -------\n",
    "    matrix : {array-like} of shape (2, 2)\n",
    "      The classification matrix\n",
    "    TN : int\n",
    "      True Negatives\n",
    "    FP : int\n",
    "      False Postitives\n",
    "    FN : int\n",
    "      False Negatives\n",
    "    TP : int\n",
    "      True Positives\n",
    "    \"\"\"\n",
    "    # Define initial list of predicted y\n",
    "    y_pred = []\n",
    "\n",
    "    # Classify predicted outcome y_pred=1 or y_pred=0\n",
    "    for i in pi:\n",
    "        if i > threshold:\n",
    "            y_pred.append(1)\n",
    "        else:\n",
    "            y_pred.append(0)\n",
    "\n",
    "    # Define final list of predicted y\n",
    "    y_pred = np.array(y_pred)\n",
    "\n",
    "    # Calculate the classification matrix\n",
    "    # Define the components of classification matrix\n",
    "    TP = 0\n",
    "    FP = 0\n",
    "    FN = 0\n",
    "    TN = 0\n",
    "\n",
    "    # Classify predicted y\n",
    "    for i in range(len(y_actual)):\n",
    "        if y_pred[i]==0 and y_actual[i]==0:\n",
    "            TN += 1\n",
    "        elif y_pred[i]==1 and y_actual[i]==0:\n",
    "            FP += 1\n",
    "        elif y_pred[i]==0 and y_actual[i]==1:\n",
    "            FN += 1\n",
    "        else:\n",
    "            TP += 1\n",
    "\n",
    "    # Arrange the classification matrix\n",
    "    matrix = np.array([[TN,FP],[FN,TP]])\n",
    "\n",
    "    return matrix, TN, FP, FN, TP"
   ]
  },
  {
   "cell_type": "code",
   "execution_count": 26,
   "metadata": {},
   "outputs": [],
   "source": [
    "# Create classification matrix with threshold = 0.5\n",
    "classification_result = classify(pi = pi_success_width,\n",
    "                                 y_actual = satellite,\n",
    "                                 threshold = 0.5)\n",
    "\n",
    "matrix, TN, FP, FN, TP = classification_result"
   ]
  },
  {
   "cell_type": "code",
   "execution_count": 27,
   "metadata": {},
   "outputs": [
    {
     "name": "stdout",
     "output_type": "stream",
     "text": [
      "\n",
      "Classification Matrix\n",
      " [[27 35]\n",
      " [16 95]]\n",
      "\n",
      "True Negative = 27\n",
      "False Positive = 35\n",
      "False Negative = 16\n",
      "True Positive = 95\n"
     ]
    }
   ],
   "source": [
    "print(\"\\nClassification Matrix\\n\", matrix)\n",
    "print(\"\\nTrue Negative =\",TN)\n",
    "print(\"False Positive =\",FP)\n",
    "print(\"False Negative =\",FN)\n",
    "print(\"True Positive =\",TP)"
   ]
  },
  {
   "cell_type": "markdown",
   "metadata": {},
   "source": [
    "- With **sklearn.metrics** you can use method [confusion_matrix](https://scikit-learn.org/stable/modules/generated/sklearn.metrics.confusion_matrix.html).\n",
    "- To make it simple in one step, we cross check the classification matrix above with method `pred_table` from Statsmodels.\n",
    "  - We already fit Model 1 in `result_width` with Statsmodels."
   ]
  },
  {
   "cell_type": "code",
   "execution_count": 28,
   "metadata": {},
   "outputs": [
    {
     "name": "stdout",
     "output_type": "stream",
     "text": [
      "[[27. 35.]\n",
      " [16. 95.]]\n"
     ]
    }
   ],
   "source": [
    "# Cross check the classification matrix\n",
    "# Use method pred_table from Statsmodels\n",
    "matrix_width = result_width.pred_table(threshold = 0.5)\n",
    "\n",
    "print(matrix_width)"
   ]
  },
  {
   "cell_type": "markdown",
   "metadata": {},
   "source": [
    "---\n",
    "**Accuracy**\n",
    "- Measure of overall classification accuracy for both true positive and true negative.\n",
    "$$\n",
    "\\text{Accuracy} = \\frac{\\text{TP+TN}}{\\text{TP+FP+TN+FN}}\n",
    "$$"
   ]
  },
  {
   "cell_type": "code",
   "execution_count": 29,
   "metadata": {},
   "outputs": [],
   "source": [
    "# Define the components of classification matrix\n",
    "TP = matrix_width[1][1]\n",
    "TN = matrix_width[0][0]\n",
    "FP = matrix_width[0][1]\n",
    "FN = matrix_width[1][0]"
   ]
  },
  {
   "cell_type": "code",
   "execution_count": 30,
   "metadata": {},
   "outputs": [
    {
     "name": "stdout",
     "output_type": "stream",
     "text": [
      "Model 1 can correctly predict 70.52% of actual outcomes.\n"
     ]
    }
   ],
   "source": [
    "# Calculate accuracy\n",
    "accuracy = (TP+TN)/(TP+FP+TN+FN)\n",
    "\n",
    "print(f\"Model 1 can correctly predict {accuracy*100:.2f}% of actual outcomes.\")"
   ]
  },
  {
   "cell_type": "markdown",
   "metadata": {},
   "source": [
    "**Sensitivity (True Positive Rate)**\n",
    "- The percentage of actual positive outcomes that were correctly predicted.\n",
    "$$\n",
    "\\text{Sensitivity} = \\frac{\\text{TP}}{\\text{TP+FN}}\n",
    "$$"
   ]
  },
  {
   "cell_type": "code",
   "execution_count": 31,
   "metadata": {},
   "outputs": [
    {
     "name": "stdout",
     "output_type": "stream",
     "text": [
      "Model 1 can correctly predict 85.59% of crabs with satellite.\n"
     ]
    }
   ],
   "source": [
    "# Calculate sensitivity\n",
    "sensitivity = (TP)/(TP+FN)\n",
    "\n",
    "print(f\"Model 1 can correctly predict {sensitivity*100:.2f}% of crabs with satellite.\")"
   ]
  },
  {
   "cell_type": "markdown",
   "metadata": {},
   "source": [
    "**Spesificity (True Negative Rate)**\n",
    "- The percentage of actual negative outcomes that were correctly predicted.\n",
    "$$\n",
    "\\text{Sensitivity} = \\frac{\\text{TN}}{\\text{TN+FP}}\n",
    "$$"
   ]
  },
  {
   "cell_type": "code",
   "execution_count": 32,
   "metadata": {},
   "outputs": [
    {
     "name": "stdout",
     "output_type": "stream",
     "text": [
      "Model 1 can correctly predict 43.55% of crabs without satellite.\n"
     ]
    }
   ],
   "source": [
    "# Calculate specificity\n",
    "specificity = (TN)/(TN+FP)\n",
    "\n",
    "print(f\"Model 1 can correctly predict {specificity*100:.2f}% of crabs without satellite.\")"
   ]
  },
  {
   "cell_type": "markdown",
   "metadata": {},
   "source": [
    "Then summarize all in one function."
   ]
  },
  {
   "cell_type": "code",
   "execution_count": 33,
   "metadata": {},
   "outputs": [],
   "source": [
    "def predictive_performance(model_result, threshold=0.5):\n",
    "    \"\"\"\n",
    "    Calculate model's predictive performance\n",
    "\n",
    "    Parameters\n",
    "    ----------\n",
    "    model_result : result of fitted model\n",
    "        Model result from Statsmodels Logit\n",
    "\n",
    "    threshold : float in range[0,1], default = 0.5\n",
    "        Cut-off probability to classify predicted outcome\n",
    "\n",
    "    Returns\n",
    "    -------\n",
    "    accuracy : float\n",
    "        The accuracy\n",
    "\n",
    "    sensitivity : float\n",
    "        The true positive rate\n",
    "\n",
    "    specificity : float\n",
    "        The true negative rate\n",
    "    \"\"\"\n",
    "    # Create classificiation matrix from model result\n",
    "    matrix = model_result.pred_table(threshold)\n",
    "\n",
    "    # Define the components of classification matrix\n",
    "    TP = matrix[1][1]\n",
    "    TN = matrix[0][0]\n",
    "    FP = matrix[0][1]\n",
    "    FN = matrix[1][0]\n",
    "\n",
    "    # Calculate metrics from classification matric\n",
    "    accuracy = (TP+TN)/(TP+FP+TN+FN)\n",
    "    sensitivity = (TP)/(TP+FN)\n",
    "    specificity = (TN)/(TN+FP)\n",
    "\n",
    "    return accuracy, sensitivity, specificity\n"
   ]
  },
  {
   "cell_type": "code",
   "execution_count": 34,
   "metadata": {},
   "outputs": [],
   "source": [
    "# Cross check the predictive performance of Model 1 (X=width)\n",
    "performa_width = predictive_performance(model_result = result_width,\n",
    "                                        threshold = 0.5)\n",
    "# Extract the metrics\n",
    "accuracy, sensitivity, specificity = performa_width"
   ]
  },
  {
   "cell_type": "code",
   "execution_count": 35,
   "metadata": {},
   "outputs": [
    {
     "name": "stdout",
     "output_type": "stream",
     "text": [
      "Model 1 : logit = b0 + b1(Width)\n",
      "Accuracy    = 0.7052\n",
      "Sensitivity = 0.8559\n",
      "Specificity = 0.4355\n"
     ]
    }
   ],
   "source": [
    "# Print the metrics\n",
    "print(f\"Model 1 : logit = b0 + b1(Width)\")\n",
    "print(f\"Accuracy    = {accuracy:.4f}\")\n",
    "print(f\"Sensitivity = {sensitivity:.4f}\")\n",
    "print(f\"Specificity = {specificity:.4f}\")"
   ]
  },
  {
   "cell_type": "markdown",
   "metadata": {},
   "source": [
    "In summary, with cut-off probability (threshold) $\\pi_{0}=0.5$, Model 1 $\\text{logit(satellite)} = \\beta_{0} + \\beta_{1}(\\text{width})$ results the predictive performance:\n",
    "\n",
    "<center>\n",
    "\n",
    "|Model|Accuracy|Sensitivity|Specificity|\n",
    "|:--:|:--:|:--:|:--:|\n",
    "|Model 1|0.7052|0.8559|0.4355|\n",
    "\n",
    "</center>\n",
    "<br>\n",
    "\n",
    "Next, we summarize the predictive performance from Model 2 $\\text{logit(satellite)} = \\beta_{0} + \\beta_{1}(\\text{width}) + \\beta_{2}(\\text{weight})$"
   ]
  },
  {
   "cell_type": "code",
   "execution_count": 36,
   "metadata": {},
   "outputs": [],
   "source": [
    "# Cross check the predictive performance of Model 2 (X = width, weight)\n",
    "performa_width_weight = predictive_performance(model_result = result_width_weight,\n",
    "                                               threshold = 0.5)\n",
    "\n",
    "# Extract the metrics\n",
    "accuracy, sensitivity, specificity = performa_width_weight"
   ]
  },
  {
   "cell_type": "code",
   "execution_count": 37,
   "metadata": {},
   "outputs": [
    {
     "name": "stdout",
     "output_type": "stream",
     "text": [
      "Model 1 : logit = b0 + b1(Width)\n",
      "Accuracy    = 0.7110\n",
      "Sensitivity = 0.8559\n",
      "Specificity = 0.4516\n"
     ]
    }
   ],
   "source": [
    "# Print the metrics\n",
    "print(f\"Model 1 : logit = b0 + b1(Width)\")\n",
    "print(f\"Accuracy    = {accuracy:.4f}\")\n",
    "print(f\"Sensitivity = {sensitivity:.4f}\")\n",
    "print(f\"Specificity = {specificity:.4f}\")"
   ]
  },
  {
   "cell_type": "markdown",
   "metadata": {},
   "source": [
    "Table below summarize the predictive performance from Model 1 and Model 2 with cut-off probability $\\pi_{0}=0.5$\n",
    "<center>\n",
    "\n",
    "|Model|Accuracy|Sensitivity|Specificity|\n",
    "|:--:|:--:|:--:|:--:|\n",
    "|Model 1|0.7052|0.8559|0.4355|\n",
    "|Model 2|0.7110|0.8559|0.4516|\n",
    "\n",
    "</center>\n",
    "<br>\n",
    "\n",
    "**Conclusion**:\n",
    "\n",
    "> Model 2 results the better accuracy and specificity, with the same value of sensitivity."
   ]
  },
  {
   "cell_type": "markdown",
   "metadata": {},
   "source": [
    "### **2.2 ROC and AUC**\n",
    "---"
   ]
  },
  {
   "cell_type": "markdown",
   "metadata": {},
   "source": [
    "- What if we choose other values for cut-off probability $\\pi_{0}$?\n",
    "- We can plot the ROC curve and its AUC.\n",
    "- You can see the method from Sklearn [here](https://scikit-learn.org/stable/modules/generated/sklearn.metrics.roc_curve.html)."
   ]
  },
  {
   "cell_type": "markdown",
   "metadata": {},
   "source": [
    "First, we need predicted probabilities from the logistic model."
   ]
  },
  {
   "cell_type": "code",
   "execution_count": 38,
   "metadata": {},
   "outputs": [],
   "source": [
    "# Calculate success probabilities from model 1\n",
    "pi1 = result_width.predict(exog = width)"
   ]
  },
  {
   "cell_type": "markdown",
   "metadata": {},
   "source": [
    "Import the method from Sklearn."
   ]
  },
  {
   "cell_type": "code",
   "execution_count": 39,
   "metadata": {},
   "outputs": [],
   "source": [
    "# Using method sklearn.metrics.roc_curve\n",
    "from sklearn import metrics\n",
    "\n",
    "# Calculate sensitivity (TPR) and 1-specificity (FPR) from each possible threshold\n",
    "fpr1, tpr1, threshold = metrics.roc_curve(y_true = satellite,\n",
    "                                          y_score = pi1)\n",
    "\n",
    "# Calculate AUC score using method sklearn.metrics.roc_auc_score\n",
    "auc1 = metrics.roc_auc_score(y_true = satellite,\n",
    "                             y_score = pi1)\n",
    "auc1 = round(auc1,4)"
   ]
  },
  {
   "cell_type": "code",
   "execution_count": 40,
   "metadata": {},
   "outputs": [
    {
     "data": {
      "image/png": "[encoded data removed]",
      "text/plain": [
       "<Figure size 640x480 with 1 Axes>"
      ]
     },
     "metadata": {},
     "output_type": "display_data"
    }
   ],
   "source": [
    "# Plot ROC and its AUC\n",
    "plt.plot(fpr1, tpr1,\n",
    "         label = \"AUC Model 1=\"+str(auc1))\n",
    "\n",
    "plt.ylabel(\"Sensitivity\")\n",
    "plt.xlabel(\"False Positive Rate (1- Specificity)\")\n",
    "plt.legend(loc = 4)\n",
    "plt.show()"
   ]
  },
  {
   "cell_type": "markdown",
   "metadata": {},
   "source": [
    "Next, we want to compare Model 1 and Model 2 by their ROC and AUC."
   ]
  },
  {
   "cell_type": "code",
   "execution_count": 41,
   "metadata": {},
   "outputs": [
    {
     "data": {
      "image/png": "[encoded data removed]",
      "text/plain": [
       "<Figure size 640x480 with 1 Axes>"
      ]
     },
     "metadata": {},
     "output_type": "display_data"
    }
   ],
   "source": [
    "# ROC and AUC Model 2\n",
    "# Define predictors of model 2, matrix X = [width, weight]\n",
    "width_weight = data[['Width', 'Weight']]\n",
    "\n",
    "# Calculate success probabilities from model 2\n",
    "pi2 = result_width_weight.predict(exog = width_weight)\n",
    "\n",
    "# Calculate sensitivity (TPR) and 1-specificity (FPR) from each possible threshold\n",
    "# Using method sklearn.metrics.roc_curve\n",
    "fpr2, tpr2, threshold = metrics.roc_curve(y_true = satellite,\n",
    "                                          y_score = pi2)\n",
    "\n",
    "# Calculate AUC score using method sklearn.metrics.roc_auc_score\n",
    "auc2 = metrics.roc_auc_score(y_true = satellite,\n",
    "                             y_score = pi2)\n",
    "auc2 = round(auc2,4)\n",
    "\n",
    "# Plot ROC and its AUC\n",
    "plt.plot(fpr2, tpr2,\n",
    "         label = \"AUC Model 2=\"+str(auc2),\n",
    "         color = 'orange')\n",
    "\n",
    "plt.ylabel(\"Sensitivity\")\n",
    "plt.xlabel(\"False Positive Rate (1- Specificity)\")\n",
    "plt.legend(loc = 4)\n",
    "plt.show()"
   ]
  },
  {
   "cell_type": "markdown",
   "metadata": {},
   "source": [
    "Then compare ROC and AUC from two models."
   ]
  },
  {
   "cell_type": "code",
   "execution_count": 42,
   "metadata": {},
   "outputs": [
    {
     "data": {
      "image/png": "[encoded data removed]",
      "text/plain": [
       "<Figure size 640x480 with 1 Axes>"
      ]
     },
     "metadata": {},
     "output_type": "display_data"
    }
   ],
   "source": [
    "# Plot ROC AUC Model 1\n",
    "plt.plot(fpr1, tpr1,\n",
    "         label = \"AUC Model 1=\"+str(auc1))\n",
    "\n",
    "# Plot ROC AUC Model 2\n",
    "plt.plot(fpr2, tpr2,\n",
    "         label = \"AUC Model 2=\"+str(auc2),\n",
    "         color = 'orange')\n",
    "\n",
    "plt.ylabel(\"Sensitivity\")\n",
    "plt.xlabel(\"False Positive Rate (1- Specificity)\")\n",
    "plt.legend(loc = 4)\n",
    "plt.show()"
   ]
  },
  {
   "cell_type": "markdown",
   "metadata": {},
   "source": [
    "**Conclusion** :\n",
    "- We can see only a trivial difference between the two ROC curves, but model 2 yields the higher AUC.\n",
    "- By its predictive performance, model 2 with both predictors Width and Weight perform better than model 1 with single predictor Width.\n"
   ]
  }
 ],
 "metadata": {
  "kernelspec": {
   "display_name": ".venv",
   "language": "python",
   "name": "python3"
  },
  "language_info": {
   "codemirror_mode": {
    "name": "ipython",
    "version": 3
   },
   "file_extension": ".py",
   "mimetype": "text/x-python",
   "name": "python",
   "nbconvert_exporter": "python",
   "pygments_lexer": "ipython3",
   "version": "3.9.5"
  }
 },
 "nbformat": 4,
 "nbformat_minor": 2
}
