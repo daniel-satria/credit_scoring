{
 "cells": [
  {
   "cell_type": "markdown",
   "metadata": {},
   "source": [
    "# **Logistic Regression - Initial Model Building, Model Interpretation & Significance Test**"
   ]
  },
  {
   "cell_type": "markdown",
   "metadata": {},
   "source": [
    "---\n",
    "**Outline**\n",
    "\n",
    "1. Introduction to Logistic Regression\n",
    "2. Model Building\n",
    "3. Model Interpretation\n",
    " - Linear Approximation Interpretation\n",
    " - Odds Ratio Interpretation\n",
    " - Standardized Parameter Interpretation\n",
    " - Predicted Probabilities\n",
    "4. Significance Testing"
   ]
  },
  {
   "cell_type": "code",
   "execution_count": 3,
   "metadata": {},
   "outputs": [],
   "source": [
    "# Load data manipulation package\n",
    "import numpy as np\n",
    "import pandas as pd\n",
    "\n",
    "# Load data visualization package\n",
    "import matplotlib.pyplot as plt\n",
    "import seaborn as sns"
   ]
  },
  {
   "cell_type": "markdown",
   "metadata": {},
   "source": [
    "# **Initial Model Building**"
   ]
  },
  {
   "cell_type": "markdown",
   "metadata": {},
   "source": [
    "## **Likelihood Function**\n",
    "\n",
    "The probability of the observed data that expressed as a function\n",
    "of the parameter $\\pi$ (success probability)."
   ]
  },
  {
   "cell_type": "markdown",
   "metadata": {},
   "source": [
    "In general, **likelihood function** for the identical and independent observations with binary response:\n",
    "\n",
    "$$\n",
    "\\mathcal{L} = \\prod_{i=1}^{n}\\pi(x_{i})^{y_{i}}[1-\\pi(x_{i})]^{(1-y_{i})}\n",
    "$$\n",
    "- If $y_i=1$, the likelihood value for the observation is the success probability itself:\n",
    "$$\n",
    "\\ell = \\pi(x_{i})^{1}[1-\\pi(x_{i})]^{0} = \\pi(x_{i})\n",
    "$$\n",
    "- Otherwise, $y_i=0$ , the likelihood value for the observation is the failure probability:\n",
    "$$\n",
    "\\ell = \\pi(x_{i})^{0}[1-\\pi(x_{i})]^{1} = 1-\\pi(x_{i})\n",
    "$$"
   ]
  },
  {
   "cell_type": "markdown",
   "metadata": {},
   "source": [
    "## **Maximum Likelihood Estimation (MLE)**\n",
    "The maximum likelihood estimate is the parameter value at which the likelihood function takes its maximum value."
   ]
  },
  {
   "cell_type": "markdown",
   "metadata": {},
   "source": [
    "- We want the maximum likelihood estimate $\\pi(x)$ from the n observations, where:\n",
    "$$\n",
    "\\pi(x) = \\frac{e^{(\\beta_{0}+\\beta_{1}x)}}{1+e^{(\\beta_{0}+\\beta_{1}x)}}\n",
    "$$\n",
    "- To maximize the likelihood function $\\mathcal{L}$, we need to find the optimum parameter $\\beta_{0}$ and $\\beta_{1}$."
   ]
  },
  {
   "cell_type": "markdown",
   "metadata": {},
   "source": [
    "## **Negative Log Likelihood (Log Loss)**"
   ]
  },
  {
   "cell_type": "markdown",
   "metadata": {},
   "source": [
    "- It is easier mathematically to work with the (natural) log of equation.\n",
    "- So, we transform the likelihood function into **log likelihood function**:\n",
    "$$\n",
    "\\log(\\mathcal{L}(\\beta)) = \\sum_{i=1}^{n}(y_{i}\\log[\\pi (x_{i})]+(1-y_{i})\\log[1-\\pi(x_{i})])\n",
    "$$\n",
    "- We want to maximize the log likelihood, but gradient descent optimization works to minimize the cost function.\n",
    "- Thus, we take the negative value of log likelihood as the cost function.\n",
    "- The **negative log likelihood (NLL)** or **log loss** is defined as:\n",
    "$$\n",
    "\\text{NLL}=-\\log(\\mathcal{L}(\\beta)) = -\\sum_{i=1}^{n}(y_{i}\\log[\\pi (x_{i})]+(1-y_{i})\\log[1-\\pi(x_{i})])\n",
    "$$"
   ]
  },
  {
   "cell_type": "markdown",
   "metadata": {},
   "source": [
    "## **Optimization with Gradient Descent**\n",
    "\n",
    "**Our Objective**\n",
    "- **Minimize** the cost function log loss.\n",
    "\n",
    "$$\n",
    "\\underset{\\beta}{\\arg \\min} \\ \\text{NLL}(\\beta)\n",
    "$$\n",
    "\n",
    "- We find the optimum parameter $\\beta_{j}$ where:\n",
    "$$\n",
    "\\frac{\\partial \\text N \\text L \\text L}{\\partial \\beta_{j}}=0\n",
    "$$\n",
    "\n",
    "- The derivative of log loss or negative log-likelihood (NLL) w.r.t. $\\beta_{j}$ is called the gradient of $\\beta_{j}$.\n",
    "\n",
    "$$\n",
    "\\frac{\\partial \\text N \\text L \\text L}{\\partial \\beta_{j}}=-\\sum_{i=1}^{n}\\left [ y_{i}-\\pi(x_{i}) \\right ]x_{j},$$ \n",
    "<center> or </center>\n",
    "\n",
    "$$ \\frac{\\partial \\text N \\text L \\text L}{\\partial \\beta_{j}}=\\sum_{i=1}^{n}\\left[ \\pi(x_{i}) - y_{i} \\right ]x_{j},$$ \n",
    "\n",
    "<center> with  </center> \n",
    "\n",
    "$$ j=1,2,\\dots,p$$"
   ]
  },
  {
   "cell_type": "markdown",
   "metadata": {},
   "source": [
    "# **Model Interpretation**"
   ]
  },
  {
   "cell_type": "markdown",
   "metadata": {},
   "source": [
    "## **1. Linear Approximation Interpretation**\n",
    "- Logistic/sigmoid model is curved rather than a straight line.\n",
    "\n",
    "<center> <img src=\"https://drive.google.com/uc?id=1PLmvTPnf5DDYEfbmMmshz78yhr0tRxdR\" width=500> </center>"
   ]
  },
  {
   "cell_type": "markdown",
   "metadata": {},
   "source": [
    "1. Logistic/sigmoid model is curved rather than a straight line.\n",
    "  - That line has slope equal to $\\beta \\pi(x)[1-\\pi(x)]$ for parameter $\\beta$.\n",
    "  - When $\\pi(x)$=0 or $\\pi(x)$=0, the slope approaches 0.\n",
    "  - At which level the steepest slope occurs?\n",
    "    - Answer: at median effective level, when $\\pi(x)$=0.5.\n",
    "    - At median effective level, $\\pi(x)$=0.5 has slope $\\beta (0.5)[1-(0.5)] = 0.25 \\beta$\n",
    "2. Median effective level is the level at which each\n",
    "outcome has a 50% chance, or a success is as likely as a failure.\n",
    "  - Mathematically, median effective level is the $x$ value at which the odds($\\pi(x)$)=1 or $\\pi(x)$=0.5\n",
    "  - Median effective level is denoted $EL_{50}$\n",
    "$$\n",
    "EL_{50} = -\\beta_{0}/\\beta_{1}\n",
    "$$\n",
    "3. $EL_{50}$ represents the estimated rate of probability change is greatest at the $EL_{50}$ value at which  $\\pi(x)$=0.5.\n",
    "4. In conclusion, **at $EL_{50}$ value, the estimated probability increases at the rate of $0.25 \\beta$ per one unit increase in $x$**."
   ]
  },
  {
   "cell_type": "markdown",
   "metadata": {},
   "source": [
    "## **2. Odds Ratio Interpretation**"
   ]
  },
  {
   "cell_type": "markdown",
   "metadata": {},
   "source": [
    "- Remember the logit or log(odds) function:\n",
    "$$\n",
    "\\text{log(odds)} = \\beta_{0}+\\beta_{1}x\n",
    "$$\n",
    "  - Interpretation: every one unit increase in $x$ implies the increase in $\\beta_{1}$ unit in log odds."
   ]
  },
  {
   "cell_type": "markdown",
   "metadata": {},
   "source": [
    "- To interpret in terms of odds, we transform the log(odds) into odds.\n",
    "$$\n",
    "\\text {log(odds)} = \\beta_{0}+\\beta_{1}x\n",
    "$$\n",
    "  - Thus,\n",
    "$$\n",
    "\\begin{align*}\n",
    "\\text {odds} &= e^{(\\beta_{0}+\\beta_{1}x)} \\\\\n",
    "&= e^{\\beta_{0}} \\left (e^{\\beta_{1}} \\right )^{x} \\\\\n",
    "\\end{align*}\n",
    "$$\n",
    "  - Interpretation: **the estimated odds of success multiply by $\\text{exp}(\\beta_{1})$ for one unit increase in $x$.**"
   ]
  },
  {
   "cell_type": "markdown",
   "metadata": {},
   "source": [
    "## **3. Predicted Probabilities**"
   ]
  },
  {
   "cell_type": "markdown",
   "metadata": {},
   "source": [
    "- Remember odds interpretation:\n",
    "$$\n",
    "\\text{odds} = \\frac{\\pi(x)}{1-\\pi(x)}\n",
    "$$\n",
    "- With success probability $\\pi(x)$:\n",
    "$$\n",
    "\\begin{align*}\n",
    "\\pi(x) &= \\frac{e^{(\\beta_{0}+\\beta_{1}x)}}{1+e^{(\\beta_{0} +\\beta_{1}x)}} \\\\\n",
    "&= \\frac{e^{\\text{log(odds)}}}{1+e^{\\text{log(odds)}}} \\\\\n",
    "\\pi(x) &= \\frac{\\text{odds}}{\\text{1+odds}}\n",
    "\\end{align*}\n",
    "$$\n",
    "- $\\text{odds}=1$ means\n",
    "$$\n",
    "\\begin{align*}\n",
    "\\pi(x) &= \\frac{\\text{odds}}{\\text{1+odds}} \\\\\n",
    "\\pi(x) &= \\frac{1}{1+1} \\\\\n",
    "\\pi(x) &= 0.5 \\\\\n",
    "\\end{align*}\n",
    "$$\n",
    "- Thus,\n",
    "  - $\\text{odds}>1$ implies $\\pi(x)>0.5$, and\n",
    "  - $\\text{odds}<1$ implies $\\pi(x)<0.5$\n",
    "- Now we can interpret the decision boundary for logistic model.\n",
    "  - If $\\pi(x)>0.5$, the observation is classified in the success category ($Y=1$),\n",
    "  - Otherwise $\\pi(x) \\leq 0.5$, the observation is classified in $Y=0$."
   ]
  },
  {
   "cell_type": "markdown",
   "metadata": {},
   "source": [
    "# **Significance Testing**"
   ]
  },
  {
   "cell_type": "markdown",
   "metadata": {},
   "source": [
    "- The hypotheses:\n",
    "  - Null Hypothesis: the probability of success $\\pi(x)$ is **independent** of $x$.\n",
    "  - Alternative Hypothesis: the probability of success $\\pi(x)$ is **not independent** of $x$.\n",
    "    - $\\text H_{0} : \\beta = 0$\n",
    "    - $\\text H_{1} : \\beta \\neq 0$"
   ]
  },
  {
   "cell_type": "markdown",
   "metadata": {},
   "source": [
    "- Test statistic:\n",
    "  - Wald statistic:\n",
    "  $$\n",
    "  z = \\beta/ \\text{SE}$$ or\n",
    "  - Wald Chi-squared statistic:\n",
    "  $$\n",
    "  z^{2}=(\\beta/ \\text{SE})^{2}$$\n",
    "  with degree of freedom = 1\n",
    "\n",
    "- Rejection region:\n",
    "  - Reject null hypothesis ($\\text H_{0}$) if $z>z_{\\alpha}$ or $z^{2}>\\chi^{2}_\\alpha, _{\\; \\text{df}=1}$, or\n",
    "  - Reject null hypothesis ($\\text H_{0}$) if $\\text{P-value}<\\alpha$.\n"
   ]
  },
  {
   "cell_type": "markdown",
   "metadata": {},
   "source": [
    "# <font color='white'>Model Building</font>"
   ]
  },
  {
   "cell_type": "code",
   "execution_count": 9,
   "metadata": {},
   "outputs": [
    {
     "data": {
      "text/html": [
       "<div>\n",
       "<style scoped>\n",
       "    .dataframe tbody tr th:only-of-type {\n",
       "        vertical-align: middle;\n",
       "    }\n",
       "\n",
       "    .dataframe tbody tr th {\n",
       "        vertical-align: top;\n",
       "    }\n",
       "\n",
       "    .dataframe thead th {\n",
       "        text-align: right;\n",
       "    }\n",
       "</style>\n",
       "<table border=\"1\" class=\"dataframe\">\n",
       "  <thead>\n",
       "    <tr style=\"text-align: right;\">\n",
       "      <th></th>\n",
       "      <th>Unnamed: 0</th>\n",
       "      <th>Color</th>\n",
       "      <th>Spine</th>\n",
       "      <th>Width</th>\n",
       "      <th>Weight</th>\n",
       "      <th>Satellite</th>\n",
       "    </tr>\n",
       "  </thead>\n",
       "  <tbody>\n",
       "    <tr>\n",
       "      <th>0</th>\n",
       "      <td>0</td>\n",
       "      <td>2</td>\n",
       "      <td>3</td>\n",
       "      <td>28.3</td>\n",
       "      <td>3.05</td>\n",
       "      <td>1</td>\n",
       "    </tr>\n",
       "    <tr>\n",
       "      <th>1</th>\n",
       "      <td>1</td>\n",
       "      <td>3</td>\n",
       "      <td>3</td>\n",
       "      <td>26.0</td>\n",
       "      <td>2.60</td>\n",
       "      <td>1</td>\n",
       "    </tr>\n",
       "    <tr>\n",
       "      <th>2</th>\n",
       "      <td>2</td>\n",
       "      <td>3</td>\n",
       "      <td>3</td>\n",
       "      <td>25.6</td>\n",
       "      <td>2.15</td>\n",
       "      <td>0</td>\n",
       "    </tr>\n",
       "    <tr>\n",
       "      <th>3</th>\n",
       "      <td>3</td>\n",
       "      <td>4</td>\n",
       "      <td>2</td>\n",
       "      <td>21.0</td>\n",
       "      <td>1.85</td>\n",
       "      <td>0</td>\n",
       "    </tr>\n",
       "    <tr>\n",
       "      <th>4</th>\n",
       "      <td>4</td>\n",
       "      <td>2</td>\n",
       "      <td>3</td>\n",
       "      <td>29.0</td>\n",
       "      <td>3.00</td>\n",
       "      <td>1</td>\n",
       "    </tr>\n",
       "  </tbody>\n",
       "</table>\n",
       "</div>"
      ],
      "text/plain": [
       "   Unnamed: 0  Color  Spine  Width  Weight  Satellite\n",
       "0           0      2      3   28.3    3.05          1\n",
       "1           1      3      3   26.0    2.60          1\n",
       "2           2      3      3   25.6    2.15          0\n",
       "3           3      4      2   21.0    1.85          0\n",
       "4           4      2      3   29.0    3.00          1"
      ]
     },
     "execution_count": 9,
     "metadata": {},
     "output_type": "execute_result"
    }
   ],
   "source": [
    "# Import dataset from csv file\n",
    "data = pd.read_csv('horse_crab.csv')\n",
    "\n",
    "# Table check\n",
    "data.head()"
   ]
  },
  {
   "cell_type": "code",
   "execution_count": 10,
   "metadata": {},
   "outputs": [
    {
     "name": "stdout",
     "output_type": "stream",
     "text": [
      "<class 'pandas.core.frame.DataFrame'>\n",
      "RangeIndex: 173 entries, 0 to 172\n",
      "Data columns (total 6 columns):\n",
      " #   Column      Non-Null Count  Dtype  \n",
      "---  ------      --------------  -----  \n",
      " 0   Unnamed: 0  173 non-null    int64  \n",
      " 1   Color       173 non-null    int64  \n",
      " 2   Spine       173 non-null    int64  \n",
      " 3   Width       173 non-null    float64\n",
      " 4   Weight      173 non-null    float64\n",
      " 5   Satellite   173 non-null    int64  \n",
      "dtypes: float64(2), int64(4)\n",
      "memory usage: 8.2 KB\n"
     ]
    }
   ],
   "source": [
    "# Information check\n",
    "data.info()"
   ]
  },
  {
   "cell_type": "markdown",
   "metadata": {},
   "source": [
    "The dataset has **173 observations** from **5 variables**, but we will use only response variable (Satellite) and one explanatory variable (Width)."
   ]
  },
  {
   "cell_type": "code",
   "execution_count": 12,
   "metadata": {},
   "outputs": [
    {
     "data": {
      "text/html": [
       "<div>\n",
       "<style scoped>\n",
       "    .dataframe tbody tr th:only-of-type {\n",
       "        vertical-align: middle;\n",
       "    }\n",
       "\n",
       "    .dataframe tbody tr th {\n",
       "        vertical-align: top;\n",
       "    }\n",
       "\n",
       "    .dataframe thead th {\n",
       "        text-align: right;\n",
       "    }\n",
       "</style>\n",
       "<table border=\"1\" class=\"dataframe\">\n",
       "  <thead>\n",
       "    <tr style=\"text-align: right;\">\n",
       "      <th></th>\n",
       "      <th>Satellite</th>\n",
       "      <th>Width</th>\n",
       "    </tr>\n",
       "  </thead>\n",
       "  <tbody>\n",
       "    <tr>\n",
       "      <th>0</th>\n",
       "      <td>1</td>\n",
       "      <td>28.3</td>\n",
       "    </tr>\n",
       "    <tr>\n",
       "      <th>1</th>\n",
       "      <td>1</td>\n",
       "      <td>26.0</td>\n",
       "    </tr>\n",
       "    <tr>\n",
       "      <th>2</th>\n",
       "      <td>0</td>\n",
       "      <td>25.6</td>\n",
       "    </tr>\n",
       "    <tr>\n",
       "      <th>3</th>\n",
       "      <td>0</td>\n",
       "      <td>21.0</td>\n",
       "    </tr>\n",
       "    <tr>\n",
       "      <th>4</th>\n",
       "      <td>1</td>\n",
       "      <td>29.0</td>\n",
       "    </tr>\n",
       "  </tbody>\n",
       "</table>\n",
       "</div>"
      ],
      "text/plain": [
       "   Satellite  Width\n",
       "0          1   28.3\n",
       "1          1   26.0\n",
       "2          0   25.6\n",
       "3          0   21.0\n",
       "4          1   29.0"
      ]
     },
     "execution_count": 12,
     "metadata": {},
     "output_type": "execute_result"
    }
   ],
   "source": [
    "# Code the response variable Satellite\n",
    "# Satellite=0 --> Satellite=0, otherwise Satellite=1\n",
    "data['Satellite'] = data['Satellite'].apply(lambda x: 0 if x==0 else 1)\n",
    "\n",
    "# Use only 2 variables of interest\n",
    "data = data[['Satellite', 'Width']]\n",
    "\n",
    "# Data check\n",
    "data.head()"
   ]
  },
  {
   "cell_type": "markdown",
   "metadata": {},
   "source": [
    " ---\n",
    "## **1. Likelihood Function**\n",
    "In general, **likelihood function** for the identical and independent observations with binary response:\n",
    "\n",
    "$$\n",
    "\\mathcal{L} = \\prod_{i=1}^{n}\\pi(x_{i})^{y_{i}}[1-\\pi(x_{i})]^{(1-y_{i})}\n",
    "$$"
   ]
  },
  {
   "cell_type": "code",
   "execution_count": 13,
   "metadata": {},
   "outputs": [
    {
     "data": {
      "text/plain": [
       "1    111\n",
       "0     62\n",
       "Name: Satellite, dtype: int64"
      ]
     },
     "execution_count": 13,
     "metadata": {},
     "output_type": "execute_result"
    }
   ],
   "source": [
    "# Describe the counts of each response category\n",
    "count_data = data['Satellite'].value_counts()\n",
    "count_data"
   ]
  },
  {
   "cell_type": "markdown",
   "metadata": {},
   "source": [
    "- Assume $\\pi(x_{i}) = 0.5$, $\\forall i$.\n",
    "- Can you calculate the likelihood value from the horseshoe crab observations?"
   ]
  },
  {
   "cell_type": "code",
   "execution_count": 14,
   "metadata": {},
   "outputs": [],
   "source": [
    "p_success = 0.5\n",
    "n_success = count_data.loc[1]\n",
    "n_failed = count_data.loc[0]\n",
    "\n",
    "likelihood = (p_success**n_success) * ((1-p_success)**n_failed)"
   ]
  },
  {
   "cell_type": "markdown",
   "metadata": {},
   "source": [
    "<details>\n",
    "    <summary><b>Click to see answer</b></summary>\n",
    "\n",
    "```python\n",
    "p_success = 0.5\n",
    "n_success = count_data.loc[1]\n",
    "n_failed = count_data.loc[0]\n",
    "\n",
    "likelihood = (p_success**n_success) * ((1-p_success)**n_failed)\n",
    "```\n",
    "\n",
    "Or in numbers:\n",
    "```python\n",
    "likelihood = (0.5**111)*((1-0.5)**62)\n",
    "```\n"
   ]
  },
  {
   "cell_type": "code",
   "execution_count": 15,
   "metadata": {},
   "outputs": [
    {
     "data": {
      "text/plain": [
       "-119.91446223687053"
      ]
     },
     "execution_count": 15,
     "metadata": {},
     "output_type": "execute_result"
    }
   ],
   "source": [
    "# Transform likelihood into log-likelihood\n",
    "log_likelihood = np.log(likelihood)\n",
    "\n",
    "log_likelihood"
   ]
  },
  {
   "cell_type": "markdown",
   "metadata": {},
   "source": [
    "---\n",
    "## **2. Maximum Likelihood Estimation**\n",
    "The maximum likelihood estimate is the parameter value at which the likelihood function takes its maximum value."
   ]
  },
  {
   "cell_type": "markdown",
   "metadata": {},
   "source": [
    "1. Calculate the likelihood and log-likelihood value when **$\\pi(x_{i})$ = 0.4** for $i$=1,2,...173."
   ]
  },
  {
   "cell_type": "markdown",
   "metadata": {},
   "source": [
    "2. Calculate the likelihood and log-likelihood value when **$\\pi(x_{i})$ = 0.6** for $i$=1,2,...173."
   ]
  },
  {
   "cell_type": "markdown",
   "metadata": {},
   "source": [
    "\n",
    "- The estimate of $\\pi(x_{i})$=0.6 yields the largest likelihood/log-likelihood value.\n",
    "- $\\pi(x_{i})$ is the estimate of success probability.\n",
    "- From 173 observations, 111 are success observations (y=1, the crab having any satellite).\n",
    "- Thus p(success) = 111/173 = 0.64 --> estimate of success probability falls between [0.6,0.7]."
   ]
  },
  {
   "cell_type": "markdown",
   "metadata": {},
   "source": [
    "**Summary:**\n",
    "- Make a plot of likelihood/log-likelihood value for each estimate of $\\pi(x_{i})$."
   ]
  },
  {
   "cell_type": "code",
   "execution_count": 17,
   "metadata": {},
   "outputs": [],
   "source": [
    "# Assign the estimate value of pi in range [0.1,0.9]\n",
    "pi = np.arange(0.1, 1, 0.1)\n",
    "\n",
    "# Define the number of success and failed observations\n",
    "n_success = count_data.loc[1]\n",
    "n_failed = count_data.loc[0]\n",
    "\n",
    "# Likelihood function for 173 crabs observations\n",
    "likelihood = (pi**n_success)*((1-pi)**n_failed)\n"
   ]
  },
  {
   "cell_type": "code",
   "execution_count": 18,
   "metadata": {},
   "outputs": [
    {
     "data": {
      "text/plain": [
       "[<matplotlib.lines.Line2D at 0x11fc7c580>]"
      ]
     },
     "execution_count": 18,
     "metadata": {},
     "output_type": "execute_result"
    },
    {
     "data": {
      "image/png": "[encoded data removed]",
      "text/plain": [
       "<Figure size 640x480 with 1 Axes>"
      ]
     },
     "metadata": {},
     "output_type": "display_data"
    }
   ],
   "source": [
    "# Plot pi vs likelihood\n",
    "plt.plot(pi, likelihood, '--o')"
   ]
  },
  {
   "cell_type": "markdown",
   "metadata": {},
   "source": [
    "- Oops! The likelihood values are too small.\n",
    "- It is easier mathematically to work with log transformation.\n",
    "<br>\n",
    "$$\n",
    "\\log(\\mathcal{L}(\\beta)) = \\sum_{i=1}^{n}(y_{i}\\log[\\pi (x_{i})]+(1-y_{i})\\log[1-\\pi(x_{i})])\n",
    "$$"
   ]
  },
  {
   "cell_type": "code",
   "execution_count": 20,
   "metadata": {},
   "outputs": [
    {
     "data": {
      "text/plain": [
       "[<matplotlib.lines.Line2D at 0x11fe66bc0>]"
      ]
     },
     "execution_count": 20,
     "metadata": {},
     "output_type": "execute_result"
    },
    {
     "data": {
      "image/png": "[encoded data removed]",
      "text/plain": [
       "<Figure size 640x480 with 1 Axes>"
      ]
     },
     "metadata": {},
     "output_type": "display_data"
    }
   ],
   "source": [
    "# Calculate log-likelihood\n",
    "log_likelihood = n_success*np.log(pi) + n_failed*np.log(1-pi)\n",
    "\n",
    "# Plot pi vs log-likelihood\n",
    "plt.plot(pi, log_likelihood, '--o')"
   ]
  },
  {
   "cell_type": "markdown",
   "metadata": {},
   "source": [
    "- The likelihood function for crabs data has its maximum at $\\pi(x_{i})$ between 0.6 and 0.7, since the proportion of success is 0.64 of the total observations."
   ]
  },
  {
   "cell_type": "markdown",
   "metadata": {},
   "source": [
    "---\n",
    "## **3. Optimization with Gradient Descent**"
   ]
  },
  {
   "cell_type": "markdown",
   "metadata": {},
   "source": [
    "**Remember:**\n",
    "- We want to maximize likelihood estimate $\\pi(x)$ from the n observations, where:\n",
    "$$\n",
    "\\pi(x) = \\frac{e^{(\\beta_{0}+\\beta_{1}x)}}{1+e^{(\\beta_{0}+\\beta_{1}x)}}\n",
    "$$\n",
    "- Hence, we need to find $\\beta_{0}$ and $\\beta_{1}$ that maximize the likelihood.\n",
    "- We call this the optimum $\\beta_{0}$ and $\\beta_{1}$.\n",
    "- To find the optimum $\\beta_{0}$ and $\\beta_{1}$, we maximize the likelihood/log-likelihood function, or we minimize the **negative log-likelihood**:\n",
    "$$\n",
    "-\\log(\\mathcal{L}(\\beta)) = -\\sum_{i=1}^{n}(y_{i}\\log[\\pi (x_{i})]+(1-y_{i})\\log[1-\\pi(x_{i})])\n",
    "$$\n",
    "- We find the optimum parameter $\\beta_{j}$ where:\n",
    "$$\n",
    "\\frac{\\partial \\text{NLL}}{\\partial \\beta_{j}}=0 \\;\\;\\;\\;\\;\\text o \\text r:\n",
    "$$\n",
    "$$\n",
    "\\sum_{i=1}^{n}\\left [ \\pi(x_{i})-y_{i} \\right ]x_{j}=0, \\;\\;\\;\\;j=1,2,\\dots,p\n",
    "$$"
   ]
  },
  {
   "cell_type": "markdown",
   "metadata": {},
   "source": [
    "---\n",
    "**Optimization Algorithm:**\n",
    "1. Define the response variable ($y$) and the explanatory variable ($X$).\n",
    "2. Initialize parameter estimate $\\beta_{0}=0.0$ and $\\beta_{1}=0.0$.\n",
    "3. Calculate the gradient $\\frac{\\partial \\text {NLL}}{\\partial \\beta_{j}}$, thus we have the gradient of $\\beta_{0}$ and $\\beta_{1}$.\n",
    "4. Update the new $\\beta_{0}$ and $\\beta_{1}$:\n",
    "$$\n",
    "\\beta _{j}^{new} = \\beta _{j}^{old} - \\eta \\; \\frac{\\partial \\text{NLL}}{\\partial \\beta _{j}^{old}}\n",
    "$$\n",
    "7. Repeat step 2-4 until converge:\n",
    "  - $\\Delta \\beta_{j} < \\text{tolerance}$, or\n",
    "  - $\\nabla_{\\beta_{j}} \\text{NLL} < \\text{tolerance}$\n",
    "    - Note: $\\nabla$ is the differential nabla operator or gradient, acting to a differentiable function."
   ]
  },
  {
   "cell_type": "code",
   "execution_count": 22,
   "metadata": {},
   "outputs": [],
   "source": [
    "# Define the input X and y\n",
    "X = data[['Width']].to_numpy()\n",
    "y = data['Satellite'].to_numpy()"
   ]
  },
  {
   "cell_type": "code",
   "execution_count": 23,
   "metadata": {},
   "outputs": [],
   "source": [
    "# Function to initialize parameter estimate\n",
    "def initialize_parameter(X):\n",
    "    \"\"\"\n",
    "    Function to initialize the parameter estimate or coeficient.\n",
    "\n",
    "    Parameters\n",
    "    ----------\n",
    "    X   : {array-like} of shape (n_sample, n_predictors)\n",
    "        The independent variable or predictor\n",
    "\n",
    "    Returns\n",
    "    -------\n",
    "    b_0 : float\n",
    "        The intercept\n",
    "\n",
    "    b_1 : {array-like} of shape (n_predictors, 1)\n",
    "        The slope/weights\n",
    "    \"\"\"\n",
    "    # Extract the number of predictors\n",
    "    n_parameters = X.shape[1]\n",
    "\n",
    "    # Initialize the parameter estimate\n",
    "    b0_initial = 0.0\n",
    "    b1_initial = np.zeros(n_parameters)\n",
    "\n",
    "    return b0_initial, b1_initial"
   ]
  },
  {
   "cell_type": "code",
   "execution_count": 24,
   "metadata": {},
   "outputs": [
    {
     "data": {
      "text/plain": [
       "(0.0, array([0.]))"
      ]
     },
     "execution_count": 24,
     "metadata": {},
     "output_type": "execute_result"
    }
   ],
   "source": [
    "# Initialize b0 and b1\n",
    "b0_initial, b1_initial = initialize_parameter(X)\n",
    "b0_initial, b1_initial"
   ]
  },
  {
   "cell_type": "markdown",
   "metadata": {},
   "source": [
    "**Calculate the success probability $\\pi(x_{i})$ and cost function (log loss or negative log-likelihood).**\n",
    "- Before calculate the gradient of $\\beta_{0}$, $\\beta_{1}$, and log loss, we need information about $y_{i}$ and $\\pi(x_{i})$, where:\n",
    "$$\n",
    "\\pi(x) = \\frac{e^{(\\beta_{0}+\\beta_{1}x)}}{1+e^{(\\beta_{0}+\\beta_{1}x)}}\n",
    "$$\n",
    "- And we need additional information about log loss value of each iteration, thus we know the log loss value of the optimum $\\beta_{0}$ and $\\beta_{1}$ where:\n",
    "$$\n",
    "-\\log(\\mathcal{L}(\\beta)) = -\\sum_{i=1}^{n}(y_{i}\\log[\\pi (x_{i})]+(1-y_{i})\\log[1-\\pi(x_{i})])\n",
    "$$"
   ]
  },
  {
   "cell_type": "code",
   "execution_count": 26,
   "metadata": {},
   "outputs": [],
   "source": [
    "# Sigmoid function to calculate success probability (pi) of each observation\n",
    "def sigmoid(X, b0, b1):\n",
    "    \"\"\"\n",
    "    Function to calculate the success probability of X.\n",
    "\n",
    "    Parameters\n",
    "    ----------\n",
    "    X   : {array-like} of shape (n_sample, n_predictors)\n",
    "        The independent variable or predictor\n",
    "\n",
    "    b_0 : float\n",
    "        The intercept\n",
    "\n",
    "    b_1 : {array-like} of shape (n_predictors, 1)\n",
    "        The slope/weights\n",
    "\n",
    "    Returns\n",
    "    -------\n",
    "    pi  : {array-like} of shape (n_sample, 1)\n",
    "        The success probability of X\n",
    "    \"\"\"\n",
    "    # Calculate the logit value\n",
    "    logit = b0 + np.dot(X, b1)\n",
    "\n",
    "    # Calculate the success probability\n",
    "    pi = np.exp(logit) / (1+np.exp(logit))\n",
    "\n",
    "    return pi"
   ]
  },
  {
   "cell_type": "code",
   "execution_count": 27,
   "metadata": {},
   "outputs": [
    {
     "data": {
      "text/plain": [
       "array([0.5, 0.5, 0.5])"
      ]
     },
     "execution_count": 27,
     "metadata": {},
     "output_type": "execute_result"
    }
   ],
   "source": [
    "# Calculate pi from b0 and b1 initial for each observation\n",
    "pi = sigmoid(X = X,\n",
    "             b0 = b0_initial,\n",
    "             b1 = b1_initial)\n",
    "pi[0:3]"
   ]
  },
  {
   "cell_type": "markdown",
   "metadata": {},
   "source": [
    "- Then, we can calculate log loss or negative log-likelihood as cost function.\n",
    "$$\n",
    "-\\log(\\mathcal{L}(\\beta)) = -\\sum_{i=1}^{n}(y_{i}\\log[\\pi (x_{i})]+(1-y_{i})\\log[1-\\pi(x_{i})])\n",
    "$$\n",
    "- Break the function above into two parts:\n",
    "  - `log_like_success =` $\\sum_{i=1}^{n}(y_{i}\\times \\log[\\pi (x_{i})])$ --> log loss value when $y_{i}=1$\n",
    "  - `log_like_failure =` $\\sum_{i=1}^{n}((1-y_{i})\\times \\log[1-\\pi(x_{i})])$ --> log loss value when $y_{i}=0$\n",
    "- Thus, the cost function log loss: `log_loss = -(log_like_success + log_like_failure)`"
   ]
  },
  {
   "cell_type": "code",
   "execution_count": 29,
   "metadata": {},
   "outputs": [],
   "source": [
    "# Function to calculate the negative log likelihood (log loss) as cost function\n",
    "def cost_function(y, pi, eps=1e-10):\n",
    "    \"\"\"\n",
    "    Function to calculate the negative log-likelihood (log loss).\n",
    "\n",
    "    Parameters\n",
    "    ----------\n",
    "    y   : {array-like} of shape (n_sample, )\n",
    "        The dependent or response variable\n",
    "\n",
    "    pi  : {array-like} of shape (n_sample, 1)\n",
    "        The success probability of X\n",
    "\n",
    "    eps : float\n",
    "        The additional weight to avoid log of zero value\n",
    "\n",
    "    Returns\n",
    "    -------\n",
    "    log_loss  : float\n",
    "        The negative value of log-likelihood\n",
    "    \"\"\"\n",
    "    # Calculate the log-likelihood value when y=1\n",
    "    log_like_success = y * np.log(pi + eps)\n",
    "\n",
    "    # Calculate the log-likelihood value when y=0\n",
    "    log_like_failure = (1-y) * np.log(1-pi + eps)\n",
    "\n",
    "    # Calculate the negative log-likelihood or log loss\n",
    "    log_like_total = log_like_success + log_like_failure\n",
    "    log_loss = -np.sum(log_like_total)\n",
    "\n",
    "    return log_loss"
   ]
  },
  {
   "cell_type": "code",
   "execution_count": 30,
   "metadata": {},
   "outputs": [
    {
     "data": {
      "text/plain": [
       "119.91446220227053"
      ]
     },
     "execution_count": 30,
     "metadata": {},
     "output_type": "execute_result"
    }
   ],
   "source": [
    "# Calculate log loss\n",
    "log_loss = cost_function(y = y,\n",
    "                         pi = pi)\n",
    "log_loss"
   ]
  },
  {
   "cell_type": "markdown",
   "metadata": {},
   "source": [
    "**3. Calculate the gradient $\\frac{\\partial \\text N \\text L \\text L}{\\partial \\beta}$.**\n",
    "- Derivative of log loss or negative log-likelihood (NLL) w.r.t. $\\beta_{j}$:\n",
    "$$\n",
    "\\frac{\\partial \\text{NLL}}{\\partial \\beta_{j}}=\\sum_{i=1}^{n}\\left [ \\pi(x_{i})-y_{i} \\right ]x_{j}$$\n",
    "with $j=1,2,\\dots,p$ and $p$ is the number of parameter.\n",
    "- Thus, derivative of log loss or negative log-likelihood (NLL) w.r.t. $\\beta_{0}$:\n",
    "$$\n",
    "\\frac{\\partial \\text N \\text L \\text L}{\\partial \\beta_{0}}=\\sum_{i=1}^{n}\\left [ \\pi(x_{i})-y_{i} \\right ]x_{0}\n",
    "$$\n",
    "  - We don't have $x_{0}$ in the data.\n",
    "  - We can assume $x_{0}=1$ without changing the logit equation :\n",
    "  $$\n",
    "  \\begin{align*}\n",
    "  \\text{logit}&=\\beta_{0}(x_{0})+\\beta_{1}(x_{1}) \\\\\n",
    "  &=\\beta_{0}(1)+\\beta_{1}(x_{1}) \\\\\n",
    "  \\text{logit}&=\\beta_{0}+\\beta_{1}(x_{1}) \\\\\n",
    "  \\end{align*}\n",
    "  $$\n",
    "  - Thus, the gradient of $\\beta_{0}$:\n",
    "$$\n",
    "\\frac{\\partial \\text{NLL}}{\\partial \\beta_{0}}=\\sum_{i=1}^{n}\\left [ \\pi(x_{i})-y_{i} \\right ]\n",
    "$$"
   ]
  },
  {
   "cell_type": "code",
   "execution_count": 32,
   "metadata": {},
   "outputs": [],
   "source": [
    "# Calculate derivative of log loss w.r.t b0\n",
    "def gradient_b0(pi, y):\n",
    "    \"\"\"\n",
    "    Function to calculate the gradient of log loss w.r.t the intercept.\n",
    "\n",
    "    Parameters\n",
    "    ----------\n",
    "    pi  : {array-like} of shape (n_sample, 1)\n",
    "        The success probability of X\n",
    "\n",
    "    y   : {array-like} of shape (n_sample, )\n",
    "        The dependent or response variable\n",
    "\n",
    "    Returns\n",
    "    -------\n",
    "    grad_b0  : float\n",
    "        The gradient of log loss w.r.t the intercept\n",
    "    \"\"\"\n",
    "    # Calculate the gradient of log loss w.r.t b0\n",
    "    grad_b0 = np.sum(pi-y)\n",
    "\n",
    "    return grad_b0"
   ]
  },
  {
   "cell_type": "code",
   "execution_count": 33,
   "metadata": {},
   "outputs": [
    {
     "data": {
      "text/plain": [
       "-24.5"
      ]
     },
     "execution_count": 33,
     "metadata": {},
     "output_type": "execute_result"
    }
   ],
   "source": [
    "# Calculate the gradient of b0\n",
    "grad_b0 = gradient_b0(pi = pi,\n",
    "                      y = y)\n",
    "grad_b0"
   ]
  },
  {
   "cell_type": "markdown",
   "metadata": {},
   "source": [
    "- Derivative of log loss or negative log-likelihood (NLL) w.r.t. $\\beta_{1}$:\n",
    "$$\n",
    "\\frac{\\partial \\text {NLL}}{\\partial \\beta_{1}}=\\sum_{i=1}^{n}\\left [ \\pi(x_{i})-y_{i} \\right ]x_{1}\n",
    "$$\n",
    "  - We only have one variable $x$, so $x_{1}=x$, which is:\n",
    "  - `X = data[[\"Width\"]].to_numpy()`\n",
    "\n",
    "\n",
    "  - Thus, the gradient of $\\beta_{1}$:\n",
    "$$\n",
    "\\frac{\\partial \\text {NLL}}{\\partial \\beta_{1}}=\\sum_{i=1}^{n}\\left [ \\pi(x_{i})-y_{i} \\right ]x\n",
    "$$"
   ]
  },
  {
   "cell_type": "code",
   "execution_count": 34,
   "metadata": {},
   "outputs": [],
   "source": [
    "# Calculate derivative of log loss w.r.t b1\n",
    "def gradient_b1(X, pi, y):\n",
    "    \"\"\"\n",
    "    Function to calculate the gradient of log loss w.r.t the slope/weights.\n",
    "\n",
    "    Parameters\n",
    "    ----------\n",
    "    X   : {array-like} of shape (n_sample, n_predictors)\n",
    "        The independent variable or predictor\n",
    "\n",
    "    pi  : {array-like} of shape (n_sample, 1)\n",
    "        The success probability of X\n",
    "\n",
    "    y   : {array-like} of shape (n_sample, )\n",
    "        The dependent or response variable\n",
    "\n",
    "    Returns\n",
    "    -------\n",
    "    grad_b1  : {array-like} of shape (n_predictors, 1)\n",
    "        The gradient of log loss w.r.t the slope/weights\n",
    "    \"\"\"\n",
    "    # Calculate the gradient of log loss w.r.t b0\n",
    "    grad_b1 = np.dot((X.T),(pi-y))\n",
    "\n",
    "    return grad_b1"
   ]
  },
  {
   "cell_type": "code",
   "execution_count": 35,
   "metadata": {},
   "outputs": [
    {
     "data": {
      "text/plain": [
       "array([-714.35])"
      ]
     },
     "execution_count": 35,
     "metadata": {},
     "output_type": "execute_result"
    }
   ],
   "source": [
    "# Calculate the gradient of b1\n",
    "grad_b1 = gradient_b1(X = X,\n",
    "                      pi = pi,\n",
    "                      y = y)\n",
    "grad_b1"
   ]
  },
  {
   "cell_type": "markdown",
   "metadata": {},
   "source": [
    "**4. Optimization using Gradient Descent Algorithm.**\n",
    "\n",
    "- Here we will update the new $\\beta_{0}$, $\\beta_{1}$, and its log loss value iteratively, where:\n",
    "$$\n",
    "\\beta _{j}^{new} = \\beta _{j}^{old} - \\eta \\; \\frac{\\partial \\text{NLL}}{\\partial \\beta _{j}^{old}}\n",
    "$$\n",
    "  - $\\eta$ = `eta` is the designated learning rate.\n",
    "- Keep updating $\\beta _{0}$ and $\\beta _{1}$ until converge on the optimum value of $\\beta _{0}$ and $\\beta _{1}$, where $\\nabla_{\\beta_{j}} \\text{NLL} < \\text{tolerance}$, thus:\n",
    "  - `if (abs(grad_b0) < tol and (abs(grad_b1) < tol`\n",
    "  - `tol` is the designated tolerance value for stopping the iteration.\n"
   ]
  },
  {
   "cell_type": "code",
   "execution_count": 36,
   "metadata": {},
   "outputs": [],
   "source": [
    "# Function to optimize b0 and b1 using gradient descent algorithm\n",
    "def gradient_descent(X, y, eta=0.01, tol=1e-4):\n",
    "    \"\"\"\n",
    "    Function to calculate the gradient of log loss w.r.t the slope/weights.\n",
    "\n",
    "    Parameters\n",
    "    ----------\n",
    "    X   : {array-like} of shape (n_sample, n_predictors)\n",
    "        The independent variable or predictor\n",
    "\n",
    "    y   : {array-like} of shape (n_sample, )\n",
    "        The dependent or response variable\n",
    "\n",
    "    eta : float, default=0.01\n",
    "        The designated learning rate\n",
    "\n",
    "    tol : float, default=1e-4\n",
    "        The tolerance of gradient to stop the iteration\n",
    "        The iteration will stop if (the gradient of b0 and b1) < tol\n",
    "\n",
    "    Returns\n",
    "    -------\n",
    "    b0  : float\n",
    "        The optimum parameter estimate of intercept\n",
    "\n",
    "    b1  : {array-like} of shape (n_predictors, 1)\n",
    "        The optimum parameter estimate of slope/weights\n",
    "\n",
    "    iterations  : {array-like} of shape (i, 1)\n",
    "                The list of iterations to find the optimum estimate\n",
    "\n",
    "    log_loss    : {array-like} of shape (i, 1)\n",
    "                The list of log loss until the iteration stop\n",
    "    \"\"\"\n",
    "    # Define initial b0 and b1\n",
    "    b0_initial, b1_initial = initialize_parameter(X)\n",
    "\n",
    "    # Make a list of iteration and log loss value for each iteration\n",
    "    i = 0\n",
    "    iterations = []\n",
    "    log_loss_list = []\n",
    "\n",
    "    # Make a criteria to run the iteration\n",
    "    continue_iteration = True\n",
    "\n",
    "    # Running the iteration\n",
    "    while(continue_iteration):\n",
    "        # Update i\n",
    "        i += 1\n",
    "\n",
    "        # Calculate success probability (pi) from the current b0 and b1\n",
    "        pi = sigmoid(X,b0_initial,b1_initial)\n",
    "\n",
    "        # Calculate log loss from the current b0 and b1\n",
    "        log_loss = cost_function(y,pi)\n",
    "\n",
    "        # Calculate gradient of b0 and b1\n",
    "        grad_b0 = gradient_b0(pi,y)\n",
    "        grad_b1 = gradient_b1(X,pi,y)\n",
    "\n",
    "        # Updating the new b0 and b1 from the gradient of b0 and b1\n",
    "        # Divide the gradient by n_sample to accelerate the optimum point\n",
    "        b0 = b0_initial - eta*grad_b0/len(y)\n",
    "        b1 = b1_initial - eta*grad_b1/len(y)\n",
    "\n",
    "        # Stop when (the gradient of b0 and b1) < tolerance,\n",
    "        if (abs(grad_b0) < tol) and (abs(grad_b1) < tol):\n",
    "            return b0, b1, iterations, log_loss_list\n",
    "\n",
    "        # Update b0 and b1 for the next iteration\n",
    "        b0_initial = b0\n",
    "        b1_initial = b1\n",
    "\n",
    "        # Append the iteration and log loss value to the list\n",
    "        iterations.append(i)\n",
    "        log_loss_list.append(log_loss)"
   ]
  },
  {
   "cell_type": "markdown",
   "metadata": {},
   "source": [
    "---\n",
    "**Let's try the Gradient Descent to our data**"
   ]
  },
  {
   "cell_type": "code",
   "execution_count": 37,
   "metadata": {},
   "outputs": [],
   "source": [
    "# Find the optimum b0 and b1\n",
    "b0, b1, iterations_list, log_loss_list = gradient_descent(X = X,\n",
    "                                                          y = y,\n",
    "                                                          eta = 0.01,\n",
    "                                                          tol = 1e-4)"
   ]
  },
  {
   "cell_type": "code",
   "execution_count": 38,
   "metadata": {},
   "outputs": [
    {
     "name": "stdout",
     "output_type": "stream",
     "text": [
      "The gradient converge at iteration : 1130950\n",
      "With the log loss                  : 97.226\n",
      "The optimum parameter:\n",
      " - intercept (b0) : -12.3501\n",
      " - weights (b1)   : 0.4972\n"
     ]
    }
   ],
   "source": [
    "# Print the result\n",
    "print(f\"The gradient converge at iteration : {iterations_list[-1]}\")\n",
    "print(f\"With the log loss                  : {log_loss_list[-1]:.3f}\")\n",
    "print(f\"The optimum parameter:\")\n",
    "print(f\" - intercept (b0) : {b0:.4f}\")\n",
    "print(f\" - weights (b1)   : {b1[0]:.4f}\")"
   ]
  },
  {
   "cell_type": "markdown",
   "metadata": {},
   "source": [
    "- However, it's computationally heavy to run the gradient descent iteration in the original value of $x$.\n",
    "- We have to run over a million iterations until the parameter estimate at its optimum."
   ]
  },
  {
   "cell_type": "markdown",
   "metadata": {},
   "source": [
    "- Thus, we have the logit model:\n",
    "$$\n",
    "\\text{log(odds}(\\pi(x))=-12.3501 + 0.4972(x)\n",
    "$$"
   ]
  },
  {
   "cell_type": "markdown",
   "metadata": {},
   "source": [
    "- This is the visualization of log loss minimization until finding its optimum point with over a million iterations."
   ]
  },
  {
   "cell_type": "code",
   "execution_count": 39,
   "metadata": {},
   "outputs": [
    {
     "data": {
      "text/plain": [
       "[Text(0.5, 0, 'Iteration'), Text(0, 0.5, 'Log Loss')]"
      ]
     },
     "execution_count": 39,
     "metadata": {},
     "output_type": "execute_result"
    },
    {
     "data": {
      "image/png": "[encoded data removed]",
      "text/plain": [
       "<Figure size 640x480 with 1 Axes>"
      ]
     },
     "metadata": {},
     "output_type": "display_data"
    }
   ],
   "source": [
    "# Plot iterations vs log_loss\n",
    "gd_plot = sns.scatterplot(x = iterations_list,\n",
    "                          y = log_loss_list)\n",
    "gd_plot.set(xlabel =\"Iteration\", ylabel = \"Log Loss\")"
   ]
  },
  {
   "cell_type": "markdown",
   "metadata": {},
   "source": [
    "---\n",
    "**Addition**\n",
    "\n",
    "To help the computation be manageable, we can standardize the variable $x$ to find the optimum $\\beta_{0}^{\\text{std}}$ and $\\beta_{1}^{\\text{std}}$."
   ]
  },
  {
   "cell_type": "code",
   "execution_count": 40,
   "metadata": {},
   "outputs": [],
   "source": [
    "# Function to standardize variable\n",
    "def standardize(X):\n",
    "    \"\"\"\n",
    "    Function to standardize variable.\n",
    "\n",
    "    Parameters\n",
    "    ----------\n",
    "    X     : {array-like} of shape (n_sample, n_predictors)\n",
    "          The input data to be standardized\n",
    "\n",
    "    Returns\n",
    "    -------\n",
    "    X_std : {array-like} of shape (n_sample, n_predictors)\n",
    "          The standardized variable\n",
    "    \"\"\"\n",
    "    # Calculate the mean and standard deviation of the observations\n",
    "    mean = np.mean(X, axis=0)\n",
    "    std = np.std(X, axis=0)\n",
    "\n",
    "    # Standarized the value of each observation in variable\n",
    "    X_std = (X-mean)/std\n",
    "\n",
    "    return X_std"
   ]
  },
  {
   "cell_type": "code",
   "execution_count": 41,
   "metadata": {},
   "outputs": [
    {
     "data": {
      "text/plain": [
       "array([[ 0.95159172],\n",
       "       [-0.14210656],\n",
       "       [-0.33231496]])"
      ]
     },
     "execution_count": 41,
     "metadata": {},
     "output_type": "execute_result"
    }
   ],
   "source": [
    "# Standardize the predictor\n",
    "X_std = standardize(X)\n",
    "X_std[0:3]"
   ]
  },
  {
   "cell_type": "code",
   "execution_count": 42,
   "metadata": {},
   "outputs": [],
   "source": [
    "# Find the optimum b0_std and b1_std from the standardized predictor\n",
    "b0_std, b1_std, iterations_std, log_loss_std = gradient_descent(X = X_std,\n",
    "                                                                y = y,\n",
    "                                                                eta = 0.01,\n",
    "                                                                tol = 1e-4)"
   ]
  },
  {
   "cell_type": "code",
   "execution_count": 43,
   "metadata": {},
   "outputs": [
    {
     "data": {
      "text/plain": [
       "[Text(0.5, 0, 'Iteration'), Text(0, 0.5, 'Log Loss of Standardized Predictor')]"
      ]
     },
     "execution_count": 43,
     "metadata": {},
     "output_type": "execute_result"
    },
    {
     "data": {
      "image/png": "[encoded data removed]",
      "text/plain": [
       "<Figure size 640x480 with 1 Axes>"
      ]
     },
     "metadata": {},
     "output_type": "display_data"
    }
   ],
   "source": [
    "# Plot iterations vs log_loss of standardized predictor\n",
    "gd_plot = sns.scatterplot(x = iterations_std,\n",
    "                          y = log_loss_std)\n",
    "gd_plot.set(xlabel =\"Iteration\", ylabel = \"Log Loss of Standardized Predictor\")"
   ]
  },
  {
   "cell_type": "code",
   "execution_count": 44,
   "metadata": {},
   "outputs": [
    {
     "name": "stdout",
     "output_type": "stream",
     "text": [
      "The gradient converge at iteration : 10637\n",
      "With the log loss                  : 97.226\n",
      "The optimum parameter\n",
      " - intercept (b0_std) : 0.7258\n",
      " - weights (b1_std)   : 1.0456\n"
     ]
    }
   ],
   "source": [
    "# Print the result\n",
    "print(f\"The gradient converge at iteration : {iterations_std[-1]}\")\n",
    "print(f\"With the log loss                  : {log_loss_std[-1]:.3f}\")\n",
    "print(f\"The optimum parameter\")\n",
    "print(f\" - intercept (b0_std) : {b0_std:.4f}\")\n",
    "print(f\" - weights (b1_std)   : {b1_std[0]:.4f}\")"
   ]
  },
  {
   "cell_type": "markdown",
   "metadata": {},
   "source": [
    "- Thus, from the standardized $x$ we have the logit model:\n",
    "$$\n",
    "\\text{log(odds}(\\pi(x^{\\text{std}}))=0.7258 + 1.0456(x^{\\text{std}})\n",
    "$$"
   ]
  },
  {
   "cell_type": "markdown",
   "metadata": {},
   "source": [
    "- Note that **the optimum cost function from the original and the standardized predictor has the same value**.\n",
    "- The optimum $\\beta_{0}^{\\text{std}}$ and $\\beta_{1}^{\\text{std}}$ from the standardized predictor differ from those from the original predictor.\n",
    "- But we can transform $\\beta_{0}^{\\text{std}}$ and $\\beta_{1}^{\\text{std}}$ into$\\beta_{0}$ and $\\beta_{1}$.\n",
    "- We'll learn this in the next section."
   ]
  },
  {
   "cell_type": "markdown",
   "metadata": {},
   "source": [
    "---\n",
    "## **4. Modelling with Library**\n",
    "The result from scratch-optimization above is about the same as that from module statsmodels and sklearn."
   ]
  },
  {
   "cell_type": "markdown",
   "metadata": {},
   "source": [
    "---\n",
    "### **4.1. Logistic Regression with Statsmodels**"
   ]
  },
  {
   "cell_type": "markdown",
   "metadata": {},
   "source": [
    "- You can modelling logistic regression with Statsmodels.\n",
    "- Find the detailed module reference and example [here](https://www.statsmodels.org/stable/discretemod.html#module-reference).\n",
    "- For modelling binary response, use `sm.logit`.\n",
    "- Before fit the model, add constant to variable x if you want the parameter estimate of $\\beta_{0}$ (intercept).\n",
    "- For example:\n",
    "```\n",
    "x = sm.add_constant(x)\n",
    "model = sm.Logit(y, x)\n",
    "result = model.fit()\n",
    "```\n",
    "- To print the model result, use `print(result.summary())`"
   ]
  },
  {
   "cell_type": "code",
   "execution_count": 47,
   "metadata": {},
   "outputs": [],
   "source": [
    "# Import the package\n",
    "import statsmodels.api as sm"
   ]
  },
  {
   "cell_type": "code",
   "execution_count": 48,
   "metadata": {},
   "outputs": [
    {
     "name": "stdout",
     "output_type": "stream",
     "text": [
      "Optimization terminated successfully.\n",
      "         Current function value: 0.562002\n",
      "         Iterations 6\n"
     ]
    }
   ],
   "source": [
    "# Add constant to x --> logit = b0 + b1(x)\n",
    "# Not adding constant --> logit = b1(x)\n",
    "X_sm = sm.add_constant(X)\n",
    "\n",
    "# Model fitting\n",
    "model_sm = sm.Logit(endog = y,\n",
    "                    exog = X_sm)\n",
    "result_sm = model_sm.fit()"
   ]
  },
  {
   "cell_type": "code",
   "execution_count": 49,
   "metadata": {},
   "outputs": [
    {
     "name": "stdout",
     "output_type": "stream",
     "text": [
      "                           Logit Regression Results                           \n",
      "==============================================================================\n",
      "Dep. Variable:                      y   No. Observations:                  173\n",
      "Model:                          Logit   Df Residuals:                      171\n",
      "Method:                           MLE   Df Model:                            1\n",
      "Date:                Fri, 20 Oct 2023   Pseudo R-squ.:                  0.1387\n",
      "Time:                        01:53:19   Log-Likelihood:                -97.226\n",
      "converged:                       True   LL-Null:                       -112.88\n",
      "Covariance Type:            nonrobust   LLR p-value:                 2.204e-08\n",
      "==============================================================================\n",
      "                 coef    std err          z      P>|z|      [0.025      0.975]\n",
      "------------------------------------------------------------------------------\n",
      "const        -12.3508      2.629     -4.698      0.000     -17.503      -7.199\n",
      "x1             0.4972      0.102      4.887      0.000       0.298       0.697\n",
      "==============================================================================\n"
     ]
    }
   ],
   "source": [
    "# Print the model result\n",
    "print(result_sm.summary())"
   ]
  },
  {
   "cell_type": "markdown",
   "metadata": {},
   "source": [
    "- The optimum parameter estimate is the same as the result from gradient descent optimization."
   ]
  },
  {
   "cell_type": "markdown",
   "metadata": {},
   "source": [
    "---\n",
    "### **4.2. Logistic Regression with Scikit-Learn (sklearn)**"
   ]
  },
  {
   "cell_type": "markdown",
   "metadata": {},
   "source": [
    "- You can modelling logistic regression with sklearn.\n",
    "- Find the detailed module reference and example [here](https://scikit-learn.org/stable/modules/generated/sklearn.linear_model.LogisticRegression.html).\n",
    "- Example:\n",
    "```\n",
    "model = LogisticRegression(Parameters).fit(x, y)\n",
    "```\n",
    "- Some of Parameters:\n",
    "  - `penalty` : {`l1`, `l2`, `elasticnet`, `None`}, default=`l2`\n",
    "  - `fit_intercept` : bool, default=`True`\n",
    "  - `solver` : {`lbfgs`, `liblinear`, `newton-cg`, `newton-cholesky`, `sag`, `saga’`}, default=`lbfgs’`\n",
    "  - `multi_class` : {`auto`, `ovr`, `multinomial`}, default=`auto`\n",
    "- Some attributes of model result:\n",
    "  - Run `model.intercept_` to print the parameter estimate of $\\beta_{0}$\n",
    "  - Run `model.coef_` to print the parameter estimate of $\\beta_{1},\\dots,\\beta_{j}$"
   ]
  },
  {
   "cell_type": "code",
   "execution_count": 50,
   "metadata": {},
   "outputs": [
    {
     "name": "stderr",
     "output_type": "stream",
     "text": [
      "/opt/anaconda3/envs/data_b/lib/python3.10/site-packages/sklearn/linear_model/_logistic.py:1182: FutureWarning: `penalty='none'`has been deprecated in 1.2 and will be removed in 1.4. To keep the past behaviour, set `penalty=None`.\n",
      "  warnings.warn(\n"
     ]
    }
   ],
   "source": [
    "# Import the package\n",
    "from sklearn.linear_model import LogisticRegression\n",
    "\n",
    "# Modelling with sklearn\n",
    "model_sk = LogisticRegression(penalty='none').fit(X = X,\n",
    "                                                  y = y)"
   ]
  },
  {
   "cell_type": "code",
   "execution_count": 51,
   "metadata": {},
   "outputs": [
    {
     "data": {
      "text/plain": [
       "array([-12.35081785])"
      ]
     },
     "execution_count": 51,
     "metadata": {},
     "output_type": "execute_result"
    }
   ],
   "source": [
    "# Print the parameter estimate of b0\n",
    "b0_sk = model_sk.intercept_\n",
    "b0_sk"
   ]
  },
  {
   "cell_type": "code",
   "execution_count": 52,
   "metadata": {},
   "outputs": [
    {
     "data": {
      "text/plain": [
       "array([[0.49723059]])"
      ]
     },
     "execution_count": 52,
     "metadata": {},
     "output_type": "execute_result"
    }
   ],
   "source": [
    "# Print the parameter estimate of b1\n",
    "b1_sk = model_sk.coef_\n",
    "b1_sk"
   ]
  },
  {
   "cell_type": "markdown",
   "metadata": {},
   "source": [
    "---\n",
    "**Modeling Summary**\n",
    "\n",
    "<center>\n",
    "\n",
    "|Model|Intercept $\\beta_{0}$|Weight $\\beta_{1}$|\n",
    "|:--:|:--:|:--:|\n",
    "|From Scratch|-12.3501|0.4972|\n",
    "|Statsmodels|-12.3508|0.4972|\n",
    "|SKLearn|-12.3508|0.4972|\n",
    "\n",
    "</center>"
   ]
  },
  {
   "cell_type": "markdown",
   "metadata": {},
   "source": [
    "# <font color='white'>Model Interpretation</font>"
   ]
  },
  {
   "cell_type": "markdown",
   "metadata": {},
   "source": [
    "---\n",
    "## **1. Median Effective Level**"
   ]
  },
  {
   "cell_type": "markdown",
   "metadata": {},
   "source": [
    "1. Calculate the median effective level ($EL_{50}$) of the crab's width ($x$).\n",
    "$$\n",
    "EL_{50} = -\\beta_{0}/\\beta_{1}\n",
    "$$"
   ]
  },
  {
   "cell_type": "code",
   "execution_count": 65,
   "metadata": {},
   "outputs": [
    {
     "data": {
      "text/plain": [
       "array([24.83915877])"
      ]
     },
     "execution_count": 65,
     "metadata": {},
     "output_type": "execute_result"
    }
   ],
   "source": [
    "median_el = -b0/b1\n",
    "median_el"
   ]
  },
  {
   "cell_type": "markdown",
   "metadata": {},
   "source": [
    "\n",
    "At  `median_el` centimeter of width, the estimated probability of a crab having any satellite increases at the rate of  `0.25*b1`  per one centimeter increase in  its width."
   ]
  },
  {
   "cell_type": "markdown",
   "metadata": {},
   "source": [
    "---\n",
    "## **2. Odds Ratio Interpretation**"
   ]
  },
  {
   "cell_type": "markdown",
   "metadata": {},
   "source": [
    "1. Can you interpret the logit model $\\text{log(odds}(\\pi(x))=-12.350 + 0.497(x)$ in the terms of odds ratio?"
   ]
  },
  {
   "cell_type": "code",
   "execution_count": 67,
   "metadata": {},
   "outputs": [
    {
     "data": {
      "text/plain": [
       "array([1.64411766])"
      ]
     },
     "execution_count": 67,
     "metadata": {},
     "output_type": "execute_result"
    }
   ],
   "source": [
    "odds_ratio = np.exp(b1)\n",
    "odds_ratio"
   ]
  },
  {
   "cell_type": "markdown",
   "metadata": {},
   "source": [
    "Interpretation: the estimated odds of a crab having any satellite is multiply by `odds_ratio` for one centimeter increase in its width."
   ]
  },
  {
   "cell_type": "markdown",
   "metadata": {},
   "source": [
    "2. What's the odds of a crab having any satellite at 22 cm width?"
   ]
  },
  {
   "cell_type": "code",
   "execution_count": 57,
   "metadata": {},
   "outputs": [],
   "source": [
    "# Make a function of logit\n",
    "def logit(X, b0, b1):\n",
    "    \"\"\"\n",
    "    Function to calculate the logit or log odds value.\n",
    "\n",
    "    Parameters\n",
    "    ----------\n",
    "    X   : {array-like} of shape (n_sample, n_predictors)\n",
    "        The independent variable or predictor\n",
    "\n",
    "    b0  : float\n",
    "        The optimum parameter estimate of intercept\n",
    "\n",
    "    b1  : {array-like} of shape (n_predictors, 1)\n",
    "        The optimum parameter estimate of slope/weights\n",
    "\n",
    "    Returns\n",
    "    -------\n",
    "    log_odds : {array-like} of shape (n_sample, 1)\n",
    "          The logit or log odds value\n",
    "    \"\"\"\n",
    "    # Write your code here\n",
    "    log_odds = b0 + b1*X\n",
    "\n",
    "    return log_odds"
   ]
  },
  {
   "cell_type": "markdown",
   "metadata": {},
   "source": [
    "```python\n",
    "logit_22 = logit(X=22, b0=b0, b1=b1)\n",
    "odds_22 = np.exp(logit_22)\n",
    "```    \n",
    "\n",
    "Interpretation: the estimated odds of a 22 cm crab having any satellite is `odds_22`."
   ]
  },
  {
   "cell_type": "markdown",
   "metadata": {},
   "source": [
    "3. What's the odds of a crab having any satellite at 23 cm width?"
   ]
  },
  {
   "cell_type": "markdown",
   "metadata": {},
   "source": [
    "4. What's the ratio of odds of a crab having any satellite between 23cm crab and 22cm crab?"
   ]
  },
  {
   "cell_type": "markdown",
   "metadata": {},
   "source": [
    "```python\n",
    "ratio = odds_23/odds_22\n",
    "```    \n",
    "\n",
    "You can see the ratio is the odds ratio `np.exp(b1)`."
   ]
  },
  {
   "cell_type": "markdown",
   "metadata": {},
   "source": [
    "---\n",
    "## **3. Standardized Parameter Interpretation**"
   ]
  },
  {
   "cell_type": "markdown",
   "metadata": {},
   "source": [
    "- The model is fitted to standardized predictor, replacing each $x_{i}$ by $(x_{i}- \\bar{x})/s_{x}$ or:\n",
    "$$\n",
    "x^{\\text{std}} = \\frac{x-\\bar{x}}{s_{x}}$$\n",
    "where $\\bar{x}=$ `np.mean(x)` and $s_{x}=$ `np.std(x)`.\n",
    "- Thus, the logit model of $x^{\\text{std}}$ :\n",
    "$$\n",
    "\\text{log(odds}(\\pi(x^{\\text{std}}))=\\beta_{0}^{\\text{std}} + \\beta_{1}^{\\text{std}}(x^{\\text{std}})\n",
    "$$\n",
    "- The interpretation: **a 1-unit change in the standardized predictor is a standard deviation change in the original predictor**.\n",
    "- Thus, we can transform the standardized parameter estimate $\\beta_{0}^{\\text{\\text{std}}}$ and $\\beta_{1}^{\\text{std}}$ into the parameter estimate $\\beta_{0}$ and $\\beta_{1}$.\n",
    "\n",
    "$$\n",
    "\\begin{align*}\n",
    "\\text{log(odds}(\\pi(x))&=\\text{log(odds}(\\pi(x^{\\text{std}})) \\\\\n",
    "\\beta_{0} + \\beta_{1}(x) &= \\beta_{0}^{\\text{std}} + \\beta_{1}^{\\text{std}}(x^{\\text{std}}) \\\\\n",
    "&= \\beta_{0}^{\\text{std}} + \\beta_{1}^{\\text{std}} \\left (\\frac{x-\\bar{x}}{s_{x}}\\right ) \\\\\n",
    "&= \\beta_{0}^{\\text{std}} + \\beta_{1}^{\\text{std}} \\left (\\frac{x}{s_{x}}\\right ) - \\beta_{1}^{\\text{std}} \\left (\\frac{\\bar{x}}{s_{x}}\\right )\\\\\n",
    "\\beta_{0} + \\beta_{1}(x) &= \\beta_{0}^{\\text{std}}- \\beta_{1}^{\\text{std}} \\left (\\frac{\\bar{x}}{s_{x}}\\right ) +  \\frac{\\beta_{1}^{\\text{std}}}{s_{x}}(x)\n",
    "\\end{align*}\n",
    "$$\n",
    "- From the equation above, we got:\n",
    "  - $\\beta_{0} = \\beta_{0}^{\\text{std}}- \\beta_{1}^{\\text{std}} \\left (\\frac{\\bar{x}}{s_{x}}\\right )$ and\n",
    "  - $\\beta_{1} = \\beta_{1}^{\\text{std}}/s_{x}$"
   ]
  },
  {
   "cell_type": "code",
   "execution_count": 56,
   "metadata": {},
   "outputs": [
    {
     "data": {
      "text/plain": [
       "(array([-12.35075541]), array([0.4972281]))"
      ]
     },
     "execution_count": 56,
     "metadata": {},
     "output_type": "execute_result"
    }
   ],
   "source": [
    "# Calculate the standard deviation of X\n",
    "sx = np.std(X)\n",
    "\n",
    "# Calculate the mean of X\n",
    "X_bar = np.mean(X)\n",
    "\n",
    "# Write  your code here\n",
    "b0_transform = b0_std - b1_std*(X_bar/sx)\n",
    "b1_transform = b1_std/sx\n",
    "\n",
    "b0_transform, b1_transform"
   ]
  },
  {
   "cell_type": "markdown",
   "metadata": {},
   "source": [
    "You can see that the parameter estimate of the original predictor $x$ can be estimated from the parameter estimate of standardized predictor $x^{\\text{std}}$."
   ]
  },
  {
   "cell_type": "markdown",
   "metadata": {},
   "source": [
    "---\n",
    "## **4. Predicted Probabilities**"
   ]
  },
  {
   "cell_type": "markdown",
   "metadata": {},
   "source": [
    "We already have a function to calculate the predicted probabilities; the `sigmoid()` function that results the success probabilities $\\pi(x)$.\n",
    "\n",
    "$$\n",
    "\\pi(x) = \\frac{e^{(\\beta_{0}+\\beta_{1}x)}}{1+e^{(\\beta_{0}+\\beta_{1}x)}}\n",
    "$$\n",
    "\n",
    "\n",
    "\n",
    "```python\n",
    "# Sigmoid function to calculate success probability (pi) of each observation\n",
    "def sigmoid(X, b0, b1):\n",
    "    \"\"\"\n",
    "    Function to calculate the success probability of X.\n",
    "\n",
    "    Parameters\n",
    "    ----------\n",
    "    X   : {array-like} of shape (n_sample, n_predictors)\n",
    "        The independent variable or predictor\n",
    "\n",
    "    b_0 : float\n",
    "        The intercept\n",
    "\n",
    "    b_1 : {array-like} of shape (n_predictors, 1)\n",
    "        The slope/weights\n",
    "\n",
    "    Returns\n",
    "    -------\n",
    "    pi  : {array-like} of shape (n_sample, 1)\n",
    "        The success probability of X\n",
    "    \"\"\"\n",
    "    # Calculate the logit value\n",
    "    logit = b0 + np.dot(X, b1)\n",
    "\n",
    "    # Calculate the success probability\n",
    "    pi = np.exp(logit) / (1+np.exp(logit))\n",
    "    \n",
    "    return pi\n",
    "```\n",
    "\n",
    "\n",
    "\n"
   ]
  },
  {
   "cell_type": "markdown",
   "metadata": {},
   "source": [
    "1. Can you predict the estimated probability of a crab with 22 cm width having an satellite?"
   ]
  },
  {
   "cell_type": "code",
   "execution_count": 59,
   "metadata": {},
   "outputs": [
    {
     "data": {
      "text/plain": [
       "array([0.1959754])"
      ]
     },
     "execution_count": 59,
     "metadata": {},
     "output_type": "execute_result"
    }
   ],
   "source": [
    "# Calculate the estimated probability here\n",
    "pi_22 = sigmoid(X=22, b0=b0, b1=b1)\n",
    "\n",
    "pi_22"
   ]
  },
  {
   "cell_type": "markdown",
   "metadata": {},
   "source": [
    "2. So, is that crab predicted to have any satellite or not? Explain your answer."
   ]
  },
  {
   "cell_type": "markdown",
   "metadata": {},
   "source": [
    "\n",
    "\n",
    "- The estimated probability of a crab with 22 cm width having any satellite ($\\pi(22)$) = `pi_22` is less than 0.5.\n",
    "- Thus, we classify the crab with 22 cm width doesn't have any satellite."
   ]
  },
  {
   "cell_type": "markdown",
   "metadata": {},
   "source": [
    "This plot is the predicted probabilities of 173 crabs in observations having any satellite."
   ]
  },
  {
   "cell_type": "code",
   "execution_count": 60,
   "metadata": {},
   "outputs": [
    {
     "data": {
      "text/plain": [
       "[Text(0.5, 0, 'Width (X)'),\n",
       " Text(0, 0.5, 'Predicted Probabilities'),\n",
       " Text(0.5, 1.0, 'Logistic Function')]"
      ]
     },
     "execution_count": 60,
     "metadata": {},
     "output_type": "execute_result"
    },
    {
     "data": {
      "image/png": "[encoded data removed]",
      "text/plain": [
       "<Figure size 640x480 with 1 Axes>"
      ]
     },
     "metadata": {},
     "output_type": "display_data"
    }
   ],
   "source": [
    "# Calculate the success probability (pi) of each observation.\n",
    "pi = sigmoid(X=X, b0=b0, b1=b1)\n",
    "\n",
    "# Plot X vs pi\n",
    "sigmoid_plot = sns.scatterplot(x=data['Width'], y=pi)\n",
    "sigmoid_plot.set(xlabel =\"Width (X)\", ylabel = \"Predicted Probabilities\", title='Logistic Function')\n"
   ]
  },
  {
   "cell_type": "markdown",
   "metadata": {},
   "source": [
    "Yes, that is the plot of sigmoid or logistic function."
   ]
  },
  {
   "cell_type": "markdown",
   "metadata": {},
   "source": [
    "And this is the plot of logit function."
   ]
  },
  {
   "cell_type": "code",
   "execution_count": 61,
   "metadata": {},
   "outputs": [
    {
     "data": {
      "text/plain": [
       "[Text(0.5, 0, 'Width (X)'),\n",
       " Text(0, 0.5, 'Logit'),\n",
       " Text(0.5, 1.0, 'Logit Function')]"
      ]
     },
     "execution_count": 61,
     "metadata": {},
     "output_type": "execute_result"
    },
    {
     "data": {
      "image/png": "[encoded data removed]",
      "text/plain": [
       "<Figure size 640x480 with 1 Axes>"
      ]
     },
     "metadata": {},
     "output_type": "display_data"
    }
   ],
   "source": [
    "# Calculate log odds (logit) value of each observation.\n",
    "log_odds = np.log(pi/(1-pi))\n",
    "\n",
    "# Plot X vs log odds\n",
    "logit_plot = sns.scatterplot(x=data['Width'], y=log_odds)\n",
    "logit_plot.set(xlabel =\"Width (X)\", ylabel = \"Logit\", title='Logit Function')"
   ]
  },
  {
   "cell_type": "markdown",
   "metadata": {},
   "source": [
    "From $EL_{50}$, we can plot the decision boundary."
   ]
  },
  {
   "cell_type": "code",
   "execution_count": 68,
   "metadata": {},
   "outputs": [
    {
     "data": {
      "text/plain": [
       "Text(0, 0.5, 'Satellite Outcome')"
      ]
     },
     "execution_count": 68,
     "metadata": {},
     "output_type": "execute_result"
    },
    {
     "data": {
      "image/png": "[encoded data removed]",
      "text/plain": [
       "<Figure size 640x480 with 1 Axes>"
      ]
     },
     "metadata": {},
     "output_type": "display_data"
    }
   ],
   "source": [
    "# Plot the decision boundary\n",
    "plt.scatter(x = X,\n",
    "            y = y)\n",
    "plt.axvline(x = median_el,\n",
    "            color = 'r')\n",
    "plt.xlabel(\"Width\")\n",
    "plt.ylabel(\"Satellite Outcome\")"
   ]
  },
  {
   "cell_type": "markdown",
   "metadata": {},
   "source": [
    "- Median effective level is the level at which each outcome has a 50% chance.\n",
    "- Thus, when the crab's shell is longer than the median effective level of 24.84 cm, it is classified as a crab with any satellite.\n",
    "- Otherwise, we predict the crab has no satellite."
   ]
  },
  {
   "cell_type": "markdown",
   "metadata": {},
   "source": [
    "# <font color='white'>Significance Testing</font>"
   ]
  },
  {
   "cell_type": "markdown",
   "metadata": {},
   "source": [
    "- Null Hypothesis: the probability of a crab having any satellite is **independent** of its width.\n",
    "- Alternative Hypothesis: the probability of a crab having any satellite is **not independent** of its width.\n",
    "  - $\\text H_{0} : \\beta_{1} = 0$\n",
    "  - $\\text H_{1} : \\beta_{1} \\neq 0$\n",
    "\n",
    "- We already have the test statistic and its P-value from `statsmmodels` output summary."
   ]
  },
  {
   "cell_type": "code",
   "execution_count": 69,
   "metadata": {},
   "outputs": [
    {
     "name": "stdout",
     "output_type": "stream",
     "text": [
      "                           Logit Regression Results                           \n",
      "==============================================================================\n",
      "Dep. Variable:                      y   No. Observations:                  173\n",
      "Model:                          Logit   Df Residuals:                      171\n",
      "Method:                           MLE   Df Model:                            1\n",
      "Date:                Fri, 20 Oct 2023   Pseudo R-squ.:                  0.1387\n",
      "Time:                        02:03:56   Log-Likelihood:                -97.226\n",
      "converged:                       True   LL-Null:                       -112.88\n",
      "Covariance Type:            nonrobust   LLR p-value:                 2.204e-08\n",
      "==============================================================================\n",
      "                 coef    std err          z      P>|z|      [0.025      0.975]\n",
      "------------------------------------------------------------------------------\n",
      "const        -12.3508      2.629     -4.698      0.000     -17.503      -7.199\n",
      "x1             0.4972      0.102      4.887      0.000       0.298       0.697\n",
      "==============================================================================\n"
     ]
    }
   ],
   "source": [
    "# Print the model result\n",
    "print(result_sm.summary())"
   ]
  },
  {
   "cell_type": "markdown",
   "metadata": {},
   "source": [
    "- Wald statistic: $z = \\beta/ \\text{SE}$"
   ]
  },
  {
   "cell_type": "code",
   "execution_count": 70,
   "metadata": {},
   "outputs": [
    {
     "data": {
      "text/plain": [
       "4.874509803921569"
      ]
     },
     "execution_count": 70,
     "metadata": {},
     "output_type": "execute_result"
    }
   ],
   "source": [
    "# Calculate the Wald statistic z\n",
    "z_b1 =  0.4972/0.102\n",
    "\n",
    "z_b1"
   ]
  },
  {
   "cell_type": "markdown",
   "metadata": {},
   "source": [
    "- Rejection region: reject null hypothesis ($\\text H_{0}$)\n",
    "if $\\text{P-value}<\\alpha$, thus for parameter estimate $\\beta_{1}$:\n",
    "  - `P>|z|` < 0.05, we reject $\\text H_{0}$ at $\\alpha=0.05$.\n",
    "- Conclusion: the probability of horseshoe crab having any satellite is not independent of its width."
   ]
  }
 ],
 "metadata": {
  "kernelspec": {
   "display_name": "data_b",
   "language": "python",
   "name": "python3"
  },
  "language_info": {
   "codemirror_mode": {
    "name": "ipython",
    "version": 3
   },
   "file_extension": ".py",
   "mimetype": "text/x-python",
   "name": "python",
   "nbconvert_exporter": "python",
   "pygments_lexer": "ipython3",
   "version": "3.10.6"
  }
 },
 "nbformat": 4,
 "nbformat_minor": 2
}
