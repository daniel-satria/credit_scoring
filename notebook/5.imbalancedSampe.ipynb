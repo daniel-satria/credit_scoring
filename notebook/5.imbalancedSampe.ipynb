{
 "cells": [
  {
   "cell_type": "markdown",
   "metadata": {},
   "source": [
    "# Imbalanced Sample"
   ]
  },
  {
   "cell_type": "code",
   "execution_count": 1,
   "metadata": {},
   "outputs": [],
   "source": [
    "# Load data manipulation package\n",
    "import numpy as np\n",
    "import pandas as pd\n",
    "\n",
    "# Load data visualization package\n",
    "import matplotlib.pyplot as plt\n",
    "import seaborn as sns"
   ]
  },
  {
   "cell_type": "markdown",
   "metadata": {},
   "source": [
    "## **1. Load Data**\n",
    "---"
   ]
  },
  {
   "cell_type": "markdown",
   "metadata": {},
   "source": [
    "The [dataset](https://data.mendeley.com/datasets/x8ygrw87jw/1) comes from a study to predict a cerebrovascular stroke accident (CVA) or `stroke`, a binary response variable.\n",
    "- `stroke`\n",
    "  - `stroke = 0` for CVA didn't happen.\n",
    "  - `stroke = 1` for CVA happened.\n",
    "\n",
    "The potential predictors for the response variable are:\n",
    "1. `gender`\n",
    "2. `age`\n",
    "3. `hypertension`\n",
    "4. `heart_disease`\n",
    "5. `ever_married`\n",
    "6. `work_type`\n",
    "7. `Residence_type`\n",
    "8. `avg_glucose_level`\n",
    "9. `bmi`\n",
    "10. `smoking_status`"
   ]
  },
  {
   "cell_type": "code",
   "execution_count": 4,
   "metadata": {},
   "outputs": [
    {
     "data": {
      "text/html": [
       "<div>\n",
       "<style scoped>\n",
       "    .dataframe tbody tr th:only-of-type {\n",
       "        vertical-align: middle;\n",
       "    }\n",
       "\n",
       "    .dataframe tbody tr th {\n",
       "        vertical-align: top;\n",
       "    }\n",
       "\n",
       "    .dataframe thead th {\n",
       "        text-align: right;\n",
       "    }\n",
       "</style>\n",
       "<table border=\"1\" class=\"dataframe\">\n",
       "  <thead>\n",
       "    <tr style=\"text-align: right;\">\n",
       "      <th></th>\n",
       "      <th>0</th>\n",
       "      <th>1</th>\n",
       "      <th>2</th>\n",
       "      <th>3</th>\n",
       "      <th>4</th>\n",
       "    </tr>\n",
       "  </thead>\n",
       "  <tbody>\n",
       "    <tr>\n",
       "      <th>id</th>\n",
       "      <td>30669</td>\n",
       "      <td>30468</td>\n",
       "      <td>16523</td>\n",
       "      <td>56543</td>\n",
       "      <td>46136</td>\n",
       "    </tr>\n",
       "    <tr>\n",
       "      <th>gender</th>\n",
       "      <td>Male</td>\n",
       "      <td>Male</td>\n",
       "      <td>Female</td>\n",
       "      <td>Female</td>\n",
       "      <td>Male</td>\n",
       "    </tr>\n",
       "    <tr>\n",
       "      <th>age</th>\n",
       "      <td>3.0</td>\n",
       "      <td>58.0</td>\n",
       "      <td>8.0</td>\n",
       "      <td>70.0</td>\n",
       "      <td>14.0</td>\n",
       "    </tr>\n",
       "    <tr>\n",
       "      <th>hypertension</th>\n",
       "      <td>0</td>\n",
       "      <td>1</td>\n",
       "      <td>0</td>\n",
       "      <td>0</td>\n",
       "      <td>0</td>\n",
       "    </tr>\n",
       "    <tr>\n",
       "      <th>heart_disease</th>\n",
       "      <td>0</td>\n",
       "      <td>0</td>\n",
       "      <td>0</td>\n",
       "      <td>0</td>\n",
       "      <td>0</td>\n",
       "    </tr>\n",
       "    <tr>\n",
       "      <th>ever_married</th>\n",
       "      <td>No</td>\n",
       "      <td>Yes</td>\n",
       "      <td>No</td>\n",
       "      <td>Yes</td>\n",
       "      <td>No</td>\n",
       "    </tr>\n",
       "    <tr>\n",
       "      <th>work_type</th>\n",
       "      <td>children</td>\n",
       "      <td>Private</td>\n",
       "      <td>Private</td>\n",
       "      <td>Private</td>\n",
       "      <td>Never_worked</td>\n",
       "    </tr>\n",
       "    <tr>\n",
       "      <th>Residence_type</th>\n",
       "      <td>Rural</td>\n",
       "      <td>Urban</td>\n",
       "      <td>Urban</td>\n",
       "      <td>Rural</td>\n",
       "      <td>Rural</td>\n",
       "    </tr>\n",
       "    <tr>\n",
       "      <th>avg_glucose_level</th>\n",
       "      <td>95.12</td>\n",
       "      <td>87.96</td>\n",
       "      <td>110.89</td>\n",
       "      <td>69.04</td>\n",
       "      <td>161.28</td>\n",
       "    </tr>\n",
       "    <tr>\n",
       "      <th>bmi</th>\n",
       "      <td>18.0</td>\n",
       "      <td>39.2</td>\n",
       "      <td>17.6</td>\n",
       "      <td>35.9</td>\n",
       "      <td>19.1</td>\n",
       "    </tr>\n",
       "    <tr>\n",
       "      <th>smoking_status</th>\n",
       "      <td>NaN</td>\n",
       "      <td>never smoked</td>\n",
       "      <td>NaN</td>\n",
       "      <td>formerly smoked</td>\n",
       "      <td>NaN</td>\n",
       "    </tr>\n",
       "    <tr>\n",
       "      <th>stroke</th>\n",
       "      <td>0</td>\n",
       "      <td>0</td>\n",
       "      <td>0</td>\n",
       "      <td>0</td>\n",
       "      <td>0</td>\n",
       "    </tr>\n",
       "  </tbody>\n",
       "</table>\n",
       "</div>"
      ],
      "text/plain": [
       "                          0             1        2                3  \\\n",
       "id                    30669         30468    16523            56543   \n",
       "gender                 Male          Male   Female           Female   \n",
       "age                     3.0          58.0      8.0             70.0   \n",
       "hypertension              0             1        0                0   \n",
       "heart_disease             0             0        0                0   \n",
       "ever_married             No           Yes       No              Yes   \n",
       "work_type          children       Private  Private          Private   \n",
       "Residence_type        Rural         Urban    Urban            Rural   \n",
       "avg_glucose_level     95.12         87.96   110.89            69.04   \n",
       "bmi                    18.0          39.2     17.6             35.9   \n",
       "smoking_status          NaN  never smoked      NaN  formerly smoked   \n",
       "stroke                    0             0        0                0   \n",
       "\n",
       "                              4  \n",
       "id                        46136  \n",
       "gender                     Male  \n",
       "age                        14.0  \n",
       "hypertension                  0  \n",
       "heart_disease                 0  \n",
       "ever_married                 No  \n",
       "work_type          Never_worked  \n",
       "Residence_type            Rural  \n",
       "avg_glucose_level        161.28  \n",
       "bmi                        19.1  \n",
       "smoking_status              NaN  \n",
       "stroke                        0  "
      ]
     },
     "execution_count": 4,
     "metadata": {},
     "output_type": "execute_result"
    }
   ],
   "source": [
    "# Import dataset from csv file\n",
    "data = pd.read_csv('../data/stroke.csv')\n",
    "\n",
    "# Table check\n",
    "data.head().T"
   ]
  },
  {
   "cell_type": "code",
   "execution_count": 5,
   "metadata": {},
   "outputs": [
    {
     "data": {
      "text/plain": [
       "(43400, 12)"
      ]
     },
     "execution_count": 5,
     "metadata": {},
     "output_type": "execute_result"
    }
   ],
   "source": [
    "# Check the data shape\n",
    "data.shape"
   ]
  },
  {
   "cell_type": "markdown",
   "metadata": {},
   "source": [
    "  - Our sample contains 12 variables from 43,400 observations.\n",
    "    - 1 response variable, `stroke`,\n",
    "    - 1 column `ID`,\n",
    "    - and 10 potential predictors."
   ]
  },
  {
   "cell_type": "markdown",
   "metadata": {},
   "source": [
    "Check for the duplicate respondents in our sample using column `id`."
   ]
  },
  {
   "cell_type": "code",
   "execution_count": 6,
   "metadata": {},
   "outputs": [
    {
     "data": {
      "text/plain": [
       "0"
      ]
     },
     "execution_count": 6,
     "metadata": {},
     "output_type": "execute_result"
    }
   ],
   "source": [
    "# Find the sum/total of duplicated respondents' IDs.\n",
    "data['id'].duplicated().sum()"
   ]
  },
  {
   "cell_type": "code",
   "execution_count": 7,
   "metadata": {},
   "outputs": [
    {
     "name": "stdout",
     "output_type": "stream",
     "text": [
      "<class 'pandas.core.frame.DataFrame'>\n",
      "RangeIndex: 43400 entries, 0 to 43399\n",
      "Data columns (total 11 columns):\n",
      " #   Column             Non-Null Count  Dtype  \n",
      "---  ------             --------------  -----  \n",
      " 0   gender             43400 non-null  object \n",
      " 1   age                43400 non-null  float64\n",
      " 2   hypertension       43400 non-null  int64  \n",
      " 3   heart_disease      43400 non-null  int64  \n",
      " 4   ever_married       43400 non-null  object \n",
      " 5   work_type          43400 non-null  object \n",
      " 6   Residence_type     43400 non-null  object \n",
      " 7   avg_glucose_level  43400 non-null  float64\n",
      " 8   bmi                41938 non-null  float64\n",
      " 9   smoking_status     30108 non-null  object \n",
      " 10  stroke             43400 non-null  int64  \n",
      "dtypes: float64(3), int64(3), object(5)\n",
      "memory usage: 3.6+ MB\n"
     ]
    }
   ],
   "source": [
    "# Drop column ID\n",
    "data = data.drop(columns=['id'], axis=1)\n",
    "\n",
    "# Information check\n",
    "data.info()"
   ]
  },
  {
   "cell_type": "markdown",
   "metadata": {},
   "source": [
    "Check the proportion of response variable first to decide the splitting strategy."
   ]
  },
  {
   "cell_type": "code",
   "execution_count": 8,
   "metadata": {},
   "outputs": [
    {
     "data": {
      "text/plain": [
       "stroke\n",
       "0    0.981959\n",
       "1    0.018041\n",
       "Name: proportion, dtype: float64"
      ]
     },
     "execution_count": 8,
     "metadata": {},
     "output_type": "execute_result"
    }
   ],
   "source": [
    "# Define response variable\n",
    "response_variable = 'stroke'\n",
    "\n",
    "# Check the proportion of response variable\n",
    "data[response_variable].value_counts(normalize=True)"
   ]
  },
  {
   "cell_type": "markdown",
   "metadata": {},
   "source": [
    "The proportion of the response variable, `stroke`, is highly imbalanced (in a ratio of 98:2).\n",
    "\n",
    "After EDA, we will preprocess the sample into:\n",
    "1. The original training set\n",
    "2. Training set with undersampling\n",
    "3. Training set with oversampling"
   ]
  },
  {
   "cell_type": "markdown",
   "metadata": {},
   "source": [
    "## **2. Sample Splitting**\n",
    "---"
   ]
  },
  {
   "cell_type": "markdown",
   "metadata": {},
   "source": [
    "First, define the predictors (X) and the response (y)."
   ]
  },
  {
   "cell_type": "code",
   "execution_count": 9,
   "metadata": {},
   "outputs": [
    {
     "name": "stdout",
     "output_type": "stream",
     "text": [
      "y shape : (43400,)\n",
      "X shape : (43400, 10)\n"
     ]
    }
   ],
   "source": [
    "# Split response and predictors\n",
    "y = data[response_variable]\n",
    "X = data.drop(columns=[response_variable], axis=1)\n",
    "\n",
    "# Validate the splitting\n",
    "print('y shape :', y.shape)\n",
    "print('X shape :', X.shape)"
   ]
  },
  {
   "cell_type": "markdown",
   "metadata": {},
   "source": [
    "Next, split the training and testing set from each predictors (X) and response (y).\n",
    "- Set `stratify = y` for splitting the sample with stratify, based on the proportion of response y.\n",
    "- Set `test_size = 0.3` for holding 30% of the sample as a testing set.\n",
    "- Set `random_state = 42` for reproducibility."
   ]
  },
  {
   "cell_type": "code",
   "execution_count": 10,
   "metadata": {},
   "outputs": [
    {
     "name": "stdout",
     "output_type": "stream",
     "text": [
      "X train shape : (30380, 10)\n",
      "y train shape : (30380,)\n",
      "X test shape  : (13020, 10)\n",
      "y test shape  : (13020,)\n"
     ]
    }
   ],
   "source": [
    "from sklearn.model_selection import train_test_split\n",
    "\n",
    "# Split the data\n",
    "X_train, X_test, y_train, y_test = train_test_split(X,\n",
    "                                                    y,\n",
    "                                                    stratify = y,\n",
    "                                                    test_size = 0.3,\n",
    "                                                    random_state = 42)\n",
    "\n",
    "# Validate splitting\n",
    "print('X train shape :', X_train.shape)\n",
    "print('y train shape :', y_train.shape)\n",
    "print('X test shape  :', X_test.shape)\n",
    "print('y test shape  :', y_test.shape)"
   ]
  },
  {
   "cell_type": "markdown",
   "metadata": {},
   "source": [
    "Check the proportion of response y in each training and testing set."
   ]
  },
  {
   "cell_type": "code",
   "execution_count": 11,
   "metadata": {},
   "outputs": [
    {
     "data": {
      "text/plain": [
       "stroke\n",
       "0    0.981962\n",
       "1    0.018038\n",
       "Name: proportion, dtype: float64"
      ]
     },
     "execution_count": 11,
     "metadata": {},
     "output_type": "execute_result"
    }
   ],
   "source": [
    "y_train.value_counts(normalize=True)"
   ]
  },
  {
   "cell_type": "code",
   "execution_count": 12,
   "metadata": {},
   "outputs": [
    {
     "data": {
      "text/plain": [
       "stroke\n",
       "0    0.981951\n",
       "1    0.018049\n",
       "Name: proportion, dtype: float64"
      ]
     },
     "execution_count": 12,
     "metadata": {},
     "output_type": "execute_result"
    }
   ],
   "source": [
    "y_test.value_counts(normalize=True)"
   ]
  },
  {
   "cell_type": "markdown",
   "metadata": {},
   "source": [
    "## **3. Exploratory Data Analysis**\n",
    "---"
   ]
  },
  {
   "cell_type": "markdown",
   "metadata": {},
   "source": [
    "- To make a model that predicts well on unseen data, we must prevent leakage of test set information.\n",
    "- Thus, we only explore on **training set**."
   ]
  },
  {
   "cell_type": "code",
   "execution_count": 13,
   "metadata": {},
   "outputs": [
    {
     "name": "stdout",
     "output_type": "stream",
     "text": [
      "Train data shape: (30380, 11)\n"
     ]
    },
    {
     "data": {
      "text/html": [
       "<div>\n",
       "<style scoped>\n",
       "    .dataframe tbody tr th:only-of-type {\n",
       "        vertical-align: middle;\n",
       "    }\n",
       "\n",
       "    .dataframe tbody tr th {\n",
       "        vertical-align: top;\n",
       "    }\n",
       "\n",
       "    .dataframe thead th {\n",
       "        text-align: right;\n",
       "    }\n",
       "</style>\n",
       "<table border=\"1\" class=\"dataframe\">\n",
       "  <thead>\n",
       "    <tr style=\"text-align: right;\">\n",
       "      <th></th>\n",
       "      <th>5473</th>\n",
       "      <th>26630</th>\n",
       "      <th>17083</th>\n",
       "      <th>4730</th>\n",
       "      <th>19154</th>\n",
       "    </tr>\n",
       "  </thead>\n",
       "  <tbody>\n",
       "    <tr>\n",
       "      <th>gender</th>\n",
       "      <td>Male</td>\n",
       "      <td>Female</td>\n",
       "      <td>Male</td>\n",
       "      <td>Male</td>\n",
       "      <td>Female</td>\n",
       "    </tr>\n",
       "    <tr>\n",
       "      <th>age</th>\n",
       "      <td>7.0</td>\n",
       "      <td>53.0</td>\n",
       "      <td>26.0</td>\n",
       "      <td>7.0</td>\n",
       "      <td>44.0</td>\n",
       "    </tr>\n",
       "    <tr>\n",
       "      <th>hypertension</th>\n",
       "      <td>0</td>\n",
       "      <td>0</td>\n",
       "      <td>0</td>\n",
       "      <td>0</td>\n",
       "      <td>0</td>\n",
       "    </tr>\n",
       "    <tr>\n",
       "      <th>heart_disease</th>\n",
       "      <td>0</td>\n",
       "      <td>1</td>\n",
       "      <td>0</td>\n",
       "      <td>0</td>\n",
       "      <td>0</td>\n",
       "    </tr>\n",
       "    <tr>\n",
       "      <th>ever_married</th>\n",
       "      <td>No</td>\n",
       "      <td>No</td>\n",
       "      <td>No</td>\n",
       "      <td>No</td>\n",
       "      <td>Yes</td>\n",
       "    </tr>\n",
       "    <tr>\n",
       "      <th>work_type</th>\n",
       "      <td>children</td>\n",
       "      <td>Private</td>\n",
       "      <td>Private</td>\n",
       "      <td>children</td>\n",
       "      <td>Private</td>\n",
       "    </tr>\n",
       "    <tr>\n",
       "      <th>Residence_type</th>\n",
       "      <td>Rural</td>\n",
       "      <td>Urban</td>\n",
       "      <td>Rural</td>\n",
       "      <td>Urban</td>\n",
       "      <td>Urban</td>\n",
       "    </tr>\n",
       "    <tr>\n",
       "      <th>avg_glucose_level</th>\n",
       "      <td>102.78</td>\n",
       "      <td>94.68</td>\n",
       "      <td>88.28</td>\n",
       "      <td>77.12</td>\n",
       "      <td>84.55</td>\n",
       "    </tr>\n",
       "    <tr>\n",
       "      <th>bmi</th>\n",
       "      <td>18.1</td>\n",
       "      <td>NaN</td>\n",
       "      <td>36.3</td>\n",
       "      <td>18.6</td>\n",
       "      <td>44.5</td>\n",
       "    </tr>\n",
       "    <tr>\n",
       "      <th>smoking_status</th>\n",
       "      <td>NaN</td>\n",
       "      <td>never smoked</td>\n",
       "      <td>never smoked</td>\n",
       "      <td>NaN</td>\n",
       "      <td>NaN</td>\n",
       "    </tr>\n",
       "    <tr>\n",
       "      <th>stroke</th>\n",
       "      <td>0</td>\n",
       "      <td>0</td>\n",
       "      <td>0</td>\n",
       "      <td>0</td>\n",
       "      <td>0</td>\n",
       "    </tr>\n",
       "  </tbody>\n",
       "</table>\n",
       "</div>"
      ],
      "text/plain": [
       "                      5473          26630         17083     4730     19154\n",
       "gender                 Male        Female          Male      Male   Female\n",
       "age                     7.0          53.0          26.0       7.0     44.0\n",
       "hypertension              0             0             0         0        0\n",
       "heart_disease             0             1             0         0        0\n",
       "ever_married             No            No            No        No      Yes\n",
       "work_type          children       Private       Private  children  Private\n",
       "Residence_type        Rural         Urban         Rural     Urban    Urban\n",
       "avg_glucose_level    102.78         94.68         88.28     77.12    84.55\n",
       "bmi                    18.1           NaN          36.3      18.6     44.5\n",
       "smoking_status          NaN  never smoked  never smoked       NaN      NaN\n",
       "stroke                    0             0             0         0        0"
      ]
     },
     "execution_count": 13,
     "metadata": {},
     "output_type": "execute_result"
    }
   ],
   "source": [
    "# Concatenate X_train and y_train as data_train\n",
    "data_train = pd.concat((X_train, y_train), axis=1)\n",
    "\n",
    "# Validate data_train\n",
    "print('Train data shape:', data_train.shape)\n",
    "data_train.head().T"
   ]
  },
  {
   "cell_type": "markdown",
   "metadata": {},
   "source": [
    "What do we do in EDA?\n",
    "- Check for any insight in the data:\n",
    "  - Distribution or proportion\n",
    "  - Outliers\n",
    "  - Sparse data\n",
    "  - Perfect discrimination\n",
    "- Make a plan for data pre-processing."
   ]
  },
  {
   "cell_type": "code",
   "execution_count": 14,
   "metadata": {},
   "outputs": [
    {
     "data": {
      "text/plain": [
       "gender                  0\n",
       "age                     0\n",
       "hypertension            0\n",
       "heart_disease           0\n",
       "ever_married            0\n",
       "work_type               0\n",
       "Residence_type          0\n",
       "avg_glucose_level       0\n",
       "bmi                   995\n",
       "smoking_status       9332\n",
       "stroke                  0\n",
       "dtype: int64"
      ]
     },
     "execution_count": 14,
     "metadata": {},
     "output_type": "execute_result"
    }
   ],
   "source": [
    "# Check for missing values\n",
    "data_train.isna().sum()"
   ]
  },
  {
   "cell_type": "code",
   "execution_count": 15,
   "metadata": {},
   "outputs": [
    {
     "name": "stdout",
     "output_type": "stream",
     "text": [
      "<class 'pandas.core.frame.DataFrame'>\n",
      "Index: 30380 entries, 5473 to 21868\n",
      "Data columns (total 11 columns):\n",
      " #   Column             Non-Null Count  Dtype  \n",
      "---  ------             --------------  -----  \n",
      " 0   gender             30380 non-null  object \n",
      " 1   age                30380 non-null  float64\n",
      " 2   hypertension       30380 non-null  int64  \n",
      " 3   heart_disease      30380 non-null  int64  \n",
      " 4   ever_married       30380 non-null  object \n",
      " 5   work_type          30380 non-null  object \n",
      " 6   Residence_type     30380 non-null  object \n",
      " 7   avg_glucose_level  30380 non-null  float64\n",
      " 8   bmi                29385 non-null  float64\n",
      " 9   smoking_status     21048 non-null  object \n",
      " 10  stroke             30380 non-null  int64  \n",
      "dtypes: float64(3), int64(3), object(5)\n",
      "memory usage: 2.8+ MB\n"
     ]
    }
   ],
   "source": [
    "# Check for data type\n",
    "data_train.info()"
   ]
  },
  {
   "cell_type": "markdown",
   "metadata": {},
   "source": [
    "**Summary**\n",
    "- There are big number of missing values in `smoking_status` and small number of missing value in `bmi`.\n",
    "  - `smoking_status` is categorical variable.\n",
    "  - `bmi` is float variable.\n",
    "- We need to find how to handle the missing values by exploring those variables."
   ]
  },
  {
   "cell_type": "markdown",
   "metadata": {},
   "source": [
    "### Predictor 1: gender\n",
    "\n",
    "---\n",
    "Gender of the respondent: male or female."
   ]
  },
  {
   "cell_type": "code",
   "execution_count": 16,
   "metadata": {},
   "outputs": [
    {
     "data": {
      "text/plain": [
       "gender\n",
       "Female    0.590520\n",
       "Male      0.409151\n",
       "Other     0.000329\n",
       "Name: proportion, dtype: float64"
      ]
     },
     "execution_count": 16,
     "metadata": {},
     "output_type": "execute_result"
    }
   ],
   "source": [
    "# Describe proportion of 'gender'\n",
    "data_train['gender'].value_counts(normalize = True)"
   ]
  },
  {
   "cell_type": "markdown",
   "metadata": {},
   "source": [
    "From here, we know:\n",
    "- We have gender of 'Other' in our sample.\n",
    "  - Since we can't explain the dataset well, we will drop about 0.02% sample with gender of 'Other'\n",
    "- Gender (female and male) of our sample is quite balanced, in a ratio of 59:41."
   ]
  },
  {
   "cell_type": "code",
   "execution_count": 17,
   "metadata": {},
   "outputs": [],
   "source": [
    "# Remove gender 'Other' from sample\n",
    "data_train.drop(data_train[(data_train['gender'] == 'Other')].index,\n",
    "                inplace = True)"
   ]
  },
  {
   "cell_type": "code",
   "execution_count": 18,
   "metadata": {},
   "outputs": [
    {
     "data": {
      "text/plain": [
       "<Axes: xlabel='gender', ylabel='count'>"
      ]
     },
     "execution_count": 18,
     "metadata": {},
     "output_type": "execute_result"
    },
    {
     "data": {
      "image/png": "[encoded data removed]",
      "text/plain": [
       "<Figure size 640x480 with 1 Axes>"
      ]
     },
     "metadata": {},
     "output_type": "display_data"
    }
   ],
   "source": [
    "# Describe proportion of stroke by gender\n",
    "sns.countplot(data = data_train,\n",
    "              x = 'gender',\n",
    "              hue = response_variable)"
   ]
  },
  {
   "cell_type": "code",
   "execution_count": 19,
   "metadata": {},
   "outputs": [],
   "source": [
    "def calculate_odds(data, predictor_label):\n",
    "  # Frequency of default by predictor_label\n",
    "  crosstab = pd.crosstab(data[predictor_label],\n",
    "                         data[response_variable],\n",
    "                         margins = False)\n",
    "\n",
    "  # Calculate odds\n",
    "  crosstab['Odds'] = np.round((crosstab[1]/crosstab[0]),3)\n",
    "\n",
    "  # Sort by the odds value\n",
    "  crosstab = crosstab.sort_values(by = 'Odds',\n",
    "                       ascending = False)\n",
    "\n",
    "  return crosstab"
   ]
  },
  {
   "cell_type": "code",
   "execution_count": 20,
   "metadata": {},
   "outputs": [
    {
     "data": {
      "text/html": [
       "<div>\n",
       "<style scoped>\n",
       "    .dataframe tbody tr th:only-of-type {\n",
       "        vertical-align: middle;\n",
       "    }\n",
       "\n",
       "    .dataframe tbody tr th {\n",
       "        vertical-align: top;\n",
       "    }\n",
       "\n",
       "    .dataframe thead th {\n",
       "        text-align: right;\n",
       "    }\n",
       "</style>\n",
       "<table border=\"1\" class=\"dataframe\">\n",
       "  <thead>\n",
       "    <tr style=\"text-align: right;\">\n",
       "      <th>stroke</th>\n",
       "      <th>0</th>\n",
       "      <th>1</th>\n",
       "      <th>Odds</th>\n",
       "    </tr>\n",
       "    <tr>\n",
       "      <th>gender</th>\n",
       "      <th></th>\n",
       "      <th></th>\n",
       "      <th></th>\n",
       "    </tr>\n",
       "  </thead>\n",
       "  <tbody>\n",
       "    <tr>\n",
       "      <th>Male</th>\n",
       "      <td>12184</td>\n",
       "      <td>246</td>\n",
       "      <td>0.020</td>\n",
       "    </tr>\n",
       "    <tr>\n",
       "      <th>Female</th>\n",
       "      <td>17638</td>\n",
       "      <td>302</td>\n",
       "      <td>0.017</td>\n",
       "    </tr>\n",
       "  </tbody>\n",
       "</table>\n",
       "</div>"
      ],
      "text/plain": [
       "stroke      0    1   Odds\n",
       "gender                   \n",
       "Male    12184  246  0.020\n",
       "Female  17638  302  0.017"
      ]
     },
     "execution_count": 20,
     "metadata": {},
     "output_type": "execute_result"
    }
   ],
   "source": [
    "# Calculate odds of default from predictor 'person_home_ownership'\n",
    "odds_gender = calculate_odds(data = data_train,\n",
    "                             predictor_label = 'gender')\n",
    "\n",
    "odds_gender"
   ]
  },
  {
   "cell_type": "markdown",
   "metadata": {},
   "source": [
    "Create a function to perform test of independence."
   ]
  },
  {
   "cell_type": "code",
   "execution_count": 22,
   "metadata": {},
   "outputs": [],
   "source": [
    "# Import the package\n",
    "import scipy.stats as stats\n",
    "from scipy.stats import chi2_contingency\n",
    "\n",
    "# Create a function of independence test\n",
    "def independence_test(data, predictor_label, alpha=0.05):\n",
    "    \"\"\"\n",
    "    Function to perform the independence test.\n",
    "\n",
    "    Parameters\n",
    "    ----------\n",
    "    data : array like\n",
    "      The data label.\n",
    "\n",
    "    predictor_label : object\n",
    "      The label of predictor variable.\n",
    "\n",
    "    alpha : float in range[0,1], default = 0.05\n",
    "      Probability of Type I Error (reject H0 when H0 is true).\n",
    "\n",
    "    \"\"\"\n",
    "    # Build the contingency table\n",
    "    crosstab = pd.crosstab(data[predictor_label],\n",
    "                           data[response_variable],\n",
    "                           margins = False)\n",
    "\n",
    "    # Test whether churn is independent of the predictor\n",
    "    stats.chi2_contingency(crosstab)\n",
    "\n",
    "    # Result of independence test\n",
    "    result = stats.chi2_contingency(crosstab)\n",
    "\n",
    "    # Extract the test result\n",
    "    stat = result[0]\n",
    "    pval = result[1]\n",
    "\n",
    "    # Print the conclusion\n",
    "    if pval < alpha:\n",
    "        print(f\"Stroke and {predictor_label} is not independent with P-val={pval:.2f}.\")\n",
    "    else:\n",
    "        print(f\"Stroke and {predictor_label} is independent with P-val={pval:.2f}.\")"
   ]
  },
  {
   "cell_type": "code",
   "execution_count": 23,
   "metadata": {},
   "outputs": [
    {
     "name": "stdout",
     "output_type": "stream",
     "text": [
      "Stroke and gender is independent with P-val=0.06.\n"
     ]
    }
   ],
   "source": [
    "# Perform the independence test\n",
    "independence_test(data = data_train,\n",
    "                  predictor_label = 'gender',\n",
    "                  alpha = 0.05)"
   ]
  },
  {
   "cell_type": "markdown",
   "metadata": {},
   "source": [
    "**Summary**\n",
    "- Gender of 'Other' is removed from the sample.\n",
    "- The probability of stroke and gender is not independent.\n",
    "\n",
    "**Pre-processing Plan:**\n",
    "- We don't have empty cells and missing values from `gender` variable."
   ]
  }
 ],
 "metadata": {
  "kernelspec": {
   "display_name": ".venv",
   "language": "python",
   "name": "python3"
  },
  "language_info": {
   "codemirror_mode": {
    "name": "ipython",
    "version": 3
   },
   "file_extension": ".py",
   "mimetype": "text/x-python",
   "name": "python",
   "nbconvert_exporter": "python",
   "pygments_lexer": "ipython3",
   "version": "3.9.5"
  }
 },
 "nbformat": 4,
 "nbformat_minor": 2
}
