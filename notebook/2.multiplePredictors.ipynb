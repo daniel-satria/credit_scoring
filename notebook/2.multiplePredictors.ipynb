{
 "cells": [
  {
   "cell_type": "markdown",
   "metadata": {},
   "source": [
    "# **Categorical, Continuous, and Multiple Predictors**"
   ]
  },
  {
   "cell_type": "markdown",
   "metadata": {},
   "source": [
    "---\n",
    "1. Categorical Predictor\n",
    "2. Continuous Predictor\n",
    "3. Multiple Predictors"
   ]
  },
  {
   "cell_type": "markdown",
   "metadata": {},
   "source": [
    "## **1. Categorical Predictor**\n",
    "---"
   ]
  },
  {
   "cell_type": "markdown",
   "metadata": {},
   "source": [
    "### **1.1. Binary Predictor**\n",
    "---"
   ]
  },
  {
   "cell_type": "markdown",
   "metadata": {},
   "source": [
    "- Predictor $(X)$ : independent variable, explanatory variable, feature.\n",
    "- Binary predictor : categorical predictor with only 2 categories.\n",
    "- Reference cell coding (\"zero-one\" coding)\n",
    "  - Assigns the zero value to the lower code for $x$ as a reference, and one to the higher code.\n",
    "  - $x=0$ as the reference.\n",
    "- **Interpretation**:\n",
    "\n",
    "> The estimate of the odds ratio between category 1 and category 0 is $\\text{OR}=\\exp(\\beta_{1})$."
   ]
  },
  {
   "cell_type": "markdown",
   "metadata": {},
   "source": [
    "### **1.2. Multicategory Predictor**\n",
    "---"
   ]
  },
  {
   "cell_type": "markdown",
   "metadata": {},
   "source": [
    "- Multicategory predictor : categorical predictor with more than 2 categories.\n",
    "- Reference cell coding:\n",
    "  - Assigns the zero value as the reference category for $x$ and use indicator/dummy variables for others.\n",
    "  - Thus, a predictor with $c$ categories will have one reference category and $c-1$ indicator/dummy variables.\n",
    "- For example, the original label/code for predictor Color $(c)$ with 4 categories:\n",
    "\n",
    "<center>\n",
    "\n",
    "|Color $(x)$|Code|\n",
    "|:--:|:--:|\n",
    "|Medium Light|1|\n",
    "|Medium|2|\n",
    "|Medium Dark|3|\n",
    "|Dark|4|\n",
    "\n",
    "</center>\n",
    "\n",
    "- With reference cell coding, predictor Color become 3 indicator/dummy variable. Color **Dark as reference**:\n",
    "\n",
    "<center>\n",
    "\n",
    "|Color|$c_{1}$|$c_{2}$|$c_{3}$|\n",
    "|:--:|:--:|:--:|:--:|\n",
    "|Medium Light|1|0|0|\n",
    "|Medium|0|1|0|\n",
    "|Medium Dark|0|0|1|\n",
    "|Dark|0|0|0|\n",
    "\n",
    "</center>\n",
    "\n",
    "- Thus, the logit model becomes:\n",
    "\n",
    "$$\n",
    "\\text{log(odds)} = \\beta_{0}+\\beta_{1}c_{1}+\\beta_{2}c_{2}+\\beta_{3}c_{3}\n",
    "$$\n",
    "\n",
    "- With reference cell coding,\n",
    "  - $c_{1}=1$ for color = medium light, $0$ otherwise\n",
    "  - $c_{2}=1$ for color = medium, $0$ otherwise\n",
    "  - $c_{3}=1$ for color = medium dark, $0$ otherwise\n",
    "  - Color is dark when $c_{1}=c_{2}=c_{3}=0$\n",
    "\n",
    "- **Interpretation**:\n",
    "> The estimate of the odds ratio between category $k$ and reference category is $\\text{OR}(k,\\text{reference})=\\exp(\\beta_{k})$, with $k=1,2,\\dots,c$.\n",
    "\n",
    "- In general, to interpret the odds ratio between two category:\n",
    "  1. Calculate the logit difference.\n",
    "  2. Interpret in terms of the odds ratio.\n",
    "- Thus, the odds ratio between two category, say category $a$ and $b$ is $\\text{OR}(a,b)=\\exp(\\beta_{a}-\\beta_{b})$\n",
    "\n",
    "- **Interpretation**:\n",
    "> The odds of success at $x$ = category $a$  equals $\\exp(\\beta_{a}-\\beta_{b})$ times the odds of success at $x$ = category $b$.\n"
   ]
  },
  {
   "cell_type": "markdown",
   "metadata": {},
   "source": [
    "### **1.3. Ordinal Predictor**\n",
    "---"
   ]
  },
  {
   "cell_type": "markdown",
   "metadata": {},
   "source": [
    "- Ordinal predictor : predictor with ordered scale categories, e.g: low, medium, high.\n",
    "- Ordinal predictors treated in a quantitative manner (continuous scale).\n",
    "- Thus the code:\n",
    "  - $x=1$ --> low\n",
    "  - $x=2$ --> medium\n",
    "  - $x=3$ --> high"
   ]
  },
  {
   "cell_type": "markdown",
   "metadata": {},
   "source": [
    "## **2. Continuous Predictor**\n",
    "---"
   ]
  },
  {
   "cell_type": "markdown",
   "metadata": {},
   "source": [
    "### **2.1. The Intercept**\n",
    "---"
   ]
  },
  {
   "cell_type": "markdown",
   "metadata": {},
   "source": [
    "- Intercept value is the logit value when $x=0$.\n",
    "$$\n",
    "\\begin{align*}\n",
    "\\text{logit}(\\pi(x)) &= \\beta_{0}+\\beta_{1}(x) \\\\\n",
    "\\text{logit}(\\pi(0)) &= \\beta_{0}+\\beta_{1}(0) \\\\\n",
    "\\text{logit}(\\pi(0)) &= \\beta_{0} \\\\\n",
    "\\end{align*}\n",
    "$$\n",
    "<br>\n",
    "- For example, the logit model from the horseshoe crab data:\n",
    "$$\n",
    "\\begin{align*}\n",
    "\\text{logit(Width=0)} &= -12.3508 + 0.4972 (0) \\\\\n",
    "\\text{logit(Width=0)} &= -12.3508\n",
    "\\end{align*}\n",
    "$$\n",
    "  - Interpretation: the estimated odds of a crab having any satellite is $\\exp(-12.3508)$ when its width is 0 cm.\n",
    "  - \"Zero width\" crab sounds non reasonable.\n",
    "  - Intercept is not meaningful and difficult to interpret.\n",
    "- To make it interpretable, we can transform predictor $x$ by centering its value.\n",
    "  - `c_width = width - np.mean(width)`\n",
    "  - Thus, `c_width = 0` represents the mean value of width.\n",
    "  - In general, zero value for the centered predictor represents the average value of the predictor."
   ]
  },
  {
   "cell_type": "markdown",
   "metadata": {},
   "source": [
    "### **2.2. The Effect of Continuous Predictor**\n",
    "---"
   ]
  },
  {
   "cell_type": "markdown",
   "metadata": {},
   "source": [
    "- Under the assumption that the logit is linear in the continuous predictor $x$, the equation for the logit is:\n",
    "\n",
    "$$\n",
    "\\text{logit}(\\pi(x)) = \\beta_{0}+\\beta_{1}(x)\n",
    "$$\n",
    "<br>\n",
    "- Slope coefficient, $\\beta_{1}$, gives the change in the log odds for an increase of 1 unit in $x$.\n",
    "- Thus, the odds of success multiply by $\\exp(\\beta_{1})$ for every 1 unit increase in $x$.\n",
    "  - But if $x$ in range [0,1], then a change of 1 is too large. Change of 0.01 may be more realistic.\n",
    "  - In another case, a 1 ml increase in coffee consumption may be too small to be considered important.\n",
    "Change of 50 or 100 ml may be more realistic.\n",
    "  - **Solution : use the term “$c$” for the change of $x$.**\n",
    "- The interpretation for $c$ unit change in $x$:\n",
    "> The odds of success multiply by $\\exp(c\\times\\beta_{1})$ for every $c$ unit increase in $x$."
   ]
  },
  {
   "cell_type": "code",
   "execution_count": null,
   "metadata": {},
   "outputs": [],
   "source": []
  },
  {
   "cell_type": "code",
   "execution_count": null,
   "metadata": {},
   "outputs": [],
   "source": []
  }
 ],
 "metadata": {
  "language_info": {
   "name": "python"
  }
 },
 "nbformat": 4,
 "nbformat_minor": 2
}
