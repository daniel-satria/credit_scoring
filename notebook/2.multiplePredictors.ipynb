{
 "cells": [
  {
   "cell_type": "markdown",
   "metadata": {},
   "source": [
    "# **Categorical, Continuous, and Multiple Predictors**"
   ]
  },
  {
   "cell_type": "markdown",
   "metadata": {},
   "source": [
    "---\n",
    "1. Categorical Predictor\n",
    "2. Continuous Predictor\n",
    "3. Multiple Predictors"
   ]
  },
  {
   "cell_type": "markdown",
   "metadata": {},
   "source": [
    "## **1. Categorical Predictor**\n",
    "---"
   ]
  },
  {
   "cell_type": "markdown",
   "metadata": {},
   "source": [
    "### **1.1. Binary Predictor**\n",
    "---"
   ]
  },
  {
   "cell_type": "markdown",
   "metadata": {},
   "source": [
    "- Predictor $(X)$ : independent variable, explanatory variable, feature.\n",
    "- Binary predictor : categorical predictor with only 2 categories.\n",
    "- Reference cell coding (\"zero-one\" coding)\n",
    "  - Assigns the zero value to the lower code for $x$ as a reference, and one to the higher code.\n",
    "  - $x=0$ as the reference.\n",
    "- **Interpretation**:\n",
    "\n",
    "> The estimate of the odds ratio between category 1 and category 0 is $\\text{OR}=\\exp(\\beta_{1})$."
   ]
  },
  {
   "cell_type": "markdown",
   "metadata": {},
   "source": [
    "### **1.2. Multicategory Predictor**\n",
    "---"
   ]
  },
  {
   "cell_type": "markdown",
   "metadata": {},
   "source": [
    "- Multicategory predictor : categorical predictor with more than 2 categories.\n",
    "- Reference cell coding:\n",
    "  - Assigns the zero value as the reference category for $x$ and use indicator/dummy variables for others.\n",
    "  - Thus, a predictor with $c$ categories will have one reference category and $c-1$ indicator/dummy variables.\n",
    "- For example, the original label/code for predictor Color $(c)$ with 4 categories:\n",
    "\n",
    "<center>\n",
    "\n",
    "|Color $(x)$|Code|\n",
    "|:--:|:--:|\n",
    "|Medium Light|1|\n",
    "|Medium|2|\n",
    "|Medium Dark|3|\n",
    "|Dark|4|\n",
    "\n",
    "</center>\n",
    "\n",
    "- With reference cell coding, predictor Color become 3 indicator/dummy variable. Color **Dark as reference**:\n",
    "\n",
    "<center>\n",
    "\n",
    "|Color|$c_{1}$|$c_{2}$|$c_{3}$|\n",
    "|:--:|:--:|:--:|:--:|\n",
    "|Medium Light|1|0|0|\n",
    "|Medium|0|1|0|\n",
    "|Medium Dark|0|0|1|\n",
    "|Dark|0|0|0|\n",
    "\n",
    "</center>\n",
    "\n",
    "- Thus, the logit model becomes:\n",
    "\n",
    "$$\n",
    "\\text{log(odds)} = \\beta_{0}+\\beta_{1}c_{1}+\\beta_{2}c_{2}+\\beta_{3}c_{3}\n",
    "$$\n",
    "\n",
    "- With reference cell coding,\n",
    "  - $c_{1}=1$ for color = medium light, $0$ otherwise\n",
    "  - $c_{2}=1$ for color = medium, $0$ otherwise\n",
    "  - $c_{3}=1$ for color = medium dark, $0$ otherwise\n",
    "  - Color is dark when $c_{1}=c_{2}=c_{3}=0$\n",
    "\n",
    "- **Interpretation**:\n",
    "> The estimate of the odds ratio between category $k$ and reference category is $\\text{OR}(k,\\text{reference})=\\exp(\\beta_{k})$, with $k=1,2,\\dots,c$.\n",
    "\n",
    "- In general, to interpret the odds ratio between two category:\n",
    "  1. Calculate the logit difference.\n",
    "  2. Interpret in terms of the odds ratio.\n",
    "- Thus, the odds ratio between two category, say category $a$ and $b$ is $\\text{OR}(a,b)=\\exp(\\beta_{a}-\\beta_{b})$\n",
    "\n",
    "- **Interpretation**:\n",
    "> The odds of success at $x$ = category $a$  equals $\\exp(\\beta_{a}-\\beta_{b})$ times the odds of success at $x$ = category $b$.\n"
   ]
  },
  {
   "cell_type": "markdown",
   "metadata": {},
   "source": [
    "### **1.3. Ordinal Predictor**\n",
    "---"
   ]
  },
  {
   "cell_type": "markdown",
   "metadata": {},
   "source": [
    "- Ordinal predictor : predictor with ordered scale categories, e.g: low, medium, high.\n",
    "- Ordinal predictors treated in a quantitative manner (continuous scale).\n",
    "- Thus the code:\n",
    "  - $x=1$ --> low\n",
    "  - $x=2$ --> medium\n",
    "  - $x=3$ --> high"
   ]
  },
  {
   "cell_type": "markdown",
   "metadata": {},
   "source": [
    "## **2. Continuous Predictor**\n",
    "---"
   ]
  },
  {
   "cell_type": "markdown",
   "metadata": {},
   "source": [
    "### **2.1. The Intercept**\n",
    "---"
   ]
  },
  {
   "cell_type": "markdown",
   "metadata": {},
   "source": [
    "- Intercept value is the logit value when $x=0$.\n",
    "$$\n",
    "\\begin{align*}\n",
    "\\text{logit}(\\pi(x)) &= \\beta_{0}+\\beta_{1}(x) \\\\\n",
    "\\text{logit}(\\pi(0)) &= \\beta_{0}+\\beta_{1}(0) \\\\\n",
    "\\text{logit}(\\pi(0)) &= \\beta_{0} \\\\\n",
    "\\end{align*}\n",
    "$$\n",
    "\n",
    "<br>\n",
    "\n",
    "- For example, the logit model from the horseshoe crab data:\n",
    "$$\n",
    "\\begin{align*}\n",
    "\\text{logit(Width=0)} &= -12.3508 + 0.4972 (0) \\\\\n",
    "\\text{logit(Width=0)} &= -12.3508\n",
    "\\end{align*}\n",
    "$$\n",
    "  - Interpretation: the estimated odds of a crab having any satellite is $\\exp(-12.3508)$ when its width is 0 cm.\n",
    "  - \"Zero width\" crab sounds non reasonable.\n",
    "  - Intercept is not meaningful and difficult to interpret.\n",
    "- To make it interpretable, we can transform predictor $x$ by centering its value.\n",
    "  - `c_width = width - np.mean(width)`\n",
    "  - Thus, `c_width = 0` represents the mean value of width.\n",
    "  - In general, zero value for the centered predictor represents the average value of the predictor."
   ]
  },
  {
   "cell_type": "markdown",
   "metadata": {},
   "source": [
    "### **2.2. The Effect of Continuous Predictor**\n",
    "---"
   ]
  },
  {
   "cell_type": "markdown",
   "metadata": {},
   "source": [
    "- Under the assumption that the logit is linear in the continuous predictor $x$, the equation for the logit is:\n",
    "\n",
    "$$\n",
    "\\text{logit}(\\pi(x)) = \\beta_{0}+\\beta_{1}(x)\n",
    "$$\n",
    "\n",
    "<br>\n",
    "\n",
    "- Slope coefficient, $\\beta_{1}$, gives the change in the log odds for an increase of 1 unit in $x$.\n",
    "- Thus, the odds of success multiply by $\\exp(\\beta_{1})$ for every 1 unit increase in $x$.\n",
    "  - But if $x$ in range [0,1], then a change of 1 is too large. Change of 0.01 may be more realistic.\n",
    "  - In another case, a 1 ml increase in coffee consumption may be too small to be considered important.\n",
    "Change of 50 or 100 ml may be more realistic.\n",
    "  - **Solution : use the term “$c$” for the change of $x$.**\n",
    "- The interpretation for $c$ unit change in $x$:\n",
    "> The odds of success multiply by $\\exp(c\\times\\beta_{1})$ for every $c$ unit increase in $x$."
   ]
  },
  {
   "cell_type": "markdown",
   "metadata": {},
   "source": [
    "## **3. Multiple Predictors**\n",
    "---"
   ]
  },
  {
   "cell_type": "markdown",
   "metadata": {},
   "source": [
    "- Denote the $k$ predictors for a binary response $Y$ by $X = x_{1}, x_{2}, \\dots, x_{k}$. The model for the log odds is:\n",
    "$$\n",
    "\\text{logit}(\\pi(X)) = \\beta_{0} + \\beta_{1}x_{1} + \\beta_{2}x_{2} + \\dots + \\beta_{k}x_{k}\n",
    "$$\n",
    "\n",
    "<br>\n",
    "\n",
    "- The parameter $\\beta_{j}$ refers to the effect of $x_{j}$ on the log odds that $Y = 1$, controlling the other $x$.\n",
    "- Interpretation:\n",
    "\n",
    "> The odds of success multiply by $\\exp(\\beta_{j})$ for 1 unit increase in $x_{j}$, at fixed levels of the other $x$.\n",
    "\n"
   ]
  },
  {
   "cell_type": "markdown",
   "metadata": {},
   "source": [
    "# **Case: Categorical Predictor**\n",
    "---"
   ]
  },
  {
   "cell_type": "markdown",
   "metadata": {},
   "source": [
    "Note:\n",
    "- Ideally, we perform the significance test for each parameter estimate before interpreting the logistic regression model.\n",
    "- We don't perform significance test in this section since we learned how to conduct significance test last week.\n",
    "- Fortunately, all models in this section yield significant parameter estimates (P-value < $\\alpha=0.05$)."
   ]
  },
  {
   "cell_type": "markdown",
   "metadata": {},
   "source": [
    "## **Load Data**\n",
    "---"
   ]
  },
  {
   "cell_type": "markdown",
   "metadata": {},
   "source": [
    "The sample we will use in this example is a fictive dataset from [here](https://www.kaggle.com/datasets/laotse/credit-risk-dataset).\n",
    "\n",
    "The sample consist of some demographic, bureau, and financial information.\n",
    "\n",
    "Note that we are not defining the default or bad status from our dataset here. Instead, we already have the binary response variable:\n",
    "\n",
    "- `loan_status`\n",
    "  - `loan_status = 0` for non default loan.\n",
    "  - `loan_status = 1` for default loan.\n",
    "\n",
    "The potential predictors for predicting the response variable are:\n",
    "\n",
    "1. `person age` : age of the debtor.\n",
    "2. `person_income` : annual income of the debtor.\n",
    "3. `person_home_ownership`\n",
    "  - `RENT`\n",
    "  - `MORTGAGE`\n",
    "  - `OWN`\n",
    "  - `OTHER`\n",
    "4. `person_emp_length` : employment length of debtor (in years).\n",
    "5. `loan_intent` : purpose of the loan.\n",
    "  - `EDUCATION`\n",
    "  - `MEDICAL`\n",
    "  - `VENTURE`\n",
    "  - `PERSONAL`\n",
    "  - `DEBTCONSOLIDATION`\n",
    "6. `loan_grade`\n",
    "7.  `loan_amnt`\t: amount of the loan.\n",
    "8. `loan_int_rate` : interest rate of the loan.\n",
    "10. `loan_percent_income`\t: percent loan of the debtor's income.\n",
    "11. `cb_person_default_on_file`\t: historical default.\n",
    "  - `0` : the debtor does not have any history of defaults.\n",
    "  - `1` : the debtor has a history of defaults on their credit file.\n",
    "12. `cb_preson_cred_hist_length` : length of the credit history."
   ]
  },
  {
   "cell_type": "markdown",
   "metadata": {},
   "source": [
    "First, load the data from `credit_risk_dataset.csv` file."
   ]
  },
  {
   "cell_type": "code",
   "execution_count": 1,
   "metadata": {},
   "outputs": [],
   "source": [
    "# Load data manipulation package\n",
    "import numpy as np\n",
    "import pandas as pd\n",
    "\n",
    "# Load data visualization package\n",
    "import matplotlib.pyplot as plt\n",
    "import seaborn as sns\n",
    "\n",
    "# Load Statistics package\n",
    "import statsmodels.api as sm\n",
    "import statsmodels.formula.api as smf\n",
    "from sklearn.linear_model import LogisticRegression"
   ]
  },
  {
   "cell_type": "code",
   "execution_count": 2,
   "metadata": {},
   "outputs": [
    {
     "data": {
      "text/html": [
       "<div>\n",
       "<style scoped>\n",
       "    .dataframe tbody tr th:only-of-type {\n",
       "        vertical-align: middle;\n",
       "    }\n",
       "\n",
       "    .dataframe tbody tr th {\n",
       "        vertical-align: top;\n",
       "    }\n",
       "\n",
       "    .dataframe thead th {\n",
       "        text-align: right;\n",
       "    }\n",
       "</style>\n",
       "<table border=\"1\" class=\"dataframe\">\n",
       "  <thead>\n",
       "    <tr style=\"text-align: right;\">\n",
       "      <th></th>\n",
       "      <th>0</th>\n",
       "      <th>1</th>\n",
       "      <th>2</th>\n",
       "      <th>3</th>\n",
       "      <th>4</th>\n",
       "    </tr>\n",
       "  </thead>\n",
       "  <tbody>\n",
       "    <tr>\n",
       "      <th>person_age</th>\n",
       "      <td>22</td>\n",
       "      <td>21</td>\n",
       "      <td>25</td>\n",
       "      <td>23</td>\n",
       "      <td>24</td>\n",
       "    </tr>\n",
       "    <tr>\n",
       "      <th>person_income</th>\n",
       "      <td>59000</td>\n",
       "      <td>9600</td>\n",
       "      <td>9600</td>\n",
       "      <td>65500</td>\n",
       "      <td>54400</td>\n",
       "    </tr>\n",
       "    <tr>\n",
       "      <th>person_home_ownership</th>\n",
       "      <td>RENT</td>\n",
       "      <td>OWN</td>\n",
       "      <td>MORTGAGE</td>\n",
       "      <td>RENT</td>\n",
       "      <td>RENT</td>\n",
       "    </tr>\n",
       "    <tr>\n",
       "      <th>person_emp_length</th>\n",
       "      <td>123.0</td>\n",
       "      <td>5.0</td>\n",
       "      <td>1.0</td>\n",
       "      <td>4.0</td>\n",
       "      <td>8.0</td>\n",
       "    </tr>\n",
       "    <tr>\n",
       "      <th>loan_intent</th>\n",
       "      <td>PERSONAL</td>\n",
       "      <td>EDUCATION</td>\n",
       "      <td>MEDICAL</td>\n",
       "      <td>MEDICAL</td>\n",
       "      <td>MEDICAL</td>\n",
       "    </tr>\n",
       "    <tr>\n",
       "      <th>loan_grade</th>\n",
       "      <td>D</td>\n",
       "      <td>B</td>\n",
       "      <td>C</td>\n",
       "      <td>C</td>\n",
       "      <td>C</td>\n",
       "    </tr>\n",
       "    <tr>\n",
       "      <th>loan_amnt</th>\n",
       "      <td>35000</td>\n",
       "      <td>1000</td>\n",
       "      <td>5500</td>\n",
       "      <td>35000</td>\n",
       "      <td>35000</td>\n",
       "    </tr>\n",
       "    <tr>\n",
       "      <th>loan_int_rate</th>\n",
       "      <td>16.02</td>\n",
       "      <td>11.14</td>\n",
       "      <td>12.87</td>\n",
       "      <td>15.23</td>\n",
       "      <td>14.27</td>\n",
       "    </tr>\n",
       "    <tr>\n",
       "      <th>loan_status</th>\n",
       "      <td>1</td>\n",
       "      <td>0</td>\n",
       "      <td>1</td>\n",
       "      <td>1</td>\n",
       "      <td>1</td>\n",
       "    </tr>\n",
       "    <tr>\n",
       "      <th>loan_percent_income</th>\n",
       "      <td>0.59</td>\n",
       "      <td>0.1</td>\n",
       "      <td>0.57</td>\n",
       "      <td>0.53</td>\n",
       "      <td>0.55</td>\n",
       "    </tr>\n",
       "    <tr>\n",
       "      <th>cb_person_default_on_file</th>\n",
       "      <td>Y</td>\n",
       "      <td>N</td>\n",
       "      <td>N</td>\n",
       "      <td>N</td>\n",
       "      <td>Y</td>\n",
       "    </tr>\n",
       "    <tr>\n",
       "      <th>cb_person_cred_hist_length</th>\n",
       "      <td>3</td>\n",
       "      <td>2</td>\n",
       "      <td>3</td>\n",
       "      <td>2</td>\n",
       "      <td>4</td>\n",
       "    </tr>\n",
       "  </tbody>\n",
       "</table>\n",
       "</div>"
      ],
      "text/plain": [
       "                                   0          1         2        3        4\n",
       "person_age                        22         21        25       23       24\n",
       "person_income                  59000       9600      9600    65500    54400\n",
       "person_home_ownership           RENT        OWN  MORTGAGE     RENT     RENT\n",
       "person_emp_length              123.0        5.0       1.0      4.0      8.0\n",
       "loan_intent                 PERSONAL  EDUCATION   MEDICAL  MEDICAL  MEDICAL\n",
       "loan_grade                         D          B         C        C        C\n",
       "loan_amnt                      35000       1000      5500    35000    35000\n",
       "loan_int_rate                  16.02      11.14     12.87    15.23    14.27\n",
       "loan_status                        1          0         1        1        1\n",
       "loan_percent_income             0.59        0.1      0.57     0.53     0.55\n",
       "cb_person_default_on_file          Y          N         N        N        Y\n",
       "cb_person_cred_hist_length         3          2         3        2        4"
      ]
     },
     "execution_count": 2,
     "metadata": {},
     "output_type": "execute_result"
    }
   ],
   "source": [
    "# Import dataset from csv file\n",
    "data = pd.read_csv('../data/credit_risk_dataset.csv')\n",
    "\n",
    "# Table check\n",
    "data.head().T"
   ]
  },
  {
   "cell_type": "code",
   "execution_count": 3,
   "metadata": {},
   "outputs": [
    {
     "data": {
      "text/plain": [
       "(32581, 12)"
      ]
     },
     "execution_count": 3,
     "metadata": {},
     "output_type": "execute_result"
    }
   ],
   "source": [
    "# Check the data shape\n",
    "data.shape"
   ]
  },
  {
   "cell_type": "markdown",
   "metadata": {},
   "source": [
    "Our sample contains 12 variables from 32,581 credit records.\n",
    "- 1 response variable, `loan_status`,\n",
    "- and 11 potential predictors/characteristics."
   ]
  },
  {
   "cell_type": "markdown",
   "metadata": {},
   "source": [
    "Before modeling, make sure you split the data first for model validation.\n",
    "\n",
    "In the classification case, check the proportion of response variable first to decide the splitting strategy."
   ]
  },
  {
   "cell_type": "code",
   "execution_count": 4,
   "metadata": {},
   "outputs": [
    {
     "data": {
      "text/plain": [
       "loan_status\n",
       "0    0.781836\n",
       "1    0.218164\n",
       "Name: proportion, dtype: float64"
      ]
     },
     "execution_count": 4,
     "metadata": {},
     "output_type": "execute_result"
    }
   ],
   "source": [
    "# Define response variable\n",
    "response_variable = 'loan_status'\n",
    "\n",
    "# Check the proportion of response variable\n",
    "data[response_variable].value_counts(normalize = True)"
   ]
  },
  {
   "cell_type": "markdown",
   "metadata": {},
   "source": [
    "The proportion of the response variable, `loan status`, is not quite balanced (in a ratio of 78:22).\n",
    "\n",
    "To get the same ratio in training and testing set, define a stratified splitting based on the response variable, `loan_status`."
   ]
  },
  {
   "cell_type": "markdown",
   "metadata": {},
   "source": [
    "## **Sample Splitting**\n",
    "---"
   ]
  },
  {
   "cell_type": "markdown",
   "metadata": {},
   "source": [
    "First, define the predictors (X) and the response (y)."
   ]
  },
  {
   "cell_type": "code",
   "execution_count": 5,
   "metadata": {},
   "outputs": [
    {
     "name": "stdout",
     "output_type": "stream",
     "text": [
      "y shape : (32581,)\n",
      "X shape : (32581, 11)\n"
     ]
    }
   ],
   "source": [
    "# Split response and predictors\n",
    "y = data[response_variable]\n",
    "X = data.drop(columns = [response_variable],\n",
    "              axis = 1)\n",
    "\n",
    "# Validate the splitting\n",
    "print('y shape :', y.shape)\n",
    "print('X shape :', X.shape)"
   ]
  },
  {
   "cell_type": "markdown",
   "metadata": {},
   "source": [
    "Next, split the training and testing set from each predictors (X) and response (y).\n",
    "- Set `stratify = y` for splitting the sample with stratify, based on the proportion of response y.\n",
    "- Set `test_size = 0.3` for holding 30% of the sample as a testing set.\n",
    "- Set `random_state = 42` for reproducibility."
   ]
  },
  {
   "cell_type": "code",
   "execution_count": 6,
   "metadata": {},
   "outputs": [
    {
     "name": "stdout",
     "output_type": "stream",
     "text": [
      "X train shape : (22806, 11)\n",
      "y train shape : (22806,)\n",
      "X test shape  : (9775, 11)\n",
      "y test shape  : (9775,)\n"
     ]
    }
   ],
   "source": [
    "from sklearn.model_selection import train_test_split\n",
    "\n",
    "# Split the data\n",
    "X_train, X_test, y_train, y_test = train_test_split(X,\n",
    "                                                    y,\n",
    "                                                    stratify = y,\n",
    "                                                    test_size = 0.3,\n",
    "                                                    random_state = 42)\n",
    "\n",
    "# Validate splitting\n",
    "print('X train shape :', X_train.shape)\n",
    "print('y train shape :', y_train.shape)\n",
    "print('X test shape  :', X_test.shape)\n",
    "print('y test shape  :', y_test.shape)"
   ]
  },
  {
   "cell_type": "markdown",
   "metadata": {},
   "source": [
    "Check the proportion of response y in each training and testing set."
   ]
  },
  {
   "cell_type": "code",
   "execution_count": 7,
   "metadata": {},
   "outputs": [
    {
     "data": {
      "text/plain": [
       "loan_status\n",
       "0    0.781856\n",
       "1    0.218144\n",
       "Name: proportion, dtype: float64"
      ]
     },
     "execution_count": 7,
     "metadata": {},
     "output_type": "execute_result"
    }
   ],
   "source": [
    "y_train.value_counts(normalize = True)"
   ]
  },
  {
   "cell_type": "code",
   "execution_count": 8,
   "metadata": {},
   "outputs": [
    {
     "data": {
      "text/plain": [
       "loan_status\n",
       "0    0.78179\n",
       "1    0.21821\n",
       "Name: proportion, dtype: float64"
      ]
     },
     "execution_count": 8,
     "metadata": {},
     "output_type": "execute_result"
    }
   ],
   "source": [
    "y_test.value_counts(normalize = True)"
   ]
  },
  {
   "cell_type": "code",
   "execution_count": 9,
   "metadata": {},
   "outputs": [
    {
     "name": "stdout",
     "output_type": "stream",
     "text": [
      "Train data shape: (22806, 12)\n"
     ]
    },
    {
     "data": {
      "text/html": [
       "<div>\n",
       "<style scoped>\n",
       "    .dataframe tbody tr th:only-of-type {\n",
       "        vertical-align: middle;\n",
       "    }\n",
       "\n",
       "    .dataframe tbody tr th {\n",
       "        vertical-align: top;\n",
       "    }\n",
       "\n",
       "    .dataframe thead th {\n",
       "        text-align: right;\n",
       "    }\n",
       "</style>\n",
       "<table border=\"1\" class=\"dataframe\">\n",
       "  <thead>\n",
       "    <tr style=\"text-align: right;\">\n",
       "      <th></th>\n",
       "      <th>person_age</th>\n",
       "      <th>person_income</th>\n",
       "      <th>person_home_ownership</th>\n",
       "      <th>person_emp_length</th>\n",
       "      <th>loan_intent</th>\n",
       "      <th>loan_grade</th>\n",
       "      <th>loan_amnt</th>\n",
       "      <th>loan_int_rate</th>\n",
       "      <th>loan_percent_income</th>\n",
       "      <th>cb_person_default_on_file</th>\n",
       "      <th>cb_person_cred_hist_length</th>\n",
       "      <th>loan_status</th>\n",
       "    </tr>\n",
       "  </thead>\n",
       "  <tbody>\n",
       "    <tr>\n",
       "      <th>11491</th>\n",
       "      <td>26</td>\n",
       "      <td>62000</td>\n",
       "      <td>RENT</td>\n",
       "      <td>1.0</td>\n",
       "      <td>DEBTCONSOLIDATION</td>\n",
       "      <td>B</td>\n",
       "      <td>10000</td>\n",
       "      <td>11.26</td>\n",
       "      <td>0.16</td>\n",
       "      <td>N</td>\n",
       "      <td>2</td>\n",
       "      <td>0</td>\n",
       "    </tr>\n",
       "    <tr>\n",
       "      <th>3890</th>\n",
       "      <td>23</td>\n",
       "      <td>39000</td>\n",
       "      <td>MORTGAGE</td>\n",
       "      <td>3.0</td>\n",
       "      <td>EDUCATION</td>\n",
       "      <td>C</td>\n",
       "      <td>5000</td>\n",
       "      <td>12.98</td>\n",
       "      <td>0.13</td>\n",
       "      <td>N</td>\n",
       "      <td>4</td>\n",
       "      <td>0</td>\n",
       "    </tr>\n",
       "    <tr>\n",
       "      <th>17344</th>\n",
       "      <td>24</td>\n",
       "      <td>35000</td>\n",
       "      <td>RENT</td>\n",
       "      <td>1.0</td>\n",
       "      <td>DEBTCONSOLIDATION</td>\n",
       "      <td>A</td>\n",
       "      <td>12000</td>\n",
       "      <td>6.54</td>\n",
       "      <td>0.34</td>\n",
       "      <td>N</td>\n",
       "      <td>2</td>\n",
       "      <td>1</td>\n",
       "    </tr>\n",
       "    <tr>\n",
       "      <th>13023</th>\n",
       "      <td>24</td>\n",
       "      <td>86000</td>\n",
       "      <td>RENT</td>\n",
       "      <td>1.0</td>\n",
       "      <td>HOMEIMPROVEMENT</td>\n",
       "      <td>B</td>\n",
       "      <td>12000</td>\n",
       "      <td>10.65</td>\n",
       "      <td>0.14</td>\n",
       "      <td>N</td>\n",
       "      <td>3</td>\n",
       "      <td>0</td>\n",
       "    </tr>\n",
       "    <tr>\n",
       "      <th>29565</th>\n",
       "      <td>42</td>\n",
       "      <td>38400</td>\n",
       "      <td>RENT</td>\n",
       "      <td>4.0</td>\n",
       "      <td>MEDICAL</td>\n",
       "      <td>B</td>\n",
       "      <td>13000</td>\n",
       "      <td>NaN</td>\n",
       "      <td>0.34</td>\n",
       "      <td>N</td>\n",
       "      <td>11</td>\n",
       "      <td>1</td>\n",
       "    </tr>\n",
       "  </tbody>\n",
       "</table>\n",
       "</div>"
      ],
      "text/plain": [
       "       person_age  person_income person_home_ownership  person_emp_length  \\\n",
       "11491          26          62000                  RENT                1.0   \n",
       "3890           23          39000              MORTGAGE                3.0   \n",
       "17344          24          35000                  RENT                1.0   \n",
       "13023          24          86000                  RENT                1.0   \n",
       "29565          42          38400                  RENT                4.0   \n",
       "\n",
       "             loan_intent loan_grade  loan_amnt  loan_int_rate  \\\n",
       "11491  DEBTCONSOLIDATION          B      10000          11.26   \n",
       "3890           EDUCATION          C       5000          12.98   \n",
       "17344  DEBTCONSOLIDATION          A      12000           6.54   \n",
       "13023    HOMEIMPROVEMENT          B      12000          10.65   \n",
       "29565            MEDICAL          B      13000            NaN   \n",
       "\n",
       "       loan_percent_income cb_person_default_on_file  \\\n",
       "11491                 0.16                         N   \n",
       "3890                  0.13                         N   \n",
       "17344                 0.34                         N   \n",
       "13023                 0.14                         N   \n",
       "29565                 0.34                         N   \n",
       "\n",
       "       cb_person_cred_hist_length  loan_status  \n",
       "11491                           2            0  \n",
       "3890                            4            0  \n",
       "17344                           2            1  \n",
       "13023                           3            0  \n",
       "29565                          11            1  "
      ]
     },
     "execution_count": 9,
     "metadata": {},
     "output_type": "execute_result"
    }
   ],
   "source": [
    "# Concatenate X_train and y_train as data_train\n",
    "data_train = pd.concat((X_train, y_train),\n",
    "                       axis = 1)\n",
    "\n",
    "# Validate data_train\n",
    "print('Train data shape:', data_train.shape)\n",
    "data_train.head()"
   ]
  },
  {
   "cell_type": "markdown",
   "metadata": {},
   "source": [
    "## **Binary Predictor**\n",
    "---"
   ]
  },
  {
   "cell_type": "markdown",
   "metadata": {},
   "source": [
    "- We will use variable `cb_person_default_on_file` as the binary predictor for response `loan_status`.\n",
    "- `cb_person_default_on_file` $(x)$ has 2 categories:\n",
    "  - $x$ = N --> the debtor does not have any history of defaults.\n",
    "  - $x$ = Y --> the debtor has a history of defaults on their credit file.\n",
    "- Thus, the logit model becomes: $\\text{logit} =\\beta_{0} + \\beta_{1}x$"
   ]
  },
  {
   "cell_type": "markdown",
   "metadata": {},
   "source": [
    "### Model Fitting\n",
    "---"
   ]
  },
  {
   "cell_type": "code",
   "execution_count": 10,
   "metadata": {},
   "outputs": [
    {
     "data": {
      "text/plain": [
       "11491    N\n",
       "3890     N\n",
       "17344    N\n",
       "13023    N\n",
       "29565    N\n",
       "Name: cb_person_default_on_file, dtype: object"
      ]
     },
     "execution_count": 10,
     "metadata": {},
     "output_type": "execute_result"
    }
   ],
   "source": [
    "# Define the response 'default' and binary predictor 'history'\n",
    "default = data_train[response_variable]\n",
    "history = data_train['cb_person_default_on_file']\n",
    "\n",
    "history.head()"
   ]
  },
  {
   "cell_type": "code",
   "execution_count": 11,
   "metadata": {},
   "outputs": [
    {
     "data": {
      "text/html": [
       "<div>\n",
       "<style scoped>\n",
       "    .dataframe tbody tr th:only-of-type {\n",
       "        vertical-align: middle;\n",
       "    }\n",
       "\n",
       "    .dataframe tbody tr th {\n",
       "        vertical-align: top;\n",
       "    }\n",
       "\n",
       "    .dataframe thead th {\n",
       "        text-align: right;\n",
       "    }\n",
       "</style>\n",
       "<table border=\"1\" class=\"dataframe\">\n",
       "  <thead>\n",
       "    <tr style=\"text-align: right;\">\n",
       "      <th></th>\n",
       "      <th>history_default</th>\n",
       "    </tr>\n",
       "  </thead>\n",
       "  <tbody>\n",
       "    <tr>\n",
       "      <th>11491</th>\n",
       "      <td>False</td>\n",
       "    </tr>\n",
       "    <tr>\n",
       "      <th>3890</th>\n",
       "      <td>False</td>\n",
       "    </tr>\n",
       "    <tr>\n",
       "      <th>17344</th>\n",
       "      <td>False</td>\n",
       "    </tr>\n",
       "    <tr>\n",
       "      <th>13023</th>\n",
       "      <td>False</td>\n",
       "    </tr>\n",
       "    <tr>\n",
       "      <th>29565</th>\n",
       "      <td>False</td>\n",
       "    </tr>\n",
       "  </tbody>\n",
       "</table>\n",
       "</div>"
      ],
      "text/plain": [
       "       history_default\n",
       "11491            False\n",
       "3890             False\n",
       "17344            False\n",
       "13023            False\n",
       "29565            False"
      ]
     },
     "execution_count": 11,
     "metadata": {},
     "output_type": "execute_result"
    }
   ],
   "source": [
    "# Make dummy variable where 'N' (never default) is the reference for 'history'\n",
    "# history_default = 0 --> does not have any history of defaults\n",
    "history_default = pd.get_dummies(history,\n",
    "                                 drop_first = True)\n",
    "\n",
    "# Rename the column\n",
    "history_default.columns = ['history_default']\n",
    "\n",
    "history_default.head()"
   ]
  },
  {
   "cell_type": "code",
   "execution_count": 14,
   "metadata": {},
   "outputs": [
    {
     "name": "stdout",
     "output_type": "stream",
     "text": [
      "Optimization terminated successfully.\n",
      "         Current function value: 0.510410\n",
      "         Iterations 5\n",
      "                           Logit Regression Results                           \n",
      "==============================================================================\n",
      "Dep. Variable:            loan_status   No. Observations:                22806\n",
      "Model:                          Logit   Df Residuals:                    22804\n",
      "Method:                           MLE   Df Model:                            1\n",
      "Date:                Mon, 11 Nov 2024   Pseudo R-squ.:                 0.02695\n",
      "Time:                        09:15:40   Log-Likelihood:                -11640.\n",
      "converged:                       True   LL-Null:                       -11963.\n",
      "Covariance Type:            nonrobust   LLR p-value:                2.876e-142\n",
      "===================================================================================\n",
      "                      coef    std err          z      P>|z|      [0.025      0.975]\n",
      "-----------------------------------------------------------------------------------\n",
      "const              -1.4879      0.019    -79.001      0.000      -1.525      -1.451\n",
      "history_default     0.9781      0.038     26.062      0.000       0.905       1.052\n",
      "===================================================================================\n"
     ]
    }
   ],
   "source": [
    "# Modeling with statsmodels\n",
    "# Use dummy variable 'history_default' as predictor\n",
    "\n",
    "# Load the package\n",
    "import statsmodels.api as sm\n",
    "\n",
    "# Add constant to predictor\n",
    "history_default_sm = sm.add_constant(history_default.astype(float))\n",
    "\n",
    "# Model fitting\n",
    "model_history_default = sm.Logit(endog = default,\n",
    "                                 exog = history_default_sm)\n",
    "result_history_default = model_history_default.fit()\n",
    "\n",
    "# Print the result\n",
    "print(result_history_default.summary())"
   ]
  },
  {
   "cell_type": "code",
   "execution_count": 15,
   "metadata": {},
   "outputs": [
    {
     "name": "stdout",
     "output_type": "stream",
     "text": [
      "Optimization terminated successfully.\n",
      "         Current function value: 0.510410\n",
      "         Iterations 5\n",
      "                           Logit Regression Results                           \n",
      "==============================================================================\n",
      "Dep. Variable:                default   No. Observations:                22806\n",
      "Model:                          Logit   Df Residuals:                    22804\n",
      "Method:                           MLE   Df Model:                            1\n",
      "Date:                Mon, 11 Nov 2024   Pseudo R-squ.:                 0.02695\n",
      "Time:                        09:15:53   Log-Likelihood:                -11640.\n",
      "converged:                       True   LL-Null:                       -11963.\n",
      "Covariance Type:            nonrobust   LLR p-value:                2.876e-142\n",
      "================================================================================\n",
      "                   coef    std err          z      P>|z|      [0.025      0.975]\n",
      "--------------------------------------------------------------------------------\n",
      "Intercept       -1.4879      0.019    -79.001      0.000      -1.525      -1.451\n",
      "history[T.Y]     0.9781      0.038     26.062      0.000       0.905       1.052\n",
      "================================================================================\n"
     ]
    }
   ],
   "source": [
    "# Modeling with statsmodels.formula\n",
    "# You can use the predictor as it is\n",
    "\n",
    "# Load the package\n",
    "import statsmodels.formula.api as smf\n",
    "\n",
    "# Model fitting\n",
    "model_history = smf.logit('default ~ history',\n",
    "                          data = y_train)\n",
    "result_model_history = model_history.fit()\n",
    "\n",
    "# Print the result\n",
    "print(result_model_history.summary())"
   ]
  },
  {
   "cell_type": "markdown",
   "metadata": {},
   "source": [
    "- Thus, we have the logit model:\n",
    "$$\n",
    "\\begin{align*}\n",
    "\\text{logit(historydefault)} &=\\beta_{0} + \\beta_{1} \\text{historydefault} \\\\\n",
    "\\text{logit(historydefault)} &=-1.4879 + 0.9781(\\text{historydefault})\n",
    "\\end{align*}\n",
    "$$"
   ]
  },
  {
   "cell_type": "code",
   "execution_count": 18,
   "metadata": {},
   "outputs": [
    {
     "data": {
      "text/html": [
       "<style>#sk-container-id-1 {\n",
       "  /* Definition of color scheme common for light and dark mode */\n",
       "  --sklearn-color-text: black;\n",
       "  --sklearn-color-line: gray;\n",
       "  /* Definition of color scheme for unfitted estimators */\n",
       "  --sklearn-color-unfitted-level-0: #fff5e6;\n",
       "  --sklearn-color-unfitted-level-1: #f6e4d2;\n",
       "  --sklearn-color-unfitted-level-2: #ffe0b3;\n",
       "  --sklearn-color-unfitted-level-3: chocolate;\n",
       "  /* Definition of color scheme for fitted estimators */\n",
       "  --sklearn-color-fitted-level-0: #f0f8ff;\n",
       "  --sklearn-color-fitted-level-1: #d4ebff;\n",
       "  --sklearn-color-fitted-level-2: #b3dbfd;\n",
       "  --sklearn-color-fitted-level-3: cornflowerblue;\n",
       "\n",
       "  /* Specific color for light theme */\n",
       "  --sklearn-color-text-on-default-background: var(--sg-text-color, var(--theme-code-foreground, var(--jp-content-font-color1, black)));\n",
       "  --sklearn-color-background: var(--sg-background-color, var(--theme-background, var(--jp-layout-color0, white)));\n",
       "  --sklearn-color-border-box: var(--sg-text-color, var(--theme-code-foreground, var(--jp-content-font-color1, black)));\n",
       "  --sklearn-color-icon: #696969;\n",
       "\n",
       "  @media (prefers-color-scheme: dark) {\n",
       "    /* Redefinition of color scheme for dark theme */\n",
       "    --sklearn-color-text-on-default-background: var(--sg-text-color, var(--theme-code-foreground, var(--jp-content-font-color1, white)));\n",
       "    --sklearn-color-background: var(--sg-background-color, var(--theme-background, var(--jp-layout-color0, #111)));\n",
       "    --sklearn-color-border-box: var(--sg-text-color, var(--theme-code-foreground, var(--jp-content-font-color1, white)));\n",
       "    --sklearn-color-icon: #878787;\n",
       "  }\n",
       "}\n",
       "\n",
       "#sk-container-id-1 {\n",
       "  color: var(--sklearn-color-text);\n",
       "}\n",
       "\n",
       "#sk-container-id-1 pre {\n",
       "  padding: 0;\n",
       "}\n",
       "\n",
       "#sk-container-id-1 input.sk-hidden--visually {\n",
       "  border: 0;\n",
       "  clip: rect(1px 1px 1px 1px);\n",
       "  clip: rect(1px, 1px, 1px, 1px);\n",
       "  height: 1px;\n",
       "  margin: -1px;\n",
       "  overflow: hidden;\n",
       "  padding: 0;\n",
       "  position: absolute;\n",
       "  width: 1px;\n",
       "}\n",
       "\n",
       "#sk-container-id-1 div.sk-dashed-wrapped {\n",
       "  border: 1px dashed var(--sklearn-color-line);\n",
       "  margin: 0 0.4em 0.5em 0.4em;\n",
       "  box-sizing: border-box;\n",
       "  padding-bottom: 0.4em;\n",
       "  background-color: var(--sklearn-color-background);\n",
       "}\n",
       "\n",
       "#sk-container-id-1 div.sk-container {\n",
       "  /* jupyter's `normalize.less` sets `[hidden] { display: none; }`\n",
       "     but bootstrap.min.css set `[hidden] { display: none !important; }`\n",
       "     so we also need the `!important` here to be able to override the\n",
       "     default hidden behavior on the sphinx rendered scikit-learn.org.\n",
       "     See: https://github.com/scikit-learn/scikit-learn/issues/21755 */\n",
       "  display: inline-block !important;\n",
       "  position: relative;\n",
       "}\n",
       "\n",
       "#sk-container-id-1 div.sk-text-repr-fallback {\n",
       "  display: none;\n",
       "}\n",
       "\n",
       "div.sk-parallel-item,\n",
       "div.sk-serial,\n",
       "div.sk-item {\n",
       "  /* draw centered vertical line to link estimators */\n",
       "  background-image: linear-gradient(var(--sklearn-color-text-on-default-background), var(--sklearn-color-text-on-default-background));\n",
       "  background-size: 2px 100%;\n",
       "  background-repeat: no-repeat;\n",
       "  background-position: center center;\n",
       "}\n",
       "\n",
       "/* Parallel-specific style estimator block */\n",
       "\n",
       "#sk-container-id-1 div.sk-parallel-item::after {\n",
       "  content: \"\";\n",
       "  width: 100%;\n",
       "  border-bottom: 2px solid var(--sklearn-color-text-on-default-background);\n",
       "  flex-grow: 1;\n",
       "}\n",
       "\n",
       "#sk-container-id-1 div.sk-parallel {\n",
       "  display: flex;\n",
       "  align-items: stretch;\n",
       "  justify-content: center;\n",
       "  background-color: var(--sklearn-color-background);\n",
       "  position: relative;\n",
       "}\n",
       "\n",
       "#sk-container-id-1 div.sk-parallel-item {\n",
       "  display: flex;\n",
       "  flex-direction: column;\n",
       "}\n",
       "\n",
       "#sk-container-id-1 div.sk-parallel-item:first-child::after {\n",
       "  align-self: flex-end;\n",
       "  width: 50%;\n",
       "}\n",
       "\n",
       "#sk-container-id-1 div.sk-parallel-item:last-child::after {\n",
       "  align-self: flex-start;\n",
       "  width: 50%;\n",
       "}\n",
       "\n",
       "#sk-container-id-1 div.sk-parallel-item:only-child::after {\n",
       "  width: 0;\n",
       "}\n",
       "\n",
       "/* Serial-specific style estimator block */\n",
       "\n",
       "#sk-container-id-1 div.sk-serial {\n",
       "  display: flex;\n",
       "  flex-direction: column;\n",
       "  align-items: center;\n",
       "  background-color: var(--sklearn-color-background);\n",
       "  padding-right: 1em;\n",
       "  padding-left: 1em;\n",
       "}\n",
       "\n",
       "\n",
       "/* Toggleable style: style used for estimator/Pipeline/ColumnTransformer box that is\n",
       "clickable and can be expanded/collapsed.\n",
       "- Pipeline and ColumnTransformer use this feature and define the default style\n",
       "- Estimators will overwrite some part of the style using the `sk-estimator` class\n",
       "*/\n",
       "\n",
       "/* Pipeline and ColumnTransformer style (default) */\n",
       "\n",
       "#sk-container-id-1 div.sk-toggleable {\n",
       "  /* Default theme specific background. It is overwritten whether we have a\n",
       "  specific estimator or a Pipeline/ColumnTransformer */\n",
       "  background-color: var(--sklearn-color-background);\n",
       "}\n",
       "\n",
       "/* Toggleable label */\n",
       "#sk-container-id-1 label.sk-toggleable__label {\n",
       "  cursor: pointer;\n",
       "  display: block;\n",
       "  width: 100%;\n",
       "  margin-bottom: 0;\n",
       "  padding: 0.5em;\n",
       "  box-sizing: border-box;\n",
       "  text-align: center;\n",
       "}\n",
       "\n",
       "#sk-container-id-1 label.sk-toggleable__label-arrow:before {\n",
       "  /* Arrow on the left of the label */\n",
       "  content: \"▸\";\n",
       "  float: left;\n",
       "  margin-right: 0.25em;\n",
       "  color: var(--sklearn-color-icon);\n",
       "}\n",
       "\n",
       "#sk-container-id-1 label.sk-toggleable__label-arrow:hover:before {\n",
       "  color: var(--sklearn-color-text);\n",
       "}\n",
       "\n",
       "/* Toggleable content - dropdown */\n",
       "\n",
       "#sk-container-id-1 div.sk-toggleable__content {\n",
       "  max-height: 0;\n",
       "  max-width: 0;\n",
       "  overflow: hidden;\n",
       "  text-align: left;\n",
       "  /* unfitted */\n",
       "  background-color: var(--sklearn-color-unfitted-level-0);\n",
       "}\n",
       "\n",
       "#sk-container-id-1 div.sk-toggleable__content.fitted {\n",
       "  /* fitted */\n",
       "  background-color: var(--sklearn-color-fitted-level-0);\n",
       "}\n",
       "\n",
       "#sk-container-id-1 div.sk-toggleable__content pre {\n",
       "  margin: 0.2em;\n",
       "  border-radius: 0.25em;\n",
       "  color: var(--sklearn-color-text);\n",
       "  /* unfitted */\n",
       "  background-color: var(--sklearn-color-unfitted-level-0);\n",
       "}\n",
       "\n",
       "#sk-container-id-1 div.sk-toggleable__content.fitted pre {\n",
       "  /* unfitted */\n",
       "  background-color: var(--sklearn-color-fitted-level-0);\n",
       "}\n",
       "\n",
       "#sk-container-id-1 input.sk-toggleable__control:checked~div.sk-toggleable__content {\n",
       "  /* Expand drop-down */\n",
       "  max-height: 200px;\n",
       "  max-width: 100%;\n",
       "  overflow: auto;\n",
       "}\n",
       "\n",
       "#sk-container-id-1 input.sk-toggleable__control:checked~label.sk-toggleable__label-arrow:before {\n",
       "  content: \"▾\";\n",
       "}\n",
       "\n",
       "/* Pipeline/ColumnTransformer-specific style */\n",
       "\n",
       "#sk-container-id-1 div.sk-label input.sk-toggleable__control:checked~label.sk-toggleable__label {\n",
       "  color: var(--sklearn-color-text);\n",
       "  background-color: var(--sklearn-color-unfitted-level-2);\n",
       "}\n",
       "\n",
       "#sk-container-id-1 div.sk-label.fitted input.sk-toggleable__control:checked~label.sk-toggleable__label {\n",
       "  background-color: var(--sklearn-color-fitted-level-2);\n",
       "}\n",
       "\n",
       "/* Estimator-specific style */\n",
       "\n",
       "/* Colorize estimator box */\n",
       "#sk-container-id-1 div.sk-estimator input.sk-toggleable__control:checked~label.sk-toggleable__label {\n",
       "  /* unfitted */\n",
       "  background-color: var(--sklearn-color-unfitted-level-2);\n",
       "}\n",
       "\n",
       "#sk-container-id-1 div.sk-estimator.fitted input.sk-toggleable__control:checked~label.sk-toggleable__label {\n",
       "  /* fitted */\n",
       "  background-color: var(--sklearn-color-fitted-level-2);\n",
       "}\n",
       "\n",
       "#sk-container-id-1 div.sk-label label.sk-toggleable__label,\n",
       "#sk-container-id-1 div.sk-label label {\n",
       "  /* The background is the default theme color */\n",
       "  color: var(--sklearn-color-text-on-default-background);\n",
       "}\n",
       "\n",
       "/* On hover, darken the color of the background */\n",
       "#sk-container-id-1 div.sk-label:hover label.sk-toggleable__label {\n",
       "  color: var(--sklearn-color-text);\n",
       "  background-color: var(--sklearn-color-unfitted-level-2);\n",
       "}\n",
       "\n",
       "/* Label box, darken color on hover, fitted */\n",
       "#sk-container-id-1 div.sk-label.fitted:hover label.sk-toggleable__label.fitted {\n",
       "  color: var(--sklearn-color-text);\n",
       "  background-color: var(--sklearn-color-fitted-level-2);\n",
       "}\n",
       "\n",
       "/* Estimator label */\n",
       "\n",
       "#sk-container-id-1 div.sk-label label {\n",
       "  font-family: monospace;\n",
       "  font-weight: bold;\n",
       "  display: inline-block;\n",
       "  line-height: 1.2em;\n",
       "}\n",
       "\n",
       "#sk-container-id-1 div.sk-label-container {\n",
       "  text-align: center;\n",
       "}\n",
       "\n",
       "/* Estimator-specific */\n",
       "#sk-container-id-1 div.sk-estimator {\n",
       "  font-family: monospace;\n",
       "  border: 1px dotted var(--sklearn-color-border-box);\n",
       "  border-radius: 0.25em;\n",
       "  box-sizing: border-box;\n",
       "  margin-bottom: 0.5em;\n",
       "  /* unfitted */\n",
       "  background-color: var(--sklearn-color-unfitted-level-0);\n",
       "}\n",
       "\n",
       "#sk-container-id-1 div.sk-estimator.fitted {\n",
       "  /* fitted */\n",
       "  background-color: var(--sklearn-color-fitted-level-0);\n",
       "}\n",
       "\n",
       "/* on hover */\n",
       "#sk-container-id-1 div.sk-estimator:hover {\n",
       "  /* unfitted */\n",
       "  background-color: var(--sklearn-color-unfitted-level-2);\n",
       "}\n",
       "\n",
       "#sk-container-id-1 div.sk-estimator.fitted:hover {\n",
       "  /* fitted */\n",
       "  background-color: var(--sklearn-color-fitted-level-2);\n",
       "}\n",
       "\n",
       "/* Specification for estimator info (e.g. \"i\" and \"?\") */\n",
       "\n",
       "/* Common style for \"i\" and \"?\" */\n",
       "\n",
       ".sk-estimator-doc-link,\n",
       "a:link.sk-estimator-doc-link,\n",
       "a:visited.sk-estimator-doc-link {\n",
       "  float: right;\n",
       "  font-size: smaller;\n",
       "  line-height: 1em;\n",
       "  font-family: monospace;\n",
       "  background-color: var(--sklearn-color-background);\n",
       "  border-radius: 1em;\n",
       "  height: 1em;\n",
       "  width: 1em;\n",
       "  text-decoration: none !important;\n",
       "  margin-left: 1ex;\n",
       "  /* unfitted */\n",
       "  border: var(--sklearn-color-unfitted-level-1) 1pt solid;\n",
       "  color: var(--sklearn-color-unfitted-level-1);\n",
       "}\n",
       "\n",
       ".sk-estimator-doc-link.fitted,\n",
       "a:link.sk-estimator-doc-link.fitted,\n",
       "a:visited.sk-estimator-doc-link.fitted {\n",
       "  /* fitted */\n",
       "  border: var(--sklearn-color-fitted-level-1) 1pt solid;\n",
       "  color: var(--sklearn-color-fitted-level-1);\n",
       "}\n",
       "\n",
       "/* On hover */\n",
       "div.sk-estimator:hover .sk-estimator-doc-link:hover,\n",
       ".sk-estimator-doc-link:hover,\n",
       "div.sk-label-container:hover .sk-estimator-doc-link:hover,\n",
       ".sk-estimator-doc-link:hover {\n",
       "  /* unfitted */\n",
       "  background-color: var(--sklearn-color-unfitted-level-3);\n",
       "  color: var(--sklearn-color-background);\n",
       "  text-decoration: none;\n",
       "}\n",
       "\n",
       "div.sk-estimator.fitted:hover .sk-estimator-doc-link.fitted:hover,\n",
       ".sk-estimator-doc-link.fitted:hover,\n",
       "div.sk-label-container:hover .sk-estimator-doc-link.fitted:hover,\n",
       ".sk-estimator-doc-link.fitted:hover {\n",
       "  /* fitted */\n",
       "  background-color: var(--sklearn-color-fitted-level-3);\n",
       "  color: var(--sklearn-color-background);\n",
       "  text-decoration: none;\n",
       "}\n",
       "\n",
       "/* Span, style for the box shown on hovering the info icon */\n",
       ".sk-estimator-doc-link span {\n",
       "  display: none;\n",
       "  z-index: 9999;\n",
       "  position: relative;\n",
       "  font-weight: normal;\n",
       "  right: .2ex;\n",
       "  padding: .5ex;\n",
       "  margin: .5ex;\n",
       "  width: min-content;\n",
       "  min-width: 20ex;\n",
       "  max-width: 50ex;\n",
       "  color: var(--sklearn-color-text);\n",
       "  box-shadow: 2pt 2pt 4pt #999;\n",
       "  /* unfitted */\n",
       "  background: var(--sklearn-color-unfitted-level-0);\n",
       "  border: .5pt solid var(--sklearn-color-unfitted-level-3);\n",
       "}\n",
       "\n",
       ".sk-estimator-doc-link.fitted span {\n",
       "  /* fitted */\n",
       "  background: var(--sklearn-color-fitted-level-0);\n",
       "  border: var(--sklearn-color-fitted-level-3);\n",
       "}\n",
       "\n",
       ".sk-estimator-doc-link:hover span {\n",
       "  display: block;\n",
       "}\n",
       "\n",
       "/* \"?\"-specific style due to the `<a>` HTML tag */\n",
       "\n",
       "#sk-container-id-1 a.estimator_doc_link {\n",
       "  float: right;\n",
       "  font-size: 1rem;\n",
       "  line-height: 1em;\n",
       "  font-family: monospace;\n",
       "  background-color: var(--sklearn-color-background);\n",
       "  border-radius: 1rem;\n",
       "  height: 1rem;\n",
       "  width: 1rem;\n",
       "  text-decoration: none;\n",
       "  /* unfitted */\n",
       "  color: var(--sklearn-color-unfitted-level-1);\n",
       "  border: var(--sklearn-color-unfitted-level-1) 1pt solid;\n",
       "}\n",
       "\n",
       "#sk-container-id-1 a.estimator_doc_link.fitted {\n",
       "  /* fitted */\n",
       "  border: var(--sklearn-color-fitted-level-1) 1pt solid;\n",
       "  color: var(--sklearn-color-fitted-level-1);\n",
       "}\n",
       "\n",
       "/* On hover */\n",
       "#sk-container-id-1 a.estimator_doc_link:hover {\n",
       "  /* unfitted */\n",
       "  background-color: var(--sklearn-color-unfitted-level-3);\n",
       "  color: var(--sklearn-color-background);\n",
       "  text-decoration: none;\n",
       "}\n",
       "\n",
       "#sk-container-id-1 a.estimator_doc_link.fitted:hover {\n",
       "  /* fitted */\n",
       "  background-color: var(--sklearn-color-fitted-level-3);\n",
       "}\n",
       "</style><div id=\"sk-container-id-1\" class=\"sk-top-container\"><div class=\"sk-text-repr-fallback\"><pre>LogisticRegression(penalty=None)</pre><b>In a Jupyter environment, please rerun this cell to show the HTML representation or trust the notebook. <br />On GitHub, the HTML representation is unable to render, please try loading this page with nbviewer.org.</b></div><div class=\"sk-container\" hidden><div class=\"sk-item\"><div class=\"sk-estimator fitted sk-toggleable\"><input class=\"sk-toggleable__control sk-hidden--visually\" id=\"sk-estimator-id-1\" type=\"checkbox\" checked><label for=\"sk-estimator-id-1\" class=\"sk-toggleable__label fitted sk-toggleable__label-arrow fitted\">&nbsp;&nbsp;LogisticRegression<a class=\"sk-estimator-doc-link fitted\" rel=\"noreferrer\" target=\"_blank\" href=\"https://scikit-learn.org/1.5/modules/generated/sklearn.linear_model.LogisticRegression.html\">?<span>Documentation for LogisticRegression</span></a><span class=\"sk-estimator-doc-link fitted\">i<span>Fitted</span></span></label><div class=\"sk-toggleable__content fitted\"><pre>LogisticRegression(penalty=None)</pre></div> </div></div></div></div>"
      ],
      "text/plain": [
       "LogisticRegression(penalty=None)"
      ]
     },
     "execution_count": 18,
     "metadata": {},
     "output_type": "execute_result"
    }
   ],
   "source": [
    "# Modelling with sklearn\n",
    "\n",
    "# Load Statistics package\n",
    "from sklearn.linear_model import LogisticRegression\n",
    "\n",
    "# Create the object\n",
    "model_history_sk = LogisticRegression(penalty = None)\n",
    "\n",
    "# Use dummy variable 'history_default' as predictor\n",
    "model_history_sk.fit(X = history_default,\n",
    "                     y = default)"
   ]
  },
  {
   "cell_type": "markdown",
   "metadata": {},
   "source": [
    "Extract $\\beta_{0}$ estimate."
   ]
  },
  {
   "cell_type": "code",
   "execution_count": 19,
   "metadata": {},
   "outputs": [
    {
     "data": {
      "text/plain": [
       "array([-1.48802833])"
      ]
     },
     "execution_count": 19,
     "metadata": {},
     "output_type": "execute_result"
    }
   ],
   "source": [
    "# Print the parameter estimate of b0\n",
    "b0_history = model_history_sk.intercept_\n",
    "b0_history"
   ]
  },
  {
   "cell_type": "markdown",
   "metadata": {},
   "source": [
    "Extract $\\beta_{1}$ estimate."
   ]
  },
  {
   "cell_type": "code",
   "execution_count": 20,
   "metadata": {},
   "outputs": [
    {
     "data": {
      "text/plain": [
       "array([[0.97818755]])"
      ]
     },
     "execution_count": 20,
     "metadata": {},
     "output_type": "execute_result"
    }
   ],
   "source": [
    "# Print the parameter estimate of b1\n",
    "b1_history = model_history_sk.coef_\n",
    "b1_history"
   ]
  },
  {
   "cell_type": "markdown",
   "metadata": {},
   "source": [
    "We already fit logistic regression model with:\n",
    "1. `statsmodels.api`\n",
    "2. `statsmodels.formula.api`\n",
    "3. `sklearn.linear_model`\n",
    "\n",
    "To keep it simple for interpreting the parameter estimates, next we will use only `statsmodels.api` to fit the logistic regression model since its package yields the summarized output for the fitted model."
   ]
  },
  {
   "cell_type": "markdown",
   "metadata": {},
   "source": [
    "### Interpretation\n",
    "---"
   ]
  },
  {
   "cell_type": "markdown",
   "metadata": {},
   "source": [
    "Interpretation for $\\beta_{0}$.\n",
    "- $\\beta_{0}$ is the logit value when $x=0$ or $x$= reference.\n",
    "- Thus, $\\beta_{0}$ is the logit or log odds of success of reference category.\n",
    "- $\\text{odds(reference)}=\\exp(\\beta_{0})$"
   ]
  },
  {
   "cell_type": "code",
   "execution_count": 22,
   "metadata": {},
   "outputs": [
    {
     "name": "stdout",
     "output_type": "stream",
     "text": [
      "The odds of default for those who have never been in default is 0.23.\n"
     ]
    }
   ],
   "source": [
    "# Calculate odds of reference: does not have any history of defaults\n",
    "odds_never_default = np.exp(b0_history)\n",
    "\n",
    "print(f\"The odds of default for those who have never been in default is {odds_never_default[0]:.2f}.\")"
   ]
  },
  {
   "cell_type": "markdown",
   "metadata": {},
   "source": [
    "Interpretation:\n",
    "> Debtors who have never been in default are less likely to default."
   ]
  },
  {
   "cell_type": "markdown",
   "metadata": {},
   "source": [
    "Interpretation for $\\beta_{1}$."
   ]
  },
  {
   "cell_type": "code",
   "execution_count": 23,
   "metadata": {},
   "outputs": [
    {
     "name": "stdout",
     "output_type": "stream",
     "text": [
      "OR (ever default, never default) = 2.66\n"
     ]
    }
   ],
   "source": [
    "# Calculate the OR between history_default=1 and history_default=0\n",
    "odds_ratio_history = np.exp(b1_history)\n",
    "\n",
    "print(f\"OR (ever default, never default) = {odds_ratio_history[0][0]:.2f}\")"
   ]
  },
  {
   "cell_type": "markdown",
   "metadata": {},
   "source": [
    "Interpretation:\n",
    "> Debtors who have been in default tend to default again than those who have never been in default. The odds of default for debtors who have been in default is 2.66 times the odds for those who have never been in default."
   ]
  },
  {
   "cell_type": "markdown",
   "metadata": {},
   "source": [
    "Let's prove the Odds Ratio formula above."
   ]
  },
  {
   "cell_type": "code",
   "execution_count": 24,
   "metadata": {},
   "outputs": [
    {
     "data": {
      "text/html": [
       "<div>\n",
       "<style scoped>\n",
       "    .dataframe tbody tr th:only-of-type {\n",
       "        vertical-align: middle;\n",
       "    }\n",
       "\n",
       "    .dataframe tbody tr th {\n",
       "        vertical-align: top;\n",
       "    }\n",
       "\n",
       "    .dataframe thead th {\n",
       "        text-align: right;\n",
       "    }\n",
       "</style>\n",
       "<table border=\"1\" class=\"dataframe\">\n",
       "  <thead>\n",
       "    <tr style=\"text-align: right;\">\n",
       "      <th>loan_status</th>\n",
       "      <th>0</th>\n",
       "      <th>1</th>\n",
       "      <th>All</th>\n",
       "    </tr>\n",
       "    <tr>\n",
       "      <th>cb_person_default_on_file</th>\n",
       "      <th></th>\n",
       "      <th></th>\n",
       "      <th></th>\n",
       "    </tr>\n",
       "  </thead>\n",
       "  <tbody>\n",
       "    <tr>\n",
       "      <th>N</th>\n",
       "      <td>15302</td>\n",
       "      <td>3456</td>\n",
       "      <td>18758</td>\n",
       "    </tr>\n",
       "    <tr>\n",
       "      <th>Y</th>\n",
       "      <td>2529</td>\n",
       "      <td>1519</td>\n",
       "      <td>4048</td>\n",
       "    </tr>\n",
       "    <tr>\n",
       "      <th>All</th>\n",
       "      <td>17831</td>\n",
       "      <td>4975</td>\n",
       "      <td>22806</td>\n",
       "    </tr>\n",
       "  </tbody>\n",
       "</table>\n",
       "</div>"
      ],
      "text/plain": [
       "loan_status                    0     1    All\n",
       "cb_person_default_on_file                    \n",
       "N                          15302  3456  18758\n",
       "Y                           2529  1519   4048\n",
       "All                        17831  4975  22806"
      ]
     },
     "execution_count": 24,
     "metadata": {},
     "output_type": "execute_result"
    }
   ],
   "source": [
    "# Contingency table 'default' and 'history'\n",
    "crosstab_history = pd.crosstab(history,\n",
    "                               default,\n",
    "                               margins = True)\n",
    "crosstab_history"
   ]
  },
  {
   "cell_type": "code",
   "execution_count": 25,
   "metadata": {},
   "outputs": [
    {
     "data": {
      "text/plain": [
       "0.6006326611308818"
      ]
     },
     "execution_count": 25,
     "metadata": {},
     "output_type": "execute_result"
    }
   ],
   "source": [
    "# Calculate the odds of default for debtors who have been in default\n",
    "default_and_ever_default = crosstab_history[1]['Y']\n",
    "non_default_and_ever_default  = crosstab_history[0]['Y']\n",
    "\n",
    "odds_ever_default = default_and_ever_default/non_default_and_ever_default\n",
    "odds_ever_default"
   ]
  },
  {
   "cell_type": "code",
   "execution_count": 26,
   "metadata": {},
   "outputs": [
    {
     "data": {
      "text/plain": [
       "0.22585282969546464"
      ]
     },
     "execution_count": 26,
     "metadata": {},
     "output_type": "execute_result"
    }
   ],
   "source": [
    "# Calculate the odds of default for debtors who have NEVER been in default\n",
    "default_and_never_default = crosstab_history[1]['N']\n",
    "non_default_and_never_default  = crosstab_history[0]['N']\n",
    "\n",
    "odds_never_default = default_and_never_default/non_default_and_never_default\n",
    "odds_never_default"
   ]
  },
  {
   "cell_type": "markdown",
   "metadata": {},
   "source": [
    "The odds of default for those who have never been in default is proven."
   ]
  },
  {
   "cell_type": "code",
   "execution_count": 27,
   "metadata": {},
   "outputs": [
    {
     "data": {
      "text/plain": [
       "2.6593984318937363"
      ]
     },
     "execution_count": 27,
     "metadata": {},
     "output_type": "execute_result"
    }
   ],
   "source": [
    "# Calculate the OR\n",
    "odds_ratio_history = odds_ever_default / odds_never_default\n",
    "odds_ratio_history"
   ]
  },
  {
   "cell_type": "markdown",
   "metadata": {},
   "source": [
    "OR (ever default, never default) = 2.66 is proven."
   ]
  },
  {
   "cell_type": "code",
   "execution_count": null,
   "metadata": {},
   "outputs": [],
   "source": []
  }
 ],
 "metadata": {
  "kernelspec": {
   "display_name": ".venv",
   "language": "python",
   "name": "python3"
  },
  "language_info": {
   "codemirror_mode": {
    "name": "ipython",
    "version": 3
   },
   "file_extension": ".py",
   "mimetype": "text/x-python",
   "name": "python",
   "nbconvert_exporter": "python",
   "pygments_lexer": "ipython3",
   "version": "3.9.5"
  }
 },
 "nbformat": 4,
 "nbformat_minor": 2
}
